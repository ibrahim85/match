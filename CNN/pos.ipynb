{
 "cells": [
  {
   "cell_type": "markdown",
   "metadata": {
    "slideshow": {
     "slide_type": "slide"
    }
   },
   "source": [
    "# Readability Assessment throughConvolutional Neural Network"
   ]
  },
  {
   "cell_type": "markdown",
   "metadata": {
    "slideshow": {
     "slide_type": "slide"
    }
   },
   "source": [
    "Readability assessment is a well known problem in natural language processing field. Giving someone the suitable text for his level of comprehension (not so easy and not so hard) could maximize his understanding and enjoyment. In this notebook we are trying to assess the readability of a given text regardless of the text subject using recurrent neural network."
   ]
  },
  {
   "cell_type": "markdown",
   "metadata": {
    "pycharm": {
     "name": "#%% md\n"
    },
    "slideshow": {
     "slide_type": "slide"
    }
   },
   "source": [
    "## Corpus\n",
    "> OneStopEnglish corpus: A new corpus for automatic readability assessment and text simplification  \n",
    "> Sowmya Vajjala and Ivana Lučić  \n",
    "> 2018  \n",
    "> Proceedings of the Thirteenth Workshop on Innovative Use of NLP for Building Educational Applications, pages 297–304. Association for Computational Linguistics.  \n",
    "> [url](http://aclweb.org/anthology/W18-0535). [bib file](https://aclanthology.coli.uni-saarland.de/papers/W18-0535/w18-0535.bib)\n",
    "\n",
    "Please cite the above paper if you use this corpus in your research.\n",
    "\n",
    "[![DOI](https://zenodo.org/badge/128919409.svg)](https://zenodo.org/badge/latestdoi/128919409)\n",
    "\n",
    "<a rel=\"license\" href=\"http://creativecommons.org/licenses/by-sa/4.0/\"><img alt=\"Creative Commons License\" style=\"border-width:0\" src=\"https://i.creativecommons.org/l/by-sa/4.0/88x31.png\" /></a><br />This work is licensed under a <a rel=\"license\" href=\"http://creativecommons.org/licenses/by-sa/4.0/\">Creative Commons Attribution-ShareAlike 4.0 International License</a>."
   ]
  },
  {
   "cell_type": "markdown",
   "metadata": {
    "pycharm": {
     "name": "#%% md\n"
    },
    "slideshow": {
     "slide_type": "slide"
    }
   },
   "source": [
    "Now let's dive into our corpus."
   ]
  },
  {
   "cell_type": "code",
   "execution_count": 22,
   "metadata": {
    "pycharm": {
     "is_executing": false,
     "name": "#%%\n"
    },
    "slideshow": {
     "slide_type": "slide"
    }
   },
   "outputs": [],
   "source": [
    "import sys\n",
    "sys.path.append(\"/home/ms10596/PycharmProjects/match\")\n",
    "from ipywidgets import interact\n",
    "from tabulate import tabulate\n",
    "from IPython.display import display, HTML\n",
    "\n",
    "from utils.loading import load_glove_embeddings\n",
    "from utils.one_stop_english import load_corpus, corpus_to_words, corpus_to_pos, detokenize\n",
    "\n",
    "from tensorflow.keras.preprocessing.text import Tokenizer\n",
    "from tensorflow.keras.preprocessing.sequence import pad_sequences\n",
    "from tensorflow.keras.utils import to_categorical\n",
    "from tensorflow.keras.models import Sequential\n",
    "from tensorflow.keras.layers import Embedding, Flatten, Dense, LSTM, Bidirectional,Conv1D,MaxPooling1D,GlobalMaxPooling1D, Dropout\n",
    "from tensorflow.keras.optimizers import RMSprop\n",
    "from tensorflow.keras.constraints import max_norm\n",
    "from tensorflow.keras.regularizers import l1, l2, l1_l2\n",
    "from tensorflow.keras.callbacks import EarlyStopping\n",
    "\n",
    "import numpy as np\n",
    "\n",
    "corpus = load_corpus()\n",
    "articles_words, tags = corpus_to_words(corpus)\n",
    "articles_pos, tags = corpus_to_pos(corpus)"
   ]
  },
  {
   "cell_type": "markdown",
   "metadata": {
    "slideshow": {
     "slide_type": "slide"
    }
   },
   "source": [
    "Reading level|Avg. Num. Words|Std. Dev|Number of Articles\n",
    "---|---|---|---\n",
    "Elementary|533.17|103.79|189\n",
    "Intermediate|676.59|117.15|189\n",
    "Advanced|820.49|162.52|189\n",
    "\n"
   ]
  },
  {
   "cell_type": "code",
   "execution_count": 23,
   "metadata": {
    "pycharm": {
     "is_executing": false
    },
    "slideshow": {
     "slide_type": "subslide"
    }
   },
   "outputs": [
    {
     "data": {
      "application/vnd.jupyter.widget-view+json": {
       "model_id": "6521ff54dab5409f8e30c8cef1b742b4",
       "version_major": 2,
       "version_minor": 0
      },
      "text/plain": [
       "interactive(children=(IntSlider(value=94, description='i', max=188), IntSlider(value=500, description='words',…"
      ]
     },
     "metadata": {},
     "output_type": "display_data"
    }
   ],
   "source": [
    "@interact\n",
    "def show_articles(i=(0,188,1), words=(0,1000,1)):\n",
    "    data = [\n",
    "        [\"Advanced\",detokenize(articles_words[i][:words])], \n",
    "        [\"Intermediate\",detokenize(articles_words[i+2][:words])], \n",
    "        [\"Elementary\",detokenize(articles_words[i+1][:words])]\n",
    "    ]\n",
    "    headers = ['Reading Level', 'Example']\n",
    "    display(HTML(tabulate(data,tablefmt='html', headers=headers)+\"<style>th,td {font-size: 10px}</style>\"))"
   ]
  },
  {
   "cell_type": "code",
   "execution_count": 24,
   "metadata": {},
   "outputs": [
    {
     "name": "stdout",
     "output_type": "stream",
     "text": [
      "['When', 'you', 'see', 'the', 'word', 'Amazon', ',', 'whats', 'the', 'first']\n",
      "['WRB', 'PRP', 'VB', 'DT', 'NN', 'NN', ',', 'VBZ', 'DT', 'JJ']\n"
     ]
    }
   ],
   "source": [
    "print(articles_words[0][:10])\n",
    "print(articles_pos[0][:10])"
   ]
  },
  {
   "cell_type": "code",
   "execution_count": 25,
   "metadata": {
    "pycharm": {
     "is_executing": false,
     "name": "#%%\n"
    },
    "slideshow": {
     "slide_type": "slide"
    }
   },
   "outputs": [
    {
     "name": "stdout",
     "output_type": "stream",
     "text": [
      "{'nn': 1, 'in': 2, 'dt': 3, 'jj': 4, 'nns': 5, 'nnp': 6, ',': 7, '.': 8, 'rb': 9, 'prp': 10, 'vb': 11, 'vbd': 12, 'cc': 13, 'vbz': 14, 'to': 15, 'vbp': 16, 'cd': 17, 'vbn': 18, 'vbg': 19, 'prp$': 20, 'md': 21, 'wdt': 22, 'wrb': 23, 'wp': 24, 'jjr': 25, 'rp': 26, ':': 27, 'jjs': 28, 'ex': 29, 'rbr': 30, 'nnps': 31, '-rrb-': 32, '-lrb-': 33, 'rbs': 34, 'pdt': 35, '$': 36, 'fw': 37, 'uh': 38, 'wp$': 39, 'sym': 40, \"''\": 41, 'ls': 42, 'pos': 43, '``': 44}\n"
     ]
    }
   ],
   "source": [
    "maxlen = 1000 # Cuts off reviews after 1000 words\n",
    "max_words = 45\n",
    "tokenizer = Tokenizer(num_words=max_words)\n",
    "tokenizer.fit_on_texts(articles_pos)\n",
    "print(tokenizer.word_index)"
   ]
  },
  {
   "cell_type": "code",
   "execution_count": 26,
   "metadata": {},
   "outputs": [
    {
     "name": "stdout",
     "output_type": "stream",
     "text": [
      "(567,)\n",
      "[23, 10, 11, 3, 1, 1, 7, 14, 3, 4]\n"
     ]
    }
   ],
   "source": [
    "sequences = tokenizer.texts_to_sequences(articles_pos)\n",
    "print(np.shape(sequences))\n",
    "print(sequences[0][:10])"
   ]
  },
  {
   "cell_type": "code",
   "execution_count": 27,
   "metadata": {},
   "outputs": [
    {
     "name": "stdout",
     "output_type": "stream",
     "text": [
      "[23 10 11  3  1  1  7 14  3  4  1 22 14 15 11  3  4 28  1  7  3 28  1 13\n",
      "  3 28  1  1 13 22 16 10 16 34  4  8  3  5 16 18 15  3  1  2  3  4  7 13\n",
      "  9  4  7  1  2 23 15 11  3  5  2  3  1  8  6 13  6 16 18  5 15  3  1 18\n",
      "  2  3  6  4  1  2  3  4  4  1  2  1 27  8 11  8  3  4  1 14 18  2 20  1\n",
      " 15 11  3  4  1  1 19  9  8  4 32  7 13  3  6  6  5 16  3 21 11  3  1  2\n",
      "  3  1  1  2  4  1  7  3  1  2  4  5 13  4  4  1 14  8  9  2  5  2  4  4\n",
      "  5 15  5  7 19  8  6  6  8  4  7  3  1 14 15  3  1  2  5  2  3  1 13  1\n",
      "  2  3  1  8  2  9  7  3  5  2  4  7  4 13  4  5  2  1 12  9  4  2  3  1\n",
      "  1  2  8  1 14  8  1 13 17  4  5  8 13  3  5 13  4  4  5 33  5 32  2 10\n",
      " 16  9 18 16  2 15 11  3 28  1  2  3  1  2  3  4  1  8  3  6  6  2  6 31\n",
      " 13 31 33  6 32  3  4  4  1 22 14  3  4  1  2  1  1 14 18  5 33  3  9  4\n",
      "  9 36 17 32  2  5  2  4  5 15 11 15  3  4 17  8  6 14 18  2  5  2  4  5\n",
      "  7 19  8  1 14  8  1 14  8  1 11  8 11  8 13 20 34  4  1 14  2 20  4  1\n",
      "  8  6 13  6 16 18  2  3  8  1  1 15 11 18  7 19  3  4  1 21  9 11 18  3\n",
      "  1 22 14  3  4  4  1 22 14 20  5 13 14  9 18  2  4  5 13  4  5  8 19  4\n",
      "  5 15 11  4  5  2  5 15 11 20  1  1 13 15 11  2  3  1  2  3  5 14  9 11\n",
      "  7  2 20  1  7  3  4  1  7  3  4  6  2  6 13  6 12  8  6 12 20  5 12 18\n",
      "  4  1  2  4  5  2  3  6  6  6 33  6  7  6  7  6  7  6  7  6 13  6 32  8\n",
      "  5  2  4  5 16  9 18 18  2 18  4  5 22 16  4  7  4 13  4  1  5  8  6 14\n",
      " 18  3  1  2 20  1  2  3  6  4  1  1  7  6  7 14 19  3  1  1 22 14 18 18\n",
      "  9  9  2  3  1  2  4  1 22  9 14 20  4  1  8  6 14  3  8  1  1  2  3  4\n",
      "  4  4  1  7  3  1 14  2  3  1  8  6 14  3  4  1  2  3  4  1  2 10 14  1\n",
      "  7  1  7  1 13  1  5  8 10 14  9  3  1  2  3  4  4  1 13 10 14  3  4  1\n",
      "  1  8 30  4  7  6 14 18  3  1  8  1  7 22 14 18  2  3  1  1  2  3  4  1\n",
      "  8  3  5  2  6 16  3  4  1 14 15  3  1  2  6  1  7  2 10 12  9 18  9  4\n",
      "  2 17 33  9  2  3  1  1 12 18 32  9  2  3  4  1 21 11  2  2  3  1  2  3\n",
      "  4  1 18  2  3  1  7  6  6  7  2  4  1  6  6  8  2  3  1  2  6  2  6  7\n",
      " 31  6  6  6  3  4  1  2  4  5  2  3  1 12  3  1  2  4  5  8 10 16 18 15\n",
      " 11 18  9  2  3  1  2  6  2  6  8  3  4  4  1  5 21 11  2  1  2  3  1  2\n",
      " 17  8  0  0  0  0  0  0  0  0  0  0  0  0  0  0  0  0  0  0  0  0  0  0\n",
      "  0  0  0  0  0  0  0  0  0  0  0  0  0  0  0  0  0  0  0  0  0  0  0  0\n",
      "  0  0  0  0  0  0  0  0  0  0  0  0  0  0  0  0  0  0  0  0  0  0  0  0\n",
      "  0  0  0  0  0  0  0  0  0  0  0  0  0  0  0  0  0  0  0  0  0  0  0  0\n",
      "  0  0  0  0  0  0  0  0  0  0  0  0  0  0  0  0  0  0  0  0  0  0  0  0\n",
      "  0  0  0  0  0  0  0  0  0  0  0  0  0  0  0  0  0  0  0  0  0  0  0  0\n",
      "  0  0  0  0  0  0  0  0  0  0  0  0  0  0  0  0  0  0  0  0  0  0  0  0\n",
      "  0  0  0  0  0  0  0  0  0  0  0  0  0  0  0  0  0  0  0  0  0  0  0  0\n",
      "  0  0  0  0  0  0  0  0  0  0  0  0  0  0  0  0  0  0  0  0  0  0  0  0\n",
      "  0  0  0  0  0  0  0  0  0  0  0  0  0  0  0  0  0  0  0  0  0  0  0  0\n",
      "  0  0  0  0  0  0  0  0  0  0  0  0  0  0  0  0  0  0  0  0  0  0  0  0\n",
      "  0  0  0  0  0  0  0  0  0  0  0  0  0  0  0  0  0  0  0  0  0  0  0  0\n",
      "  0  0  0  0  0  0  0  0  0  0  0  0  0  0  0  0]\n",
      "(567, 1000)\n"
     ]
    }
   ],
   "source": [
    "data = pad_sequences(sequences, maxlen=maxlen, padding='post', truncating='post')\n",
    "print(data[0])\n",
    "print(np.shape(data))"
   ]
  },
  {
   "cell_type": "code",
   "execution_count": 28,
   "metadata": {},
   "outputs": [
    {
     "name": "stdout",
     "output_type": "stream",
     "text": [
      "2\n",
      "[0. 0. 1.]\n",
      "(567, 3)\n"
     ]
    }
   ],
   "source": [
    "print(tags[0])\n",
    "tags = to_categorical(tags)\n",
    "print(tags[0])\n",
    "print(np.shape(tags))"
   ]
  },
  {
   "cell_type": "code",
   "execution_count": 36,
   "metadata": {},
   "outputs": [
    {
     "name": "stdout",
     "output_type": "stream",
     "text": [
      "(567, 1000, 45)\n",
      "[[0. 0. 0. ... 0. 0. 0.]\n",
      " [0. 0. 0. ... 0. 0. 0.]\n",
      " [0. 0. 0. ... 0. 0. 0.]\n",
      " ...\n",
      " [1. 0. 0. ... 0. 0. 0.]\n",
      " [1. 0. 0. ... 0. 0. 0.]\n",
      " [1. 0. 0. ... 0. 0. 0.]]\n"
     ]
    }
   ],
   "source": [
    "data = to_categorical(data)\n",
    "print(data.shape)\n",
    "print(data[0])"
   ]
  },
  {
   "cell_type": "code",
   "execution_count": 38,
   "metadata": {},
   "outputs": [],
   "source": [
    "indices = np.arange(data.shape[0])\n",
    "np.random.shuffle(indices)\n",
    "data = data[indices]\n",
    "tags = tags[indices]"
   ]
  },
  {
   "cell_type": "code",
   "execution_count": 53,
   "metadata": {
    "pycharm": {
     "is_executing": false,
     "name": "#%%\n"
    },
    "slideshow": {
     "slide_type": "slide"
    }
   },
   "outputs": [],
   "source": [
    "model = Sequential()\n",
    "model.add(Conv1D(128, 5, activation='relu',kernel_regularizer=l1_l2(l1=0.001, l2=0.001)))\n",
    "model.add(MaxPooling1D(5))\n",
    "model.add(Conv1D(64, 5, activation='relu',kernel_regularizer=l1_l2(l1=0.0, l2=0.0)))\n",
    "model.add(MaxPooling1D(5))\n",
    "model.add(Conv1D(32, 5, activation='relu',kernel_regularizer=l1_l2(l1=0, l2=0.0)))\n",
    "model.add(GlobalMaxPooling1D())\n",
    "model.add(Dense(3, activation='softmax'))\n",
    "# model.summary()"
   ]
  },
  {
   "cell_type": "code",
   "execution_count": 54,
   "metadata": {
    "pycharm": {
     "is_executing": false,
     "name": "#%%\n"
    },
    "slideshow": {
     "slide_type": "subslide"
    }
   },
   "outputs": [
    {
     "name": "stdout",
     "output_type": "stream",
     "text": [
      "Train on 453 samples, validate on 114 samples\n",
      "Epoch 1/1000\n",
      "453/453 [==============================] - 1s 2ms/step - loss: 2.2042 - acc: 0.3135 - val_loss: 2.0097 - val_acc: 0.3333\n",
      "Epoch 2/1000\n",
      "453/453 [==============================] - 0s 647us/step - loss: 1.9180 - acc: 0.3046 - val_loss: 1.7919 - val_acc: 0.3333\n",
      "Epoch 3/1000\n",
      "453/453 [==============================] - 0s 655us/step - loss: 1.7175 - acc: 0.3355 - val_loss: 1.6234 - val_acc: 0.3333\n",
      "Epoch 4/1000\n",
      "453/453 [==============================] - 0s 640us/step - loss: 1.5618 - acc: 0.3377 - val_loss: 1.4829 - val_acc: 0.3860\n",
      "Epoch 5/1000\n",
      "453/453 [==============================] - 0s 646us/step - loss: 1.4283 - acc: 0.4018 - val_loss: 1.3791 - val_acc: 0.3333\n",
      "Epoch 6/1000\n",
      "453/453 [==============================] - 0s 639us/step - loss: 1.3325 - acc: 0.3135 - val_loss: 1.2971 - val_acc: 0.2807\n",
      "Epoch 7/1000\n",
      "453/453 [==============================] - 0s 639us/step - loss: 1.2599 - acc: 0.3642 - val_loss: 1.2387 - val_acc: 0.3333\n",
      "Epoch 8/1000\n",
      "453/453 [==============================] - 0s 640us/step - loss: 1.2159 - acc: 0.3642 - val_loss: 1.2104 - val_acc: 0.3333\n",
      "Epoch 9/1000\n",
      "453/453 [==============================] - 0s 637us/step - loss: 1.1863 - acc: 0.3466 - val_loss: 1.1880 - val_acc: 0.3246\n",
      "Epoch 10/1000\n",
      "453/453 [==============================] - 0s 637us/step - loss: 1.1696 - acc: 0.4371 - val_loss: 1.1737 - val_acc: 0.3509\n",
      "Epoch 11/1000\n",
      "453/453 [==============================] - 0s 636us/step - loss: 1.1571 - acc: 0.4525 - val_loss: 1.1681 - val_acc: 0.3333\n",
      "Epoch 12/1000\n",
      "453/453 [==============================] - 0s 641us/step - loss: 1.1505 - acc: 0.3333 - val_loss: 1.1601 - val_acc: 0.3333\n",
      "Epoch 13/1000\n",
      "453/453 [==============================] - 0s 638us/step - loss: 1.1438 - acc: 0.3687 - val_loss: 1.1542 - val_acc: 0.3333\n",
      "Epoch 14/1000\n",
      "453/453 [==============================] - 0s 643us/step - loss: 1.1395 - acc: 0.3974 - val_loss: 1.1491 - val_acc: 0.3421\n",
      "Epoch 15/1000\n",
      "453/453 [==============================] - 0s 638us/step - loss: 1.1329 - acc: 0.3951 - val_loss: 1.1474 - val_acc: 0.3333\n",
      "Epoch 16/1000\n",
      "453/453 [==============================] - 0s 641us/step - loss: 1.1313 - acc: 0.3863 - val_loss: 1.1448 - val_acc: 0.3333\n",
      "Epoch 17/1000\n",
      "453/453 [==============================] - 0s 634us/step - loss: 1.1278 - acc: 0.3510 - val_loss: 1.1409 - val_acc: 0.3421\n",
      "Epoch 18/1000\n",
      "453/453 [==============================] - 0s 691us/step - loss: 1.1240 - acc: 0.4216 - val_loss: 1.1421 - val_acc: 0.3509\n",
      "Epoch 19/1000\n",
      "453/453 [==============================] - 0s 671us/step - loss: 1.1233 - acc: 0.4459 - val_loss: 1.1442 - val_acc: 0.3333\n",
      "Epoch 20/1000\n",
      "453/453 [==============================] - 0s 636us/step - loss: 1.1242 - acc: 0.3687 - val_loss: 1.1392 - val_acc: 0.3947\n",
      "Epoch 21/1000\n",
      "453/453 [==============================] - 0s 645us/step - loss: 1.1194 - acc: 0.4525 - val_loss: 1.1441 - val_acc: 0.3772\n",
      "Epoch 22/1000\n",
      "453/453 [==============================] - 0s 637us/step - loss: 1.1211 - acc: 0.4327 - val_loss: 1.1474 - val_acc: 0.3333\n",
      "Epoch 23/1000\n",
      "453/453 [==============================] - 0s 686us/step - loss: 1.1215 - acc: 0.4084 - val_loss: 1.1462 - val_acc: 0.3596\n",
      "Epoch 24/1000\n",
      "453/453 [==============================] - 0s 635us/step - loss: 1.1183 - acc: 0.4724 - val_loss: 1.1478 - val_acc: 0.3333\n",
      "Epoch 25/1000\n",
      "453/453 [==============================] - 0s 639us/step - loss: 1.1140 - acc: 0.4393 - val_loss: 1.1437 - val_acc: 0.3421\n",
      "Epoch 26/1000\n",
      "453/453 [==============================] - 0s 641us/step - loss: 1.1120 - acc: 0.4084 - val_loss: 1.1464 - val_acc: 0.3333\n",
      "Epoch 27/1000\n",
      "453/453 [==============================] - 0s 633us/step - loss: 1.1110 - acc: 0.4018 - val_loss: 1.1546 - val_acc: 0.3333\n",
      "Epoch 28/1000\n",
      "453/453 [==============================] - 0s 636us/step - loss: 1.1047 - acc: 0.4194 - val_loss: 1.1511 - val_acc: 0.3333\n",
      "Epoch 29/1000\n",
      "453/453 [==============================] - 0s 637us/step - loss: 1.1021 - acc: 0.4834 - val_loss: 1.1645 - val_acc: 0.3596\n",
      "Epoch 30/1000\n",
      "453/453 [==============================] - 0s 681us/step - loss: 1.1054 - acc: 0.5011 - val_loss: 1.1518 - val_acc: 0.3333\n",
      "Epoch 31/1000\n",
      "453/453 [==============================] - 0s 650us/step - loss: 1.0943 - acc: 0.4879 - val_loss: 1.1616 - val_acc: 0.3333\n",
      "Epoch 32/1000\n",
      "453/453 [==============================] - 0s 626us/step - loss: 1.0905 - acc: 0.4945 - val_loss: 1.1563 - val_acc: 0.3947\n",
      "Epoch 33/1000\n",
      "453/453 [==============================] - 0s 637us/step - loss: 1.0834 - acc: 0.5607 - val_loss: 1.1691 - val_acc: 0.3509\n",
      "Epoch 34/1000\n",
      "453/453 [==============================] - 0s 635us/step - loss: 1.0803 - acc: 0.4812 - val_loss: 1.1983 - val_acc: 0.3333\n",
      "Epoch 35/1000\n",
      "453/453 [==============================] - 0s 652us/step - loss: 1.0720 - acc: 0.5364 - val_loss: 1.1503 - val_acc: 0.3772\n",
      "Epoch 36/1000\n",
      "453/453 [==============================] - 0s 636us/step - loss: 1.0541 - acc: 0.6137 - val_loss: 1.2007 - val_acc: 0.3333\n",
      "Epoch 37/1000\n",
      "453/453 [==============================] - 0s 633us/step - loss: 1.0588 - acc: 0.5717 - val_loss: 1.1974 - val_acc: 0.3333\n",
      "Epoch 38/1000\n",
      "453/453 [==============================] - 0s 636us/step - loss: 1.0432 - acc: 0.5982 - val_loss: 1.2081 - val_acc: 0.3509\n",
      "Epoch 39/1000\n",
      "453/453 [==============================] - 0s 626us/step - loss: 1.0369 - acc: 0.5717 - val_loss: 1.2247 - val_acc: 0.3333\n",
      "Epoch 40/1000\n",
      "453/453 [==============================] - 0s 632us/step - loss: 1.0249 - acc: 0.6115 - val_loss: 1.1880 - val_acc: 0.3246\n",
      "Epoch 41/1000\n",
      "453/453 [==============================] - 0s 625us/step - loss: 0.9971 - acc: 0.7064 - val_loss: 1.2021 - val_acc: 0.3421\n",
      "Epoch 42/1000\n",
      "453/453 [==============================] - 0s 626us/step - loss: 0.9957 - acc: 0.6843 - val_loss: 1.1686 - val_acc: 0.3772\n",
      "Epoch 43/1000\n",
      "453/453 [==============================] - 0s 618us/step - loss: 0.9627 - acc: 0.7020 - val_loss: 1.1845 - val_acc: 0.3421\n",
      "Epoch 44/1000\n",
      "453/453 [==============================] - 0s 630us/step - loss: 0.9500 - acc: 0.6313 - val_loss: 1.2450 - val_acc: 0.3860\n",
      "Epoch 45/1000\n",
      "453/453 [==============================] - 0s 623us/step - loss: 0.9323 - acc: 0.7638 - val_loss: 1.1728 - val_acc: 0.4211\n",
      "Epoch 46/1000\n",
      "453/453 [==============================] - 0s 636us/step - loss: 0.8982 - acc: 0.7395 - val_loss: 1.1905 - val_acc: 0.4123\n",
      "Epoch 47/1000\n",
      "453/453 [==============================] - 0s 628us/step - loss: 0.8798 - acc: 0.7903 - val_loss: 1.3195 - val_acc: 0.3421\n",
      "Epoch 48/1000\n",
      "453/453 [==============================] - 0s 625us/step - loss: 0.8623 - acc: 0.7969 - val_loss: 1.4070 - val_acc: 0.3333\n",
      "Epoch 49/1000\n",
      "453/453 [==============================] - 0s 626us/step - loss: 0.8613 - acc: 0.7638 - val_loss: 1.2572 - val_acc: 0.3772\n",
      "Epoch 50/1000\n",
      "453/453 [==============================] - 0s 625us/step - loss: 0.8246 - acc: 0.8079 - val_loss: 1.3480 - val_acc: 0.3596\n",
      "Epoch 51/1000\n",
      "453/453 [==============================] - 0s 630us/step - loss: 0.7762 - acc: 0.8631 - val_loss: 1.3262 - val_acc: 0.3509\n",
      "Epoch 52/1000\n",
      "453/453 [==============================] - 0s 631us/step - loss: 0.7624 - acc: 0.8344 - val_loss: 1.1950 - val_acc: 0.3947\n",
      "Epoch 53/1000\n",
      "453/453 [==============================] - 0s 635us/step - loss: 0.7531 - acc: 0.8477 - val_loss: 1.4330 - val_acc: 0.3333\n",
      "Epoch 54/1000\n",
      "453/453 [==============================] - 0s 658us/step - loss: 0.7335 - acc: 0.8433 - val_loss: 1.3425 - val_acc: 0.3421\n",
      "Epoch 55/1000\n",
      "453/453 [==============================] - 0s 661us/step - loss: 0.7006 - acc: 0.8742 - val_loss: 1.4037 - val_acc: 0.3421\n",
      "Epoch 56/1000\n",
      "453/453 [==============================] - 0s 654us/step - loss: 0.6873 - acc: 0.8631 - val_loss: 1.3131 - val_acc: 0.3684\n",
      "Epoch 57/1000\n",
      "453/453 [==============================] - 0s 631us/step - loss: 0.6284 - acc: 0.9161 - val_loss: 1.2191 - val_acc: 0.4035\n",
      "Epoch 58/1000\n",
      "453/453 [==============================] - 0s 626us/step - loss: 0.6216 - acc: 0.9073 - val_loss: 1.2453 - val_acc: 0.3947\n",
      "Epoch 59/1000\n",
      "453/453 [==============================] - 0s 627us/step - loss: 0.5895 - acc: 0.9161 - val_loss: 1.4219 - val_acc: 0.4035\n",
      "Epoch 60/1000\n"
     ]
    },
    {
     "name": "stdout",
     "output_type": "stream",
     "text": [
      "453/453 [==============================] - 0s 625us/step - loss: 0.5793 - acc: 0.9051 - val_loss: 1.5171 - val_acc: 0.3772\n",
      "Epoch 61/1000\n",
      "453/453 [==============================] - 0s 626us/step - loss: 0.5599 - acc: 0.9448 - val_loss: 1.4619 - val_acc: 0.3947\n",
      "Epoch 62/1000\n",
      "453/453 [==============================] - 0s 627us/step - loss: 0.5473 - acc: 0.9227 - val_loss: 1.3584 - val_acc: 0.3947\n",
      "Epoch 63/1000\n",
      "453/453 [==============================] - 0s 628us/step - loss: 0.5069 - acc: 0.9558 - val_loss: 1.8628 - val_acc: 0.3421\n",
      "Epoch 64/1000\n",
      "453/453 [==============================] - 0s 627us/step - loss: 0.5120 - acc: 0.9382 - val_loss: 1.6262 - val_acc: 0.3421\n",
      "Epoch 65/1000\n",
      "453/453 [==============================] - 0s 627us/step - loss: 0.4749 - acc: 0.9647 - val_loss: 1.7485 - val_acc: 0.3333\n",
      "Epoch 66/1000\n",
      "453/453 [==============================] - 0s 630us/step - loss: 0.4576 - acc: 0.9603 - val_loss: 1.5021 - val_acc: 0.3860\n",
      "Epoch 67/1000\n",
      "453/453 [==============================] - 0s 630us/step - loss: 0.4414 - acc: 0.9625 - val_loss: 1.2835 - val_acc: 0.4123\n",
      "Epoch 68/1000\n",
      "453/453 [==============================] - 0s 631us/step - loss: 0.3952 - acc: 0.9823 - val_loss: 1.8264 - val_acc: 0.3421\n",
      "Epoch 69/1000\n",
      "453/453 [==============================] - 0s 636us/step - loss: 0.4321 - acc: 0.9514 - val_loss: 2.0748 - val_acc: 0.3333\n",
      "Epoch 70/1000\n",
      "453/453 [==============================] - 0s 632us/step - loss: 0.4106 - acc: 0.9536 - val_loss: 1.2690 - val_acc: 0.3947\n",
      "Epoch 71/1000\n",
      "453/453 [==============================] - 0s 632us/step - loss: 0.3591 - acc: 0.9934 - val_loss: 1.4946 - val_acc: 0.3947\n",
      "Epoch 72/1000\n",
      "453/453 [==============================] - 0s 625us/step - loss: 0.3455 - acc: 0.9912 - val_loss: 1.4759 - val_acc: 0.3684\n",
      "Epoch 73/1000\n",
      "453/453 [==============================] - 0s 627us/step - loss: 0.3432 - acc: 0.9956 - val_loss: 1.3967 - val_acc: 0.3947\n",
      "Epoch 74/1000\n",
      "453/453 [==============================] - 0s 629us/step - loss: 0.3162 - acc: 1.0000 - val_loss: 1.7552 - val_acc: 0.3421\n",
      "Epoch 75/1000\n",
      "453/453 [==============================] - 0s 631us/step - loss: 0.3168 - acc: 0.9845 - val_loss: 2.0547 - val_acc: 0.3333\n",
      "Epoch 76/1000\n",
      "453/453 [==============================] - 0s 634us/step - loss: 0.3558 - acc: 0.9536 - val_loss: 1.6188 - val_acc: 0.3947\n",
      "Epoch 77/1000\n",
      "453/453 [==============================] - 0s 629us/step - loss: 0.2903 - acc: 0.9890 - val_loss: 1.4060 - val_acc: 0.4211\n",
      "Epoch 78/1000\n",
      "453/453 [==============================] - 0s 627us/step - loss: 0.2603 - acc: 1.0000 - val_loss: 2.0762 - val_acc: 0.3333\n",
      "Epoch 79/1000\n",
      "453/453 [==============================] - 0s 626us/step - loss: 0.3185 - acc: 0.9647 - val_loss: 1.4450 - val_acc: 0.3860\n",
      "Epoch 80/1000\n",
      "453/453 [==============================] - 0s 633us/step - loss: 0.2611 - acc: 0.9978 - val_loss: 1.4477 - val_acc: 0.4211\n",
      "Epoch 81/1000\n",
      "453/453 [==============================] - 0s 630us/step - loss: 0.2468 - acc: 0.9978 - val_loss: 1.3660 - val_acc: 0.4211\n",
      "Epoch 82/1000\n",
      "453/453 [==============================] - 0s 637us/step - loss: 0.2377 - acc: 1.0000 - val_loss: 1.4081 - val_acc: 0.3772\n",
      "Epoch 83/1000\n",
      "453/453 [==============================] - 0s 626us/step - loss: 0.2409 - acc: 1.0000 - val_loss: 2.4247 - val_acc: 0.3421\n",
      "Epoch 84/1000\n",
      "453/453 [==============================] - 0s 627us/step - loss: 0.2837 - acc: 0.9470 - val_loss: 1.5336 - val_acc: 0.4123\n",
      "Epoch 85/1000\n",
      "453/453 [==============================] - 0s 629us/step - loss: 0.2120 - acc: 1.0000 - val_loss: 1.3916 - val_acc: 0.4123\n",
      "Epoch 86/1000\n",
      "453/453 [==============================] - 0s 630us/step - loss: 0.1991 - acc: 1.0000 - val_loss: 2.1414 - val_acc: 0.3772\n",
      "Epoch 87/1000\n",
      "453/453 [==============================] - 0s 628us/step - loss: 0.2439 - acc: 0.9801 - val_loss: 1.4175 - val_acc: 0.4386\n",
      "Epoch 88/1000\n",
      "453/453 [==============================] - 0s 635us/step - loss: 0.1858 - acc: 1.0000 - val_loss: 1.8900 - val_acc: 0.4035\n",
      "Epoch 89/1000\n",
      "453/453 [==============================] - 0s 623us/step - loss: 0.2035 - acc: 0.9978 - val_loss: 1.6857 - val_acc: 0.4035\n",
      "Epoch 90/1000\n",
      "453/453 [==============================] - 0s 631us/step - loss: 0.1839 - acc: 1.0000 - val_loss: 2.2544 - val_acc: 0.3684\n",
      "Epoch 91/1000\n",
      "453/453 [==============================] - 0s 623us/step - loss: 0.1989 - acc: 0.9890 - val_loss: 1.6097 - val_acc: 0.4211\n",
      "Epoch 92/1000\n",
      "453/453 [==============================] - 0s 632us/step - loss: 0.1911 - acc: 1.0000 - val_loss: 1.4385 - val_acc: 0.4035\n",
      "Epoch 93/1000\n",
      "453/453 [==============================] - 0s 630us/step - loss: 0.2036 - acc: 0.9978 - val_loss: 1.6532 - val_acc: 0.4123\n",
      "Epoch 94/1000\n",
      "453/453 [==============================] - 0s 634us/step - loss: 0.1542 - acc: 1.0000 - val_loss: 1.5454 - val_acc: 0.3947\n",
      "Epoch 95/1000\n",
      "453/453 [==============================] - 0s 624us/step - loss: 0.1678 - acc: 0.9978 - val_loss: 1.4421 - val_acc: 0.4035\n",
      "Epoch 96/1000\n",
      "453/453 [==============================] - 0s 630us/step - loss: 0.1551 - acc: 1.0000 - val_loss: 1.8014 - val_acc: 0.3860\n",
      "Epoch 97/1000\n",
      "453/453 [==============================] - 0s 628us/step - loss: 0.1641 - acc: 1.0000 - val_loss: 1.5029 - val_acc: 0.4035\n",
      "Epoch 98/1000\n",
      "453/453 [==============================] - 0s 625us/step - loss: 0.1460 - acc: 1.0000 - val_loss: 1.5472 - val_acc: 0.3860\n",
      "Epoch 99/1000\n",
      "453/453 [==============================] - 0s 626us/step - loss: 0.1482 - acc: 1.0000 - val_loss: 2.2223 - val_acc: 0.3772\n",
      "Epoch 100/1000\n",
      "453/453 [==============================] - 0s 628us/step - loss: 0.1998 - acc: 0.9735 - val_loss: 1.4249 - val_acc: 0.4211\n",
      "Epoch 101/1000\n",
      "453/453 [==============================] - 0s 623us/step - loss: 0.1276 - acc: 1.0000 - val_loss: 1.7378 - val_acc: 0.4386\n",
      "Epoch 102/1000\n",
      "453/453 [==============================] - 0s 632us/step - loss: 0.1408 - acc: 1.0000 - val_loss: 1.5795 - val_acc: 0.4211\n",
      "Epoch 103/1000\n",
      "453/453 [==============================] - 0s 632us/step - loss: 0.1282 - acc: 1.0000 - val_loss: 1.8571 - val_acc: 0.3596\n",
      "Epoch 104/1000\n",
      "453/453 [==============================] - 0s 629us/step - loss: 0.1473 - acc: 1.0000 - val_loss: 1.5785 - val_acc: 0.4123\n",
      "Epoch 105/1000\n",
      "453/453 [==============================] - 0s 627us/step - loss: 0.1182 - acc: 1.0000 - val_loss: 3.0489 - val_acc: 0.3421\n",
      "Epoch 106/1000\n",
      "453/453 [==============================] - 0s 625us/step - loss: 0.1777 - acc: 0.9868 - val_loss: 1.7457 - val_acc: 0.3684\n",
      "Epoch 107/1000\n",
      "453/453 [==============================] - 0s 630us/step - loss: 0.1176 - acc: 1.0000 - val_loss: 1.5362 - val_acc: 0.4035\n",
      "Epoch 108/1000\n",
      "453/453 [==============================] - 0s 624us/step - loss: 0.1103 - acc: 1.0000 - val_loss: 1.4981 - val_acc: 0.4123\n",
      "Epoch 109/1000\n",
      "453/453 [==============================] - 0s 622us/step - loss: 0.1187 - acc: 1.0000 - val_loss: 1.7946 - val_acc: 0.3772\n",
      "Epoch 110/1000\n",
      "453/453 [==============================] - 0s 637us/step - loss: 0.1348 - acc: 1.0000 - val_loss: 1.5232 - val_acc: 0.4211\n",
      "Epoch 111/1000\n",
      "453/453 [==============================] - 0s 626us/step - loss: 0.1061 - acc: 1.0000 - val_loss: 1.5370 - val_acc: 0.4298\n",
      "Epoch 112/1000\n",
      "453/453 [==============================] - 0s 632us/step - loss: 0.1510 - acc: 0.9978 - val_loss: 1.8028 - val_acc: 0.3860\n",
      "Epoch 113/1000\n",
      "453/453 [==============================] - 0s 627us/step - loss: 0.1057 - acc: 1.0000 - val_loss: 1.6203 - val_acc: 0.4123\n",
      "Epoch 114/1000\n",
      "453/453 [==============================] - 0s 621us/step - loss: 0.1000 - acc: 1.0000 - val_loss: 1.5620 - val_acc: 0.4035\n",
      "Epoch 115/1000\n",
      "453/453 [==============================] - 0s 630us/step - loss: 0.1215 - acc: 1.0000 - val_loss: 1.5712 - val_acc: 0.4474\n",
      "Epoch 116/1000\n",
      "453/453 [==============================] - 0s 630us/step - loss: 0.0975 - acc: 1.0000 - val_loss: 1.8817 - val_acc: 0.3860\n",
      "Epoch 117/1000\n",
      "453/453 [==============================] - 0s 628us/step - loss: 0.1021 - acc: 1.0000 - val_loss: 1.9826 - val_acc: 0.3509\n",
      "Epoch 118/1000\n",
      "453/453 [==============================] - 0s 625us/step - loss: 0.1555 - acc: 0.9823 - val_loss: 1.5172 - val_acc: 0.4123\n",
      "Epoch 119/1000\n",
      "453/453 [==============================] - 0s 627us/step - loss: 0.0945 - acc: 1.0000 - val_loss: 1.7672 - val_acc: 0.3860\n"
     ]
    },
    {
     "name": "stdout",
     "output_type": "stream",
     "text": [
      "Epoch 120/1000\n",
      "453/453 [==============================] - 0s 626us/step - loss: 0.0933 - acc: 1.0000 - val_loss: 1.8552 - val_acc: 0.3860\n",
      "Epoch 121/1000\n",
      "453/453 [==============================] - 0s 627us/step - loss: 0.0987 - acc: 1.0000 - val_loss: 1.5721 - val_acc: 0.3947\n",
      "Epoch 122/1000\n",
      "453/453 [==============================] - 0s 629us/step - loss: 0.0912 - acc: 1.0000 - val_loss: 2.7382 - val_acc: 0.3596\n",
      "Epoch 123/1000\n",
      "453/453 [==============================] - 0s 622us/step - loss: 0.1406 - acc: 0.9890 - val_loss: 1.6022 - val_acc: 0.4386\n",
      "Epoch 124/1000\n",
      "453/453 [==============================] - 0s 624us/step - loss: 0.0881 - acc: 1.0000 - val_loss: 1.7648 - val_acc: 0.4123\n",
      "Epoch 125/1000\n",
      "453/453 [==============================] - 0s 630us/step - loss: 0.0869 - acc: 1.0000 - val_loss: 1.6477 - val_acc: 0.4123\n",
      "Epoch 126/1000\n",
      "453/453 [==============================] - 0s 628us/step - loss: 0.0895 - acc: 1.0000 - val_loss: 2.6949 - val_acc: 0.3333\n",
      "Epoch 127/1000\n",
      "453/453 [==============================] - 0s 629us/step - loss: 0.1205 - acc: 1.0000 - val_loss: 1.7011 - val_acc: 0.4298\n",
      "Epoch 128/1000\n",
      "453/453 [==============================] - 0s 634us/step - loss: 0.0843 - acc: 1.0000 - val_loss: 1.5577 - val_acc: 0.4123\n",
      "Epoch 129/1000\n",
      "453/453 [==============================] - 0s 624us/step - loss: 0.0842 - acc: 1.0000 - val_loss: 1.8289 - val_acc: 0.3860\n",
      "Epoch 130/1000\n",
      "453/453 [==============================] - 0s 628us/step - loss: 0.0852 - acc: 1.0000 - val_loss: 1.9130 - val_acc: 0.3860\n",
      "Epoch 131/1000\n",
      "453/453 [==============================] - 0s 641us/step - loss: 0.1143 - acc: 0.9978 - val_loss: 1.5970 - val_acc: 0.4386\n",
      "Epoch 132/1000\n",
      "453/453 [==============================] - 0s 634us/step - loss: 0.0800 - acc: 1.0000 - val_loss: 1.9337 - val_acc: 0.3947\n",
      "Epoch 133/1000\n",
      "453/453 [==============================] - 0s 633us/step - loss: 0.0837 - acc: 1.0000 - val_loss: 1.5664 - val_acc: 0.4298\n",
      "Epoch 134/1000\n",
      "453/453 [==============================] - 0s 632us/step - loss: 0.0818 - acc: 1.0000 - val_loss: 1.9857 - val_acc: 0.3947\n",
      "Epoch 135/1000\n",
      "453/453 [==============================] - 0s 633us/step - loss: 0.1080 - acc: 1.0000 - val_loss: 1.7363 - val_acc: 0.4123\n",
      "Epoch 136/1000\n",
      "453/453 [==============================] - 0s 626us/step - loss: 0.0775 - acc: 1.0000 - val_loss: 1.8172 - val_acc: 0.3860\n",
      "Epoch 137/1000\n",
      "453/453 [==============================] - 0s 634us/step - loss: 0.0773 - acc: 1.0000 - val_loss: 2.1242 - val_acc: 0.3772\n",
      "Epoch 138/1000\n",
      "453/453 [==============================] - 0s 629us/step - loss: 0.0934 - acc: 1.0000 - val_loss: 1.7464 - val_acc: 0.3860\n",
      "Epoch 139/1000\n",
      "453/453 [==============================] - 0s 628us/step - loss: 0.0827 - acc: 1.0000 - val_loss: 1.9632 - val_acc: 0.3509\n",
      "Epoch 140/1000\n",
      "453/453 [==============================] - 0s 629us/step - loss: 0.0754 - acc: 1.0000 - val_loss: 1.6999 - val_acc: 0.4211\n",
      "Epoch 141/1000\n",
      "453/453 [==============================] - 0s 628us/step - loss: 0.0741 - acc: 1.0000 - val_loss: 2.1692 - val_acc: 0.3947\n",
      "Epoch 142/1000\n",
      "453/453 [==============================] - 0s 626us/step - loss: 0.1056 - acc: 1.0000 - val_loss: 1.7303 - val_acc: 0.4035\n",
      "Epoch 143/1000\n",
      "453/453 [==============================] - 0s 634us/step - loss: 0.0712 - acc: 1.0000 - val_loss: 1.6665 - val_acc: 0.4211\n",
      "Epoch 144/1000\n",
      "453/453 [==============================] - 0s 630us/step - loss: 0.0704 - acc: 1.0000 - val_loss: 1.5712 - val_acc: 0.3772\n",
      "Epoch 145/1000\n",
      "453/453 [==============================] - 0s 636us/step - loss: 0.0976 - acc: 1.0000 - val_loss: 1.7265 - val_acc: 0.4035\n",
      "Epoch 146/1000\n",
      "453/453 [==============================] - 0s 630us/step - loss: 0.0702 - acc: 1.0000 - val_loss: 1.6207 - val_acc: 0.3772\n",
      "Epoch 147/1000\n",
      "453/453 [==============================] - 0s 628us/step - loss: 0.0681 - acc: 1.0000 - val_loss: 1.7341 - val_acc: 0.3509\n",
      "Epoch 148/1000\n",
      "453/453 [==============================] - 0s 628us/step - loss: 0.0678 - acc: 1.0000 - val_loss: 1.6341 - val_acc: 0.4123\n",
      "Epoch 149/1000\n",
      "453/453 [==============================] - 0s 636us/step - loss: 0.0977 - acc: 0.9956 - val_loss: 1.6417 - val_acc: 0.4386\n",
      "Epoch 150/1000\n",
      "453/453 [==============================] - 0s 627us/step - loss: 0.0667 - acc: 1.0000 - val_loss: 1.6650 - val_acc: 0.3860\n",
      "Epoch 151/1000\n",
      "453/453 [==============================] - 0s 632us/step - loss: 0.0648 - acc: 1.0000 - val_loss: 2.0163 - val_acc: 0.3596\n",
      "Epoch 152/1000\n",
      "453/453 [==============================] - 0s 630us/step - loss: 0.0710 - acc: 1.0000 - val_loss: 1.8285 - val_acc: 0.3772\n",
      "Epoch 153/1000\n",
      "453/453 [==============================] - 0s 634us/step - loss: 0.0640 - acc: 1.0000 - val_loss: 2.5511 - val_acc: 0.3684\n",
      "Epoch 154/1000\n",
      "453/453 [==============================] - 0s 633us/step - loss: 0.1090 - acc: 0.9934 - val_loss: 1.6337 - val_acc: 0.3947\n",
      "Epoch 155/1000\n",
      "453/453 [==============================] - 0s 631us/step - loss: 0.0629 - acc: 1.0000 - val_loss: 1.7173 - val_acc: 0.3947\n",
      "Epoch 156/1000\n",
      "453/453 [==============================] - 0s 627us/step - loss: 0.0614 - acc: 1.0000 - val_loss: 1.6535 - val_acc: 0.4035\n",
      "Epoch 157/1000\n",
      "453/453 [==============================] - 0s 622us/step - loss: 0.0617 - acc: 1.0000 - val_loss: 1.7451 - val_acc: 0.3860\n",
      "Epoch 158/1000\n",
      "453/453 [==============================] - 0s 626us/step - loss: 0.0860 - acc: 1.0000 - val_loss: 1.6483 - val_acc: 0.4211\n",
      "Epoch 159/1000\n",
      "453/453 [==============================] - 0s 628us/step - loss: 0.0608 - acc: 1.0000 - val_loss: 1.6241 - val_acc: 0.4123\n",
      "Epoch 160/1000\n",
      "453/453 [==============================] - 0s 628us/step - loss: 0.0597 - acc: 1.0000 - val_loss: 1.7165 - val_acc: 0.3596\n",
      "Epoch 161/1000\n",
      "453/453 [==============================] - 0s 633us/step - loss: 0.0660 - acc: 1.0000 - val_loss: 1.6125 - val_acc: 0.3772\n",
      "Epoch 162/1000\n",
      "453/453 [==============================] - 0s 631us/step - loss: 0.0600 - acc: 1.0000 - val_loss: 1.7395 - val_acc: 0.3947\n",
      "Epoch 163/1000\n",
      "453/453 [==============================] - 0s 629us/step - loss: 0.0844 - acc: 1.0000 - val_loss: 1.7164 - val_acc: 0.3947\n",
      "Epoch 164/1000\n",
      "453/453 [==============================] - 0s 631us/step - loss: 0.0597 - acc: 1.0000 - val_loss: 1.7187 - val_acc: 0.4035\n",
      "Epoch 165/1000\n",
      "453/453 [==============================] - 0s 624us/step - loss: 0.0565 - acc: 1.0000 - val_loss: 1.9211 - val_acc: 0.3860\n",
      "Epoch 166/1000\n",
      "453/453 [==============================] - 0s 629us/step - loss: 0.0582 - acc: 1.0000 - val_loss: 2.1559 - val_acc: 0.3772\n",
      "Epoch 167/1000\n",
      "453/453 [==============================] - 0s 627us/step - loss: 0.0725 - acc: 1.0000 - val_loss: 1.6690 - val_acc: 0.3772\n",
      "Epoch 168/1000\n",
      "453/453 [==============================] - 0s 621us/step - loss: 0.0550 - acc: 1.0000 - val_loss: 1.6701 - val_acc: 0.3860\n",
      "Epoch 169/1000\n",
      "453/453 [==============================] - 0s 633us/step - loss: 0.0557 - acc: 1.0000 - val_loss: 1.6653 - val_acc: 0.4386\n",
      "Epoch 170/1000\n",
      "453/453 [==============================] - 0s 627us/step - loss: 0.0885 - acc: 1.0000 - val_loss: 1.6627 - val_acc: 0.4035\n",
      "Epoch 171/1000\n",
      "453/453 [==============================] - 0s 626us/step - loss: 0.0547 - acc: 1.0000 - val_loss: 1.6566 - val_acc: 0.4035\n",
      "Epoch 172/1000\n",
      "453/453 [==============================] - 0s 627us/step - loss: 0.0528 - acc: 1.0000 - val_loss: 1.6588 - val_acc: 0.3947\n",
      "Epoch 173/1000\n",
      "453/453 [==============================] - 0s 629us/step - loss: 0.0528 - acc: 1.0000 - val_loss: 2.7080 - val_acc: 0.3509\n",
      "Epoch 174/1000\n",
      "453/453 [==============================] - 0s 621us/step - loss: 0.0845 - acc: 1.0000 - val_loss: 1.6691 - val_acc: 0.3860\n",
      "Epoch 175/1000\n",
      "453/453 [==============================] - 0s 619us/step - loss: 0.0523 - acc: 1.0000 - val_loss: 1.7254 - val_acc: 0.4123\n",
      "Epoch 176/1000\n",
      "453/453 [==============================] - 0s 626us/step - loss: 0.0514 - acc: 1.0000 - val_loss: 2.0276 - val_acc: 0.3947\n",
      "Epoch 177/1000\n",
      "453/453 [==============================] - 0s 632us/step - loss: 0.0659 - acc: 1.0000 - val_loss: 1.7452 - val_acc: 0.3860\n",
      "Epoch 178/1000\n",
      "453/453 [==============================] - 0s 631us/step - loss: 0.0513 - acc: 1.0000 - val_loss: 1.6427 - val_acc: 0.4211\n",
      "Epoch 179/1000\n"
     ]
    },
    {
     "name": "stdout",
     "output_type": "stream",
     "text": [
      "453/453 [==============================] - 0s 638us/step - loss: 0.0510 - acc: 1.0000 - val_loss: 1.8360 - val_acc: 0.3772\n",
      "Epoch 180/1000\n",
      "453/453 [==============================] - 0s 627us/step - loss: 0.0832 - acc: 1.0000 - val_loss: 1.6951 - val_acc: 0.3947\n",
      "Epoch 181/1000\n",
      "453/453 [==============================] - 0s 625us/step - loss: 0.0509 - acc: 1.0000 - val_loss: 1.5954 - val_acc: 0.4298\n",
      "Epoch 182/1000\n",
      "453/453 [==============================] - 0s 624us/step - loss: 0.0492 - acc: 1.0000 - val_loss: 1.7254 - val_acc: 0.3860\n",
      "Epoch 183/1000\n",
      "453/453 [==============================] - 0s 630us/step - loss: 0.0526 - acc: 1.0000 - val_loss: 1.7227 - val_acc: 0.3772\n",
      "Epoch 184/1000\n",
      "453/453 [==============================] - 0s 631us/step - loss: 0.0490 - acc: 1.0000 - val_loss: 1.7489 - val_acc: 0.4035\n",
      "Epoch 185/1000\n",
      "453/453 [==============================] - 0s 630us/step - loss: 0.0737 - acc: 1.0000 - val_loss: 1.7642 - val_acc: 0.3596\n",
      "Epoch 186/1000\n",
      "453/453 [==============================] - 0s 627us/step - loss: 0.0488 - acc: 1.0000 - val_loss: 1.6661 - val_acc: 0.4123\n",
      "Epoch 187/1000\n",
      "453/453 [==============================] - 0s 632us/step - loss: 0.0471 - acc: 1.0000 - val_loss: 1.7971 - val_acc: 0.3860\n",
      "Epoch 188/1000\n",
      "453/453 [==============================] - 0s 634us/step - loss: 0.0473 - acc: 1.0000 - val_loss: 1.6468 - val_acc: 0.3947\n",
      "Epoch 189/1000\n",
      "453/453 [==============================] - 0s 625us/step - loss: 0.0683 - acc: 1.0000 - val_loss: 1.6949 - val_acc: 0.4298\n",
      "Epoch 190/1000\n",
      "453/453 [==============================] - 0s 643us/step - loss: 0.0464 - acc: 1.0000 - val_loss: 1.6633 - val_acc: 0.4211\n",
      "Epoch 191/1000\n",
      "453/453 [==============================] - 0s 624us/step - loss: 0.0463 - acc: 1.0000 - val_loss: 1.8549 - val_acc: 0.3947\n",
      "Epoch 192/1000\n",
      "453/453 [==============================] - 0s 631us/step - loss: 0.0481 - acc: 1.0000 - val_loss: 1.9531 - val_acc: 0.3684\n",
      "Epoch 193/1000\n",
      "453/453 [==============================] - 0s 623us/step - loss: 0.0596 - acc: 1.0000 - val_loss: 1.7899 - val_acc: 0.3772\n",
      "Epoch 194/1000\n",
      "453/453 [==============================] - 0s 619us/step - loss: 0.0451 - acc: 1.0000 - val_loss: 1.6922 - val_acc: 0.4386\n",
      "Epoch 195/1000\n",
      "453/453 [==============================] - 0s 629us/step - loss: 0.0449 - acc: 1.0000 - val_loss: 2.0964 - val_acc: 0.3772\n",
      "Epoch 196/1000\n",
      "453/453 [==============================] - 0s 632us/step - loss: 0.0485 - acc: 1.0000 - val_loss: 2.0163 - val_acc: 0.3772\n",
      "Epoch 197/1000\n",
      "453/453 [==============================] - 0s 634us/step - loss: 0.0623 - acc: 1.0000 - val_loss: 1.6820 - val_acc: 0.3772\n",
      "Epoch 198/1000\n",
      "453/453 [==============================] - 0s 624us/step - loss: 0.0434 - acc: 1.0000 - val_loss: 1.6781 - val_acc: 0.3772\n",
      "Epoch 199/1000\n",
      "453/453 [==============================] - 0s 631us/step - loss: 0.0437 - acc: 1.0000 - val_loss: 1.7170 - val_acc: 0.3860\n",
      "Epoch 200/1000\n",
      "453/453 [==============================] - 0s 632us/step - loss: 0.0444 - acc: 1.0000 - val_loss: 2.3916 - val_acc: 0.3860\n",
      "Epoch 201/1000\n",
      "453/453 [==============================] - 0s 632us/step - loss: 0.0739 - acc: 1.0000 - val_loss: 1.7402 - val_acc: 0.3947\n",
      "Epoch 202/1000\n",
      "453/453 [==============================] - 0s 629us/step - loss: 0.0430 - acc: 1.0000 - val_loss: 1.7189 - val_acc: 0.3509\n",
      "Epoch 203/1000\n",
      "453/453 [==============================] - 0s 626us/step - loss: 0.0415 - acc: 1.0000 - val_loss: 1.8584 - val_acc: 0.3772\n",
      "Epoch 204/1000\n",
      "453/453 [==============================] - 0s 631us/step - loss: 0.0418 - acc: 1.0000 - val_loss: 2.0872 - val_acc: 0.3684\n",
      "Epoch 205/1000\n",
      "453/453 [==============================] - 0s 627us/step - loss: 0.0570 - acc: 1.0000 - val_loss: 1.7878 - val_acc: 0.3947\n",
      "Epoch 206/1000\n",
      "453/453 [==============================] - 0s 623us/step - loss: 0.0411 - acc: 1.0000 - val_loss: 1.6624 - val_acc: 0.3860\n",
      "Epoch 207/1000\n",
      "453/453 [==============================] - 0s 631us/step - loss: 0.0409 - acc: 1.0000 - val_loss: 1.8038 - val_acc: 0.3947\n",
      "Epoch 208/1000\n",
      "453/453 [==============================] - 0s 628us/step - loss: 0.0576 - acc: 1.0000 - val_loss: 1.6679 - val_acc: 0.4035\n",
      "Epoch 209/1000\n",
      "453/453 [==============================] - 0s 633us/step - loss: 0.0422 - acc: 1.0000 - val_loss: 1.7377 - val_acc: 0.4211\n",
      "Epoch 210/1000\n",
      "453/453 [==============================] - 0s 624us/step - loss: 0.0397 - acc: 1.0000 - val_loss: 1.7591 - val_acc: 0.4035\n",
      "Epoch 211/1000\n",
      "453/453 [==============================] - 0s 633us/step - loss: 0.0415 - acc: 1.0000 - val_loss: 1.6295 - val_acc: 0.3947\n",
      "Epoch 212/1000\n",
      "453/453 [==============================] - 0s 627us/step - loss: 0.0588 - acc: 1.0000 - val_loss: 1.6770 - val_acc: 0.4211\n",
      "Epoch 213/1000\n",
      "453/453 [==============================] - 0s 629us/step - loss: 0.0430 - acc: 1.0000 - val_loss: 1.6727 - val_acc: 0.4474\n",
      "Epoch 214/1000\n",
      "453/453 [==============================] - 0s 628us/step - loss: 0.0385 - acc: 1.0000 - val_loss: 1.6560 - val_acc: 0.4035\n",
      "Epoch 215/1000\n",
      "453/453 [==============================] - 0s 635us/step - loss: 0.0387 - acc: 1.0000 - val_loss: 1.6315 - val_acc: 0.3947\n",
      "_________________________________________________________________\n",
      "Layer (type)                 Output Shape              Param #   \n",
      "=================================================================\n",
      "conv1d_12 (Conv1D)           multiple                  28928     \n",
      "_________________________________________________________________\n",
      "max_pooling1d_8 (MaxPooling1 multiple                  0         \n",
      "_________________________________________________________________\n",
      "conv1d_13 (Conv1D)           multiple                  41024     \n",
      "_________________________________________________________________\n",
      "max_pooling1d_9 (MaxPooling1 multiple                  0         \n",
      "_________________________________________________________________\n",
      "conv1d_14 (Conv1D)           multiple                  10272     \n",
      "_________________________________________________________________\n",
      "global_max_pooling1d_4 (Glob multiple                  0         \n",
      "_________________________________________________________________\n",
      "dense_4 (Dense)              multiple                  99        \n",
      "=================================================================\n",
      "Total params: 80,323\n",
      "Trainable params: 80,323\n",
      "Non-trainable params: 0\n",
      "_________________________________________________________________\n"
     ]
    }
   ],
   "source": [
    "es = EarlyStopping(monitor='val_acc',patience=100, mode='auto')\n",
    "model.compile(optimizer=RMSprop(),\n",
    "loss='categorical_crossentropy',\n",
    "metrics=['acc'])\n",
    "history = model.fit(data, tags,\n",
    "epochs=1000,  \n",
    "batch_size=50,\n",
    "validation_split=0.2,\n",
    "callbacks=[es])\n",
    "# model.save_weights('pre_trained_glove_model.h5')\n",
    "model.summary()"
   ]
  },
  {
   "cell_type": "code",
   "execution_count": 55,
   "metadata": {
    "pycharm": {
     "name": "#%%\n"
    },
    "slideshow": {
     "slide_type": "slide"
    }
   },
   "outputs": [
    {
     "data": {
      "image/png": "[encoded data removed]",
      "text/plain": [
       "<Figure size 2160x360 with 1 Axes>"
      ]
     },
     "metadata": {
      "needs_background": "light"
     },
     "output_type": "display_data"
    },
    {
     "data": {
      "image/png": "[encoded data removed]",
      "text/plain": [
       "<Figure size 2160x360 with 1 Axes>"
      ]
     },
     "metadata": {
      "needs_background": "light"
     },
     "output_type": "display_data"
    }
   ],
   "source": [
    "import matplotlib.pyplot as plt\n",
    "acc = history.history['acc']\n",
    "val_acc = history.history['val_acc']\n",
    "loss = history.history['loss']\n",
    "val_loss = history.history['val_loss']\n",
    "epochs = range(1, len(acc) + 1)\n",
    "plt.figure(figsize=(30,5))\n",
    "plt.plot(epochs, acc, 'bo', label='Training acc')\n",
    "plt.plot(epochs, val_acc, 'b', label='Validation acc')\n",
    "plt.title('Training and validation accuracy')\n",
    "plt.legend()\n",
    "plt.figure(figsize=(30,5))\n",
    "plt.plot(epochs, loss, 'bo', label='Training loss')\n",
    "plt.plot(epochs, val_loss, 'b', label='Validation loss')\n",
    "plt.title('Training and validation loss')\n",
    "plt.legend()\n",
    "plt.show()\n",
    "\n",
    "\n"
   ]
  },
  {
   "cell_type": "code",
   "execution_count": 92,
   "metadata": {},
   "outputs": [
    {
     "name": "stdout",
     "output_type": "stream",
     "text": [
      "567/567 [==============================] - 0s 599us/step\n",
      "0.539682539472294\n"
     ]
    }
   ],
   "source": [
    "result = model.evaluate(data, labels)\n",
    "print(result[1])"
   ]
  },
  {
   "cell_type": "code",
   "execution_count": null,
   "metadata": {},
   "outputs": [],
   "source": []
  }
 ],
 "metadata": {
  "kernelspec": {
   "display_name": "Python 3",
   "language": "python",
   "name": "python3"
  },
  "language_info": {
   "codemirror_mode": {
    "name": "ipython",
    "version": 3
   },
   "file_extension": ".py",
   "mimetype": "text/x-python",
   "name": "python",
   "nbconvert_exporter": "python",
   "pygments_lexer": "ipython3",
   "version": "3.6.8"
  },
  "pycharm": {
   "stem_cell": {
    "cell_type": "raw",
    "metadata": {
     "collapsed": false
    },
    "source": []
   }
  }
 },
 "nbformat": 4,
 "nbformat_minor": 1
}
