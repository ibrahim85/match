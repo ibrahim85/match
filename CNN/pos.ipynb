{
 "cells": [
  {
   "cell_type": "markdown",
   "metadata": {
    "slideshow": {
     "slide_type": "slide"
    }
   },
   "source": [
    "# Readability Assessment throughConvolutional Neural Network"
   ]
  },
  {
   "cell_type": "markdown",
   "metadata": {
    "slideshow": {
     "slide_type": "slide"
    }
   },
   "source": [
    "Readability assessment is a well known problem in natural language processing field. Giving someone the suitable text for his level of comprehension (not so easy and not so hard) could maximize his understanding and enjoyment. In this notebook we are trying to assess the readability of a given text regardless of the text subject using recurrent neural network."
   ]
  },
  {
   "cell_type": "markdown",
   "metadata": {
    "pycharm": {
     "name": "#%% md\n"
    },
    "slideshow": {
     "slide_type": "slide"
    }
   },
   "source": [
    "## Corpus\n",
    "> OneStopEnglish corpus: A new corpus for automatic readability assessment and text simplification  \n",
    "> Sowmya Vajjala and Ivana Lučić  \n",
    "> 2018  \n",
    "> Proceedings of the Thirteenth Workshop on Innovative Use of NLP for Building Educational Applications, pages 297–304. Association for Computational Linguistics.  \n",
    "> [url](http://aclweb.org/anthology/W18-0535). [bib file](https://aclanthology.coli.uni-saarland.de/papers/W18-0535/w18-0535.bib)\n",
    "\n",
    "Please cite the above paper if you use this corpus in your research.\n",
    "\n",
    "[![DOI](https://zenodo.org/badge/128919409.svg)](https://zenodo.org/badge/latestdoi/128919409)\n",
    "\n",
    "<a rel=\"license\" href=\"http://creativecommons.org/licenses/by-sa/4.0/\"><img alt=\"Creative Commons License\" style=\"border-width:0\" src=\"https://i.creativecommons.org/l/by-sa/4.0/88x31.png\" /></a><br />This work is licensed under a <a rel=\"license\" href=\"http://creativecommons.org/licenses/by-sa/4.0/\">Creative Commons Attribution-ShareAlike 4.0 International License</a>."
   ]
  },
  {
   "cell_type": "markdown",
   "metadata": {
    "pycharm": {
     "name": "#%% md\n"
    },
    "slideshow": {
     "slide_type": "slide"
    }
   },
   "source": [
    "Now let's dive into our corpus."
   ]
  },
  {
   "cell_type": "code",
   "execution_count": 1,
   "metadata": {
    "pycharm": {
     "is_executing": false,
     "name": "#%%\n"
    },
    "slideshow": {
     "slide_type": "slide"
    }
   },
   "outputs": [],
   "source": [
    "import sys\n",
    "sys.path.append(\"/home/ms10596/PycharmProjects/match\")\n",
    "from ipywidgets import interact\n",
    "from tabulate import tabulate\n",
    "from IPython.display import display, HTML\n",
    "\n",
    "from utils.loading import load_glove_embeddings\n",
    "from utils.one_stop_english import load_corpus, corpus_to_words, corpus_to_pos, detokenize\n",
    "\n",
    "from tensorflow.keras.preprocessing.text import Tokenizer\n",
    "from tensorflow.keras.preprocessing.sequence import pad_sequences\n",
    "from tensorflow.keras.utils import to_categorical\n",
    "from tensorflow.keras.models import Sequential\n",
    "from tensorflow.keras.layers import Embedding, Flatten, Dense, LSTM, Bidirectional,Conv1D,MaxPooling1D,GlobalMaxPooling1D, Dropout\n",
    "from tensorflow.keras.optimizers import RMSprop\n",
    "from tensorflow.keras.constraints import max_norm\n",
    "from tensorflow.keras.regularizers import l1, l2, l1_l2\n",
    "\n",
    "# from tensorflow.keras.engine.input_layer import Input\n",
    "\n",
    "import numpy as np\n",
    "\n",
    "# glove = load_glove_embeddings()\n",
    "corpus = load_corpus()\n",
    "articles, tags = corpus_to_words(corpus)"
   ]
  },
  {
   "cell_type": "markdown",
   "metadata": {
    "slideshow": {
     "slide_type": "slide"
    }
   },
   "source": [
    "Reading level|Avg. Num. Words|Std. Dev|Number of Articles\n",
    "---|---|---|---\n",
    "Elementary|533.17|103.79|189\n",
    "Intermediate|676.59|117.15|189\n",
    "Advanced|820.49|162.52|189\n",
    "\n"
   ]
  },
  {
   "cell_type": "code",
   "execution_count": 2,
   "metadata": {
    "pycharm": {
     "is_executing": false
    },
    "slideshow": {
     "slide_type": "subslide"
    }
   },
   "outputs": [
    {
     "data": {
      "application/vnd.jupyter.widget-view+json": {
       "model_id": "4a85e87eebc7442d8c77235ccc83df43",
       "version_major": 2,
       "version_minor": 0
      },
      "text/plain": [
       "interactive(children=(IntSlider(value=94, description='i', max=188), IntSlider(value=500, description='words',…"
      ]
     },
     "metadata": {},
     "output_type": "display_data"
    }
   ],
   "source": [
    "@interact\n",
    "def show_articles(i=(0,188,1), words=(0,1000,1)):\n",
    "    data = [\n",
    "        [\"Advanced\",detokenize(articles[i][:words])], \n",
    "        [\"Intermediate\",detokenize(articles[i+2][:words])], \n",
    "        [\"Elementary\",detokenize(articles[i+1][:words])]\n",
    "    ]\n",
    "    headers = ['Reading Level', 'Example']\n",
    "    display(HTML(tabulate(data,tablefmt='html', headers=headers)+\"<style>th,td {font-size: 10px}</style>\"))"
   ]
  },
  {
   "cell_type": "code",
   "execution_count": 3,
   "metadata": {
    "pycharm": {
     "is_executing": false,
     "name": "#%%\n"
    },
    "slideshow": {
     "slide_type": "slide"
    }
   },
   "outputs": [
    {
     "name": "stdout",
     "output_type": "stream",
     "text": [
      "{'nn': 1, 'in': 2, 'dt': 3, 'jj': 4, 'nns': 5, 'nnp': 6, ',': 7, '.': 8, 'rb': 9, 'prp': 10, 'vb': 11, 'vbd': 12, 'cc': 13, 'vbz': 14, 'to': 15, 'vbp': 16, 'cd': 17, 'vbn': 18, 'vbg': 19, 'prp$': 20, 'md': 21, 'wdt': 22, 'wrb': 23, 'wp': 24, 'jjr': 25, 'rp': 26, ':': 27, 'jjs': 28, 'ex': 29, 'rbr': 30, 'nnps': 31, '-rrb-': 32, '-lrb-': 33, 'rbs': 34, 'pdt': 35, '$': 36, 'fw': 37, 'uh': 38, 'wp$': 39, 'sym': 40, \"''\": 41, 'ls': 42, 'pos': 43, '``': 44}\n",
      "44\n"
     ]
    }
   ],
   "source": [
    "maxlen = 1000 # Cuts off reviews after 100 words\n",
    "training_samples = 450\n",
    "validation_samples = 117\n",
    "max_words = 45\n",
    "articles, tags = corpus_to_pos(corpus)\n",
    "tokenizer = Tokenizer(num_words=max_words)\n",
    "tokenizer.fit_on_texts(articles)\n",
    "print(tokenizer.word_index)\n",
    "print(len(tokenizer.word_index))\n"
   ]
  },
  {
   "cell_type": "code",
   "execution_count": 4,
   "metadata": {},
   "outputs": [
    {
     "name": "stdout",
     "output_type": "stream",
     "text": [
      "(567,)\n"
     ]
    }
   ],
   "source": [
    "sequences = tokenizer.texts_to_sequences(articles)\n",
    "# print(sequences)\n",
    "print(np.shape(sequences))\n"
   ]
  },
  {
   "cell_type": "code",
   "execution_count": 5,
   "metadata": {},
   "outputs": [
    {
     "name": "stdout",
     "output_type": "stream",
     "text": [
      "[[23 10 11 ...  0  0  0]\n",
      " [23 10 11 ...  0  0  0]\n",
      " [23 10 11 ...  0  0  0]\n",
      " ...\n",
      " [ 4  5 21 ...  0  0  0]\n",
      " [ 6  5 21 ...  0  0  0]\n",
      " [ 4  5 21 ...  0  0  0]]\n",
      "(567, 1000)\n"
     ]
    }
   ],
   "source": [
    "\n",
    "data = pad_sequences(sequences, maxlen=maxlen, padding='post', truncating='post')\n",
    "print(data)\n",
    "print(np.shape(data))"
   ]
  },
  {
   "cell_type": "code",
   "execution_count": 6,
   "metadata": {},
   "outputs": [
    {
     "name": "stdout",
     "output_type": "stream",
     "text": [
      "(567,)\n",
      "(567, 3)\n"
     ]
    }
   ],
   "source": [
    "print(np.shape(tags))\n",
    "labels = to_categorical(tags)\n",
    "print(np.shape(labels))"
   ]
  },
  {
   "cell_type": "code",
   "execution_count": 7,
   "metadata": {},
   "outputs": [
    {
     "name": "stdout",
     "output_type": "stream",
     "text": [
      "124\n",
      "(567, 1000) (567, 3) (1000,)\n",
      "(450, 1000) (450, 3)\n",
      "(117, 1000) (117, 3)\n"
     ]
    }
   ],
   "source": [
    "indices = np.arange(data.shape[0])\n",
    "np.random.shuffle(indices)\n",
    "data = data[indices]\n",
    "labels = labels[indices]\n",
    "print(indices[0])\n",
    "print(np.shape(data), np.shape(labels), np.shape(data[0]))\n",
    "\n",
    "x_train= data[:training_samples]\n",
    "y_train= labels[:training_samples]\n",
    "print(np.shape(x_train), np.shape(y_train))\n",
    "\n",
    "x_val =data[training_samples:]\n",
    "y_val =labels[training_samples:]\n",
    "print(np.shape(x_val), np.shape(y_val))\n",
    "from tensorflow.python import keras\n"
   ]
  },
  {
   "cell_type": "code",
   "execution_count": 35,
   "metadata": {
    "pycharm": {
     "is_executing": false,
     "name": "#%%\n"
    },
    "slideshow": {
     "slide_type": "slide"
    }
   },
   "outputs": [],
   "source": [
    "data = data.reshape(data.shape[0], data.shape[1], 1)\n",
    "model = Sequential()\n",
    "model.add(Conv1D(32, 5, activation='relu',kernel_regularizer=l1_l2(l1=0.1, l2=0.1)))\n",
    "model.add(MaxPooling1D(5))\n",
    "model.add(Conv1D(32, 5, activation='relu',kernel_regularizer=l1_l2(l1=0.1, l2=0.1)))\n",
    "model.add(GlobalMaxPooling1D())\n",
    "model.add(Dense(3, activation='softmax'))\n",
    "# model.summary()"
   ]
  },
  {
   "cell_type": "code",
   "execution_count": null,
   "metadata": {
    "pycharm": {
     "is_executing": false,
     "name": "#%%\n"
    },
    "slideshow": {
     "slide_type": "subslide"
    }
   },
   "outputs": [
    {
     "name": "stdout",
     "output_type": "stream",
     "text": [
      "Train on 453 samples, validate on 114 samples\n",
      "Epoch 1/500\n",
      "453/453 [==============================] - 1s 1ms/step - loss: 39.0098 - acc: 0.3002 - val_loss: 35.3870 - val_acc: 0.3070\n",
      "Epoch 2/500\n",
      "453/453 [==============================] - 0s 196us/step - loss: 33.2434 - acc: 0.3135 - val_loss: 31.0013 - val_acc: 0.3158\n",
      "Epoch 3/500\n",
      "453/453 [==============================] - 0s 198us/step - loss: 29.1144 - acc: 0.3201 - val_loss: 27.3831 - val_acc: 0.3596\n",
      "Epoch 4/500\n",
      "453/453 [==============================] - 0s 194us/step - loss: 25.4749 - acc: 0.3444 - val_loss: 23.7335 - val_acc: 0.2807\n",
      "Epoch 5/500\n",
      "453/453 [==============================] - 0s 192us/step - loss: 22.1404 - acc: 0.4018 - val_loss: 20.5505 - val_acc: 0.3070\n",
      "Epoch 6/500\n",
      "453/453 [==============================] - 0s 185us/step - loss: 19.1125 - acc: 0.3797 - val_loss: 18.3630 - val_acc: 0.3246\n",
      "Epoch 7/500\n",
      "453/453 [==============================] - 0s 193us/step - loss: 16.4896 - acc: 0.3974 - val_loss: 15.3936 - val_acc: 0.3070\n",
      "Epoch 8/500\n",
      "453/453 [==============================] - 0s 199us/step - loss: 14.0326 - acc: 0.3929 - val_loss: 13.1184 - val_acc: 0.3070\n",
      "Epoch 9/500\n",
      "453/453 [==============================] - 0s 203us/step - loss: 11.9136 - acc: 0.3422 - val_loss: 10.9708 - val_acc: 0.3596\n",
      "Epoch 10/500\n",
      "453/453 [==============================] - 0s 192us/step - loss: 9.9539 - acc: 0.4062 - val_loss: 9.4552 - val_acc: 0.3596\n",
      "Epoch 11/500\n",
      "453/453 [==============================] - 0s 193us/step - loss: 8.3447 - acc: 0.4062 - val_loss: 8.0166 - val_acc: 0.3246\n",
      "Epoch 12/500\n",
      "453/453 [==============================] - 0s 198us/step - loss: 7.0319 - acc: 0.3355 - val_loss: 6.8453 - val_acc: 0.3158\n",
      "Epoch 13/500\n",
      "453/453 [==============================] - 0s 219us/step - loss: 5.9367 - acc: 0.3709 - val_loss: 5.3924 - val_acc: 0.3333\n",
      "Epoch 14/500\n",
      "453/453 [==============================] - 0s 279us/step - loss: 5.0334 - acc: 0.3885 - val_loss: 4.9361 - val_acc: 0.3246\n",
      "Epoch 15/500\n",
      "453/453 [==============================] - 0s 228us/step - loss: 4.3935 - acc: 0.3377 - val_loss: 4.2739 - val_acc: 0.3596\n",
      "Epoch 16/500\n",
      "453/453 [==============================] - 0s 215us/step - loss: 3.8647 - acc: 0.3532 - val_loss: 3.8044 - val_acc: 0.3596\n",
      "Epoch 17/500\n",
      "453/453 [==============================] - 0s 212us/step - loss: 3.3893 - acc: 0.3841 - val_loss: 3.3488 - val_acc: 0.3596\n",
      "Epoch 18/500\n",
      "453/453 [==============================] - 0s 204us/step - loss: 3.0010 - acc: 0.3775 - val_loss: 2.9682 - val_acc: 0.3158\n",
      "Epoch 19/500\n",
      "453/453 [==============================] - 0s 211us/step - loss: 2.6841 - acc: 0.3510 - val_loss: 2.6203 - val_acc: 0.3596\n",
      "Epoch 20/500\n",
      "453/453 [==============================] - 0s 205us/step - loss: 2.4334 - acc: 0.3201 - val_loss: 2.6486 - val_acc: 0.3158\n",
      "Epoch 21/500\n",
      "453/453 [==============================] - 0s 218us/step - loss: 2.2222 - acc: 0.3863 - val_loss: 2.1794 - val_acc: 0.3596\n",
      "Epoch 22/500\n",
      "453/453 [==============================] - 0s 182us/step - loss: 2.0312 - acc: 0.3664 - val_loss: 1.9346 - val_acc: 0.3158\n",
      "Epoch 23/500\n",
      "453/453 [==============================] - 0s 178us/step - loss: 1.8808 - acc: 0.3488 - val_loss: 1.9319 - val_acc: 0.3246\n",
      "Epoch 24/500\n",
      "453/453 [==============================] - 0s 174us/step - loss: 1.7420 - acc: 0.3841 - val_loss: 1.6797 - val_acc: 0.2895\n",
      "Epoch 25/500\n",
      "453/453 [==============================] - 0s 168us/step - loss: 1.6353 - acc: 0.3664 - val_loss: 1.6404 - val_acc: 0.3246\n",
      "Epoch 26/500\n",
      "453/453 [==============================] - 0s 193us/step - loss: 1.5616 - acc: 0.3620 - val_loss: 1.5149 - val_acc: 0.3246\n",
      "Epoch 27/500\n",
      "453/453 [==============================] - 0s 186us/step - loss: 1.4892 - acc: 0.3400 - val_loss: 1.5221 - val_acc: 0.3158\n",
      "Epoch 28/500\n",
      "453/453 [==============================] - 0s 205us/step - loss: 1.4540 - acc: 0.3422 - val_loss: 1.4443 - val_acc: 0.3246\n",
      "Epoch 29/500\n",
      "453/453 [==============================] - 0s 197us/step - loss: 1.4189 - acc: 0.3135 - val_loss: 1.4157 - val_acc: 0.3246\n",
      "Epoch 30/500\n",
      "453/453 [==============================] - 0s 208us/step - loss: 1.4005 - acc: 0.3157 - val_loss: 1.3931 - val_acc: 0.3596\n",
      "Epoch 31/500\n",
      "453/453 [==============================] - 0s 210us/step - loss: 1.3874 - acc: 0.3024 - val_loss: 1.3834 - val_acc: 0.3246\n",
      "Epoch 32/500\n",
      "453/453 [==============================] - 0s 206us/step - loss: 1.3776 - acc: 0.3245 - val_loss: 1.3760 - val_acc: 0.3158\n",
      "Epoch 33/500\n",
      "453/453 [==============================] - 0s 203us/step - loss: 1.3715 - acc: 0.3377 - val_loss: 1.3731 - val_acc: 0.3246\n",
      "Epoch 34/500\n",
      "453/453 [==============================] - 0s 214us/step - loss: 1.3680 - acc: 0.3355 - val_loss: 1.3682 - val_acc: 0.3158\n",
      "Epoch 35/500\n",
      "453/453 [==============================] - 0s 251us/step - loss: 1.3657 - acc: 0.3377 - val_loss: 1.3649 - val_acc: 0.3158\n",
      "Epoch 36/500\n",
      "453/453 [==============================] - 0s 219us/step - loss: 1.3639 - acc: 0.3377 - val_loss: 1.3637 - val_acc: 0.3158\n",
      "Epoch 37/500\n",
      "453/453 [==============================] - 0s 205us/step - loss: 1.3630 - acc: 0.3377 - val_loss: 1.3635 - val_acc: 0.3158\n",
      "Epoch 38/500\n",
      "453/453 [==============================] - 0s 200us/step - loss: 1.3629 - acc: 0.3377 - val_loss: 1.3641 - val_acc: 0.3158\n",
      "Epoch 39/500\n",
      "453/453 [==============================] - 0s 160us/step - loss: 1.3630 - acc: 0.3377 - val_loss: 1.3637 - val_acc: 0.3158\n",
      "Epoch 40/500\n",
      "453/453 [==============================] - 0s 196us/step - loss: 1.3628 - acc: 0.3377 - val_loss: 1.3636 - val_acc: 0.3158\n",
      "Epoch 41/500\n",
      "453/453 [==============================] - 0s 174us/step - loss: 1.3628 - acc: 0.3377 - val_loss: 1.3631 - val_acc: 0.3158\n",
      "Epoch 42/500\n",
      "453/453 [==============================] - 0s 159us/step - loss: 1.3627 - acc: 0.3377 - val_loss: 1.3633 - val_acc: 0.3158\n",
      "Epoch 43/500\n",
      "453/453 [==============================] - 0s 178us/step - loss: 1.3628 - acc: 0.3377 - val_loss: 1.3629 - val_acc: 0.3158\n",
      "Epoch 44/500\n",
      "453/453 [==============================] - 0s 179us/step - loss: 1.3627 - acc: 0.3377 - val_loss: 1.3628 - val_acc: 0.3158\n",
      "Epoch 45/500\n",
      "453/453 [==============================] - 0s 171us/step - loss: 1.3626 - acc: 0.3377 - val_loss: 1.3626 - val_acc: 0.3158\n",
      "Epoch 46/500\n",
      "453/453 [==============================] - 0s 205us/step - loss: 1.3627 - acc: 0.3377 - val_loss: 1.3623 - val_acc: 0.3158\n",
      "Epoch 47/500\n",
      "453/453 [==============================] - 0s 164us/step - loss: 1.3626 - acc: 0.3377 - val_loss: 1.3621 - val_acc: 0.3158\n",
      "Epoch 48/500\n",
      "453/453 [==============================] - 0s 174us/step - loss: 1.3626 - acc: 0.3377 - val_loss: 1.3618 - val_acc: 0.3158\n",
      "Epoch 49/500\n",
      "453/453 [==============================] - 0s 189us/step - loss: 1.3626 - acc: 0.3377 - val_loss: 1.3619 - val_acc: 0.3158\n",
      "Epoch 50/500\n",
      "453/453 [==============================] - 0s 208us/step - loss: 1.3626 - acc: 0.3377 - val_loss: 1.3618 - val_acc: 0.3158\n",
      "Epoch 51/500\n",
      "453/453 [==============================] - 0s 250us/step - loss: 1.3626 - acc: 0.3377 - val_loss: 1.3616 - val_acc: 0.3158\n",
      "Epoch 52/500\n",
      "453/453 [==============================] - 0s 242us/step - loss: 1.3626 - acc: 0.3377 - val_loss: 1.3618 - val_acc: 0.3158\n",
      "Epoch 53/500\n",
      "453/453 [==============================] - 0s 244us/step - loss: 1.3627 - acc: 0.3377 - val_loss: 1.3618 - val_acc: 0.3158\n",
      "Epoch 54/500\n",
      "453/453 [==============================] - 0s 258us/step - loss: 1.3627 - acc: 0.3377 - val_loss: 1.3618 - val_acc: 0.3158\n",
      "Epoch 55/500\n",
      "453/453 [==============================] - 0s 241us/step - loss: 1.3627 - acc: 0.3377 - val_loss: 1.3618 - val_acc: 0.3158\n",
      "Epoch 56/500\n",
      "453/453 [==============================] - 0s 267us/step - loss: 1.3626 - acc: 0.3377 - val_loss: 1.3616 - val_acc: 0.3158\n",
      "Epoch 57/500\n",
      "453/453 [==============================] - 0s 225us/step - loss: 1.3627 - acc: 0.3377 - val_loss: 1.3616 - val_acc: 0.3158\n",
      "Epoch 58/500\n",
      "453/453 [==============================] - 0s 217us/step - loss: 1.3627 - acc: 0.3377 - val_loss: 1.3614 - val_acc: 0.3158\n",
      "Epoch 59/500\n",
      "453/453 [==============================] - 0s 249us/step - loss: 1.3627 - acc: 0.3377 - val_loss: 1.3615 - val_acc: 0.3158\n",
      "Epoch 60/500\n",
      "453/453 [==============================] - 0s 267us/step - loss: 1.3627 - acc: 0.3377 - val_loss: 1.3617 - val_acc: 0.3158\n"
     ]
    },
    {
     "name": "stdout",
     "output_type": "stream",
     "text": [
      "Epoch 61/500\n",
      "453/453 [==============================] - 0s 272us/step - loss: 1.3626 - acc: 0.3377 - val_loss: 1.3617 - val_acc: 0.3158\n",
      "Epoch 62/500\n",
      "453/453 [==============================] - 0s 202us/step - loss: 1.3626 - acc: 0.3377 - val_loss: 1.3615 - val_acc: 0.3158\n",
      "Epoch 63/500\n",
      "453/453 [==============================] - 0s 185us/step - loss: 1.3627 - acc: 0.3377 - val_loss: 1.3613 - val_acc: 0.3158\n",
      "Epoch 64/500\n",
      "453/453 [==============================] - 0s 195us/step - loss: 1.3626 - acc: 0.3377 - val_loss: 1.3614 - val_acc: 0.3158\n",
      "Epoch 65/500\n",
      "453/453 [==============================] - 0s 191us/step - loss: 1.3626 - acc: 0.3377 - val_loss: 1.3618 - val_acc: 0.3158\n",
      "Epoch 66/500\n",
      "453/453 [==============================] - 0s 188us/step - loss: 1.3626 - acc: 0.3377 - val_loss: 1.3618 - val_acc: 0.3158\n",
      "Epoch 67/500\n",
      "453/453 [==============================] - 0s 187us/step - loss: 1.3627 - acc: 0.3377 - val_loss: 1.3619 - val_acc: 0.3158\n",
      "Epoch 68/500\n",
      "453/453 [==============================] - 0s 198us/step - loss: 1.3626 - acc: 0.3377 - val_loss: 1.3618 - val_acc: 0.3158\n",
      "Epoch 69/500\n",
      "453/453 [==============================] - 0s 236us/step - loss: 1.3627 - acc: 0.3377 - val_loss: 1.3619 - val_acc: 0.3158\n",
      "Epoch 70/500\n",
      "453/453 [==============================] - 0s 306us/step - loss: 1.3627 - acc: 0.3377 - val_loss: 1.3619 - val_acc: 0.3158\n",
      "Epoch 71/500\n",
      "453/453 [==============================] - 0s 227us/step - loss: 1.3627 - acc: 0.3377 - val_loss: 1.3619 - val_acc: 0.3158\n",
      "Epoch 72/500\n",
      "453/453 [==============================] - 0s 195us/step - loss: 1.3626 - acc: 0.3377 - val_loss: 1.3619 - val_acc: 0.3158\n",
      "Epoch 73/500\n",
      "453/453 [==============================] - 0s 193us/step - loss: 1.3628 - acc: 0.3377 - val_loss: 1.3621 - val_acc: 0.3158\n",
      "Epoch 74/500\n",
      "453/453 [==============================] - 0s 212us/step - loss: 1.3626 - acc: 0.3377 - val_loss: 1.3621 - val_acc: 0.3158\n",
      "Epoch 75/500\n",
      "453/453 [==============================] - 0s 184us/step - loss: 1.3627 - acc: 0.3377 - val_loss: 1.3623 - val_acc: 0.3158\n",
      "Epoch 76/500\n",
      "453/453 [==============================] - 0s 186us/step - loss: 1.3628 - acc: 0.3377 - val_loss: 1.3624 - val_acc: 0.3158\n",
      "Epoch 77/500\n",
      "453/453 [==============================] - 0s 205us/step - loss: 1.3626 - acc: 0.3377 - val_loss: 1.3623 - val_acc: 0.3158\n",
      "Epoch 78/500\n",
      "453/453 [==============================] - 0s 199us/step - loss: 1.3627 - acc: 0.3377 - val_loss: 1.3623 - val_acc: 0.3158\n",
      "Epoch 79/500\n",
      "453/453 [==============================] - 0s 183us/step - loss: 1.3627 - acc: 0.3377 - val_loss: 1.3623 - val_acc: 0.3158\n",
      "Epoch 80/500\n",
      "453/453 [==============================] - 0s 227us/step - loss: 1.3628 - acc: 0.3377 - val_loss: 1.3623 - val_acc: 0.3158\n",
      "Epoch 81/500\n",
      "453/453 [==============================] - 0s 261us/step - loss: 1.3627 - acc: 0.3377 - val_loss: 1.3623 - val_acc: 0.3158\n",
      "Epoch 82/500\n",
      "453/453 [==============================] - 0s 209us/step - loss: 1.3627 - acc: 0.3377 - val_loss: 1.3620 - val_acc: 0.3158\n",
      "Epoch 83/500\n",
      "453/453 [==============================] - 0s 213us/step - loss: 1.3627 - acc: 0.3377 - val_loss: 1.3618 - val_acc: 0.3158\n",
      "Epoch 84/500\n",
      "453/453 [==============================] - 0s 189us/step - loss: 1.3627 - acc: 0.3377 - val_loss: 1.3621 - val_acc: 0.3158\n",
      "Epoch 85/500\n",
      "453/453 [==============================] - 0s 179us/step - loss: 1.3626 - acc: 0.3377 - val_loss: 1.3622 - val_acc: 0.3158\n",
      "Epoch 86/500\n",
      "453/453 [==============================] - 0s 186us/step - loss: 1.3627 - acc: 0.3377 - val_loss: 1.3626 - val_acc: 0.3158\n",
      "Epoch 87/500\n",
      "453/453 [==============================] - 0s 191us/step - loss: 1.3627 - acc: 0.3377 - val_loss: 1.3625 - val_acc: 0.3158\n",
      "Epoch 88/500\n",
      "453/453 [==============================] - 0s 190us/step - loss: 1.3627 - acc: 0.3377 - val_loss: 1.3629 - val_acc: 0.3158\n",
      "Epoch 89/500\n",
      "453/453 [==============================] - 0s 186us/step - loss: 1.3627 - acc: 0.3377 - val_loss: 1.3628 - val_acc: 0.3158\n",
      "Epoch 90/500\n",
      "453/453 [==============================] - 0s 189us/step - loss: 1.3627 - acc: 0.3377 - val_loss: 1.3631 - val_acc: 0.3158\n",
      "Epoch 91/500\n",
      "453/453 [==============================] - 0s 188us/step - loss: 1.3627 - acc: 0.3377 - val_loss: 1.3632 - val_acc: 0.3158\n",
      "Epoch 92/500\n",
      "453/453 [==============================] - 0s 186us/step - loss: 1.3628 - acc: 0.3377 - val_loss: 1.3632 - val_acc: 0.3158\n",
      "Epoch 93/500\n",
      "453/453 [==============================] - 0s 184us/step - loss: 1.3628 - acc: 0.3377 - val_loss: 1.3631 - val_acc: 0.3158\n",
      "Epoch 94/500\n",
      "453/453 [==============================] - 0s 212us/step - loss: 1.3627 - acc: 0.3377 - val_loss: 1.3629 - val_acc: 0.3158\n",
      "Epoch 95/500\n",
      "453/453 [==============================] - 0s 219us/step - loss: 1.3627 - acc: 0.3377 - val_loss: 1.3632 - val_acc: 0.3158\n",
      "Epoch 96/500\n",
      "453/453 [==============================] - 0s 230us/step - loss: 1.3627 - acc: 0.3377 - val_loss: 1.3629 - val_acc: 0.3158\n",
      "Epoch 97/500\n",
      "453/453 [==============================] - 0s 202us/step - loss: 1.3627 - acc: 0.3377 - val_loss: 1.3631 - val_acc: 0.3158\n",
      "Epoch 98/500\n",
      "453/453 [==============================] - 0s 186us/step - loss: 1.3626 - acc: 0.3377 - val_loss: 1.3627 - val_acc: 0.3158\n",
      "Epoch 99/500\n",
      "453/453 [==============================] - 0s 195us/step - loss: 1.3626 - acc: 0.3377 - val_loss: 1.3625 - val_acc: 0.3158\n",
      "Epoch 100/500\n",
      "453/453 [==============================] - 0s 180us/step - loss: 1.3627 - acc: 0.3377 - val_loss: 1.3626 - val_acc: 0.3158\n",
      "Epoch 101/500\n",
      "453/453 [==============================] - 0s 176us/step - loss: 1.3628 - acc: 0.3377 - val_loss: 1.3624 - val_acc: 0.3158\n",
      "Epoch 102/500\n",
      "453/453 [==============================] - 0s 180us/step - loss: 1.3627 - acc: 0.3377 - val_loss: 1.3621 - val_acc: 0.3158\n",
      "Epoch 103/500\n",
      "453/453 [==============================] - 0s 182us/step - loss: 1.3627 - acc: 0.3377 - val_loss: 1.3618 - val_acc: 0.3158\n",
      "Epoch 104/500\n",
      "453/453 [==============================] - 0s 171us/step - loss: 1.3627 - acc: 0.3377 - val_loss: 1.3615 - val_acc: 0.3158\n",
      "Epoch 105/500\n",
      "453/453 [==============================] - 0s 227us/step - loss: 1.3627 - acc: 0.3289 - val_loss: 1.3615 - val_acc: 0.3158\n",
      "Epoch 106/500\n",
      "453/453 [==============================] - 0s 209us/step - loss: 1.3627 - acc: 0.3377 - val_loss: 1.3617 - val_acc: 0.3158\n",
      "Epoch 107/500\n",
      "453/453 [==============================] - 0s 188us/step - loss: 1.3628 - acc: 0.3377 - val_loss: 1.3617 - val_acc: 0.3158\n",
      "Epoch 108/500\n",
      "453/453 [==============================] - 0s 173us/step - loss: 1.3626 - acc: 0.3377 - val_loss: 1.3618 - val_acc: 0.3158\n",
      "Epoch 109/500\n",
      "453/453 [==============================] - 0s 187us/step - loss: 1.3627 - acc: 0.3046 - val_loss: 1.3619 - val_acc: 0.3158\n",
      "Epoch 110/500\n",
      "453/453 [==============================] - 0s 179us/step - loss: 1.3626 - acc: 0.3377 - val_loss: 1.3621 - val_acc: 0.3158\n",
      "Epoch 111/500\n",
      "453/453 [==============================] - 0s 171us/step - loss: 1.3627 - acc: 0.3377 - val_loss: 1.3622 - val_acc: 0.3158\n",
      "Epoch 112/500\n",
      "453/453 [==============================] - 0s 171us/step - loss: 1.3627 - acc: 0.3267 - val_loss: 1.3624 - val_acc: 0.3246\n",
      "Epoch 113/500\n",
      "453/453 [==============================] - 0s 174us/step - loss: 1.3627 - acc: 0.3245 - val_loss: 1.3621 - val_acc: 0.3246\n",
      "Epoch 114/500\n",
      "453/453 [==============================] - 0s 177us/step - loss: 1.3627 - acc: 0.3355 - val_loss: 1.3619 - val_acc: 0.3246\n",
      "Epoch 115/500\n",
      "453/453 [==============================] - 0s 173us/step - loss: 1.3627 - acc: 0.3355 - val_loss: 1.3621 - val_acc: 0.3246\n",
      "Epoch 116/500\n",
      "453/453 [==============================] - 0s 177us/step - loss: 1.3626 - acc: 0.3355 - val_loss: 1.3622 - val_acc: 0.3246\n",
      "Epoch 117/500\n",
      "453/453 [==============================] - 0s 204us/step - loss: 1.3627 - acc: 0.3355 - val_loss: 1.3624 - val_acc: 0.3158\n",
      "Epoch 118/500\n",
      "453/453 [==============================] - 0s 186us/step - loss: 1.3627 - acc: 0.3157 - val_loss: 1.3622 - val_acc: 0.3246\n",
      "Epoch 119/500\n",
      "453/453 [==============================] - 0s 192us/step - loss: 1.3627 - acc: 0.3355 - val_loss: 1.3621 - val_acc: 0.3246\n",
      "Epoch 120/500\n",
      "453/453 [==============================] - 0s 169us/step - loss: 1.3628 - acc: 0.3223 - val_loss: 1.3621 - val_acc: 0.3158\n",
      "Epoch 121/500\n"
     ]
    },
    {
     "name": "stdout",
     "output_type": "stream",
     "text": [
      "453/453 [==============================] - 0s 173us/step - loss: 1.3627 - acc: 0.3377 - val_loss: 1.3619 - val_acc: 0.3596\n",
      "Epoch 122/500\n",
      "453/453 [==============================] - 0s 173us/step - loss: 1.3628 - acc: 0.3201 - val_loss: 1.3622 - val_acc: 0.3158\n",
      "Epoch 123/500\n",
      "453/453 [==============================] - 0s 171us/step - loss: 1.3627 - acc: 0.3377 - val_loss: 1.3623 - val_acc: 0.3596\n",
      "Epoch 124/500\n",
      "453/453 [==============================] - 0s 191us/step - loss: 1.3628 - acc: 0.3267 - val_loss: 1.3624 - val_acc: 0.3596\n",
      "Epoch 125/500\n",
      "453/453 [==============================] - 0s 183us/step - loss: 1.3628 - acc: 0.3024 - val_loss: 1.3625 - val_acc: 0.3158\n",
      "Epoch 126/500\n",
      "453/453 [==============================] - 0s 190us/step - loss: 1.3629 - acc: 0.3377 - val_loss: 1.3626 - val_acc: 0.3158\n",
      "Epoch 127/500\n",
      "453/453 [==============================] - 0s 175us/step - loss: 1.3628 - acc: 0.3267 - val_loss: 1.3630 - val_acc: 0.3158\n",
      "Epoch 128/500\n",
      "453/453 [==============================] - 0s 179us/step - loss: 1.3627 - acc: 0.3377 - val_loss: 1.3630 - val_acc: 0.3158\n",
      "Epoch 129/500\n",
      "453/453 [==============================] - 0s 171us/step - loss: 1.3629 - acc: 0.3377 - val_loss: 1.3630 - val_acc: 0.3158\n",
      "Epoch 130/500\n",
      "453/453 [==============================] - 0s 178us/step - loss: 1.3628 - acc: 0.3377 - val_loss: 1.3630 - val_acc: 0.3158\n",
      "Epoch 131/500\n",
      "453/453 [==============================] - 0s 184us/step - loss: 1.3629 - acc: 0.3377 - val_loss: 1.3631 - val_acc: 0.3158\n",
      "Epoch 132/500\n",
      "453/453 [==============================] - 0s 174us/step - loss: 1.3629 - acc: 0.3377 - val_loss: 1.3636 - val_acc: 0.3158\n",
      "Epoch 133/500\n",
      "453/453 [==============================] - 0s 177us/step - loss: 1.3629 - acc: 0.3377 - val_loss: 1.3640 - val_acc: 0.3158\n",
      "Epoch 134/500\n",
      "453/453 [==============================] - 0s 180us/step - loss: 1.3628 - acc: 0.3377 - val_loss: 1.3637 - val_acc: 0.3158\n",
      "Epoch 135/500\n",
      "453/453 [==============================] - 0s 171us/step - loss: 1.3628 - acc: 0.3377 - val_loss: 1.3638 - val_acc: 0.3158\n",
      "Epoch 136/500\n",
      "453/453 [==============================] - 0s 178us/step - loss: 1.3629 - acc: 0.3377 - val_loss: 1.3641 - val_acc: 0.3158\n",
      "Epoch 137/500\n",
      "453/453 [==============================] - 0s 193us/step - loss: 1.3628 - acc: 0.3377 - val_loss: 1.3645 - val_acc: 0.3158\n",
      "Epoch 138/500\n",
      "453/453 [==============================] - 0s 179us/step - loss: 1.3628 - acc: 0.3377 - val_loss: 1.3642 - val_acc: 0.3158\n",
      "Epoch 139/500\n",
      "453/453 [==============================] - 0s 168us/step - loss: 1.3628 - acc: 0.3377 - val_loss: 1.3641 - val_acc: 0.3158\n",
      "Epoch 140/500\n",
      "453/453 [==============================] - 0s 165us/step - loss: 1.3628 - acc: 0.3377 - val_loss: 1.3641 - val_acc: 0.3158\n",
      "Epoch 141/500\n",
      "453/453 [==============================] - 0s 181us/step - loss: 1.3628 - acc: 0.3377 - val_loss: 1.3643 - val_acc: 0.3158\n",
      "Epoch 142/500\n",
      "453/453 [==============================] - 0s 166us/step - loss: 1.3628 - acc: 0.3377 - val_loss: 1.3642 - val_acc: 0.3158\n",
      "Epoch 143/500\n",
      "453/453 [==============================] - 0s 184us/step - loss: 1.3628 - acc: 0.3377 - val_loss: 1.3641 - val_acc: 0.3158\n",
      "Epoch 144/500\n",
      "453/453 [==============================] - 0s 173us/step - loss: 1.3628 - acc: 0.3377 - val_loss: 1.3644 - val_acc: 0.3158\n",
      "Epoch 145/500\n",
      "453/453 [==============================] - 0s 177us/step - loss: 1.3628 - acc: 0.3377 - val_loss: 1.3643 - val_acc: 0.3158\n",
      "Epoch 146/500\n",
      "453/453 [==============================] - 0s 179us/step - loss: 1.3628 - acc: 0.3377 - val_loss: 1.3642 - val_acc: 0.3158\n",
      "Epoch 147/500\n",
      "453/453 [==============================] - 0s 182us/step - loss: 1.3628 - acc: 0.3377 - val_loss: 1.3641 - val_acc: 0.3158\n",
      "Epoch 148/500\n",
      "453/453 [==============================] - 0s 176us/step - loss: 1.3628 - acc: 0.3377 - val_loss: 1.3639 - val_acc: 0.3158\n",
      "Epoch 149/500\n",
      "453/453 [==============================] - 0s 179us/step - loss: 1.3628 - acc: 0.3377 - val_loss: 1.3636 - val_acc: 0.3158\n",
      "Epoch 150/500\n",
      "453/453 [==============================] - 0s 170us/step - loss: 1.3628 - acc: 0.3377 - val_loss: 1.3636 - val_acc: 0.3158\n",
      "Epoch 151/500\n",
      "453/453 [==============================] - 0s 161us/step - loss: 1.3628 - acc: 0.3377 - val_loss: 1.3635 - val_acc: 0.3158\n",
      "Epoch 152/500\n",
      "453/453 [==============================] - 0s 167us/step - loss: 1.3627 - acc: 0.3377 - val_loss: 1.3634 - val_acc: 0.3158\n",
      "Epoch 153/500\n",
      "453/453 [==============================] - 0s 180us/step - loss: 1.3627 - acc: 0.3377 - val_loss: 1.3634 - val_acc: 0.3158\n",
      "Epoch 154/500\n",
      "453/453 [==============================] - 0s 206us/step - loss: 1.3628 - acc: 0.3377 - val_loss: 1.3632 - val_acc: 0.3158\n",
      "Epoch 155/500\n",
      "453/453 [==============================] - 0s 199us/step - loss: 1.3627 - acc: 0.3377 - val_loss: 1.3633 - val_acc: 0.3158\n",
      "Epoch 156/500\n",
      "453/453 [==============================] - 0s 198us/step - loss: 1.3628 - acc: 0.3377 - val_loss: 1.3632 - val_acc: 0.3158\n",
      "Epoch 157/500\n",
      "453/453 [==============================] - 0s 182us/step - loss: 1.3627 - acc: 0.3377 - val_loss: 1.3630 - val_acc: 0.3158\n",
      "Epoch 158/500\n",
      "453/453 [==============================] - 0s 175us/step - loss: 1.3627 - acc: 0.3377 - val_loss: 1.3629 - val_acc: 0.3158\n",
      "Epoch 159/500\n",
      "453/453 [==============================] - 0s 174us/step - loss: 1.3627 - acc: 0.3377 - val_loss: 1.3629 - val_acc: 0.3158\n",
      "Epoch 160/500\n",
      "453/453 [==============================] - 0s 187us/step - loss: 1.3628 - acc: 0.3377 - val_loss: 1.3628 - val_acc: 0.3158\n",
      "Epoch 161/500\n",
      "453/453 [==============================] - 0s 184us/step - loss: 1.3626 - acc: 0.3377 - val_loss: 1.3627 - val_acc: 0.3158\n",
      "Epoch 162/500\n",
      "453/453 [==============================] - 0s 178us/step - loss: 1.3626 - acc: 0.3377 - val_loss: 1.3624 - val_acc: 0.3158\n",
      "Epoch 163/500\n",
      "453/453 [==============================] - 0s 182us/step - loss: 1.3626 - acc: 0.3377 - val_loss: 1.3624 - val_acc: 0.3158\n",
      "Epoch 164/500\n",
      "453/453 [==============================] - 0s 174us/step - loss: 1.3626 - acc: 0.3377 - val_loss: 1.3623 - val_acc: 0.3158\n",
      "Epoch 165/500\n",
      "453/453 [==============================] - 0s 168us/step - loss: 1.3626 - acc: 0.3377 - val_loss: 1.3623 - val_acc: 0.3158\n",
      "Epoch 166/500\n",
      "453/453 [==============================] - 0s 192us/step - loss: 1.3626 - acc: 0.3377 - val_loss: 1.3621 - val_acc: 0.3158\n",
      "Epoch 167/500\n",
      "453/453 [==============================] - 0s 181us/step - loss: 1.3626 - acc: 0.3377 - val_loss: 1.3620 - val_acc: 0.3158\n",
      "Epoch 168/500\n",
      "453/453 [==============================] - 0s 172us/step - loss: 1.3626 - acc: 0.3377 - val_loss: 1.3620 - val_acc: 0.3158\n",
      "Epoch 169/500\n",
      "453/453 [==============================] - 0s 211us/step - loss: 1.3627 - acc: 0.3377 - val_loss: 1.3619 - val_acc: 0.3158\n",
      "Epoch 170/500\n",
      "453/453 [==============================] - 0s 181us/step - loss: 1.3626 - acc: 0.3377 - val_loss: 1.3620 - val_acc: 0.3158\n",
      "Epoch 171/500\n",
      "453/453 [==============================] - 0s 281us/step - loss: 1.3626 - acc: 0.3377 - val_loss: 1.3621 - val_acc: 0.3158\n",
      "Epoch 172/500\n",
      "453/453 [==============================] - 0s 263us/step - loss: 1.3626 - acc: 0.3377 - val_loss: 1.3625 - val_acc: 0.3158\n",
      "Epoch 173/500\n",
      "453/453 [==============================] - 0s 203us/step - loss: 1.3626 - acc: 0.3377 - val_loss: 1.3626 - val_acc: 0.3158\n",
      "Epoch 174/500\n",
      "453/453 [==============================] - 0s 177us/step - loss: 1.3626 - acc: 0.3377 - val_loss: 1.3624 - val_acc: 0.3158\n",
      "Epoch 175/500\n",
      "453/453 [==============================] - 0s 180us/step - loss: 1.3627 - acc: 0.3377 - val_loss: 1.3624 - val_acc: 0.3158\n",
      "Epoch 176/500\n",
      "453/453 [==============================] - 0s 171us/step - loss: 1.3626 - acc: 0.3377 - val_loss: 1.3626 - val_acc: 0.3158\n",
      "Epoch 177/500\n",
      "453/453 [==============================] - 0s 174us/step - loss: 1.3626 - acc: 0.3377 - val_loss: 1.3625 - val_acc: 0.3158\n",
      "Epoch 178/500\n",
      "453/453 [==============================] - 0s 178us/step - loss: 1.3626 - acc: 0.3377 - val_loss: 1.3624 - val_acc: 0.3158\n",
      "Epoch 179/500\n",
      "453/453 [==============================] - 0s 170us/step - loss: 1.3626 - acc: 0.3377 - val_loss: 1.3625 - val_acc: 0.3158\n",
      "Epoch 180/500\n",
      "453/453 [==============================] - 0s 170us/step - loss: 1.3626 - acc: 0.3377 - val_loss: 1.3624 - val_acc: 0.3158\n"
     ]
    },
    {
     "name": "stdout",
     "output_type": "stream",
     "text": [
      "Epoch 181/500\n",
      "453/453 [==============================] - 0s 175us/step - loss: 1.3626 - acc: 0.3377 - val_loss: 1.3624 - val_acc: 0.3158\n",
      "Epoch 182/500\n",
      "453/453 [==============================] - 0s 175us/step - loss: 1.3627 - acc: 0.3377 - val_loss: 1.3627 - val_acc: 0.3158\n",
      "Epoch 183/500\n",
      "453/453 [==============================] - 0s 195us/step - loss: 1.3627 - acc: 0.3377 - val_loss: 1.3628 - val_acc: 0.3158\n",
      "Epoch 184/500\n",
      "453/453 [==============================] - 0s 389us/step - loss: 1.3627 - acc: 0.3377 - val_loss: 1.3630 - val_acc: 0.3158\n",
      "Epoch 185/500\n",
      "453/453 [==============================] - 0s 189us/step - loss: 1.3627 - acc: 0.3377 - val_loss: 1.3631 - val_acc: 0.3158\n",
      "Epoch 186/500\n",
      "453/453 [==============================] - 0s 191us/step - loss: 1.3627 - acc: 0.3377 - val_loss: 1.3630 - val_acc: 0.3158\n",
      "Epoch 187/500\n",
      "453/453 [==============================] - 0s 270us/step - loss: 1.3627 - acc: 0.3377 - val_loss: 1.3631 - val_acc: 0.3158\n",
      "Epoch 188/500\n",
      "453/453 [==============================] - 0s 260us/step - loss: 1.3627 - acc: 0.3377 - val_loss: 1.3631 - val_acc: 0.3158\n",
      "Epoch 189/500\n",
      "453/453 [==============================] - 0s 248us/step - loss: 1.3628 - acc: 0.3377 - val_loss: 1.3632 - val_acc: 0.3158\n",
      "Epoch 190/500\n",
      "453/453 [==============================] - 0s 186us/step - loss: 1.3628 - acc: 0.3377 - val_loss: 1.3633 - val_acc: 0.3158\n",
      "Epoch 191/500\n",
      "453/453 [==============================] - 0s 199us/step - loss: 1.3627 - acc: 0.3377 - val_loss: 1.3633 - val_acc: 0.3158\n",
      "Epoch 192/500\n",
      "453/453 [==============================] - 0s 201us/step - loss: 1.3627 - acc: 0.3377 - val_loss: 1.3633 - val_acc: 0.3158\n",
      "Epoch 193/500\n",
      "453/453 [==============================] - 0s 190us/step - loss: 1.3628 - acc: 0.3377 - val_loss: 1.3632 - val_acc: 0.3158\n",
      "Epoch 194/500\n",
      "453/453 [==============================] - 0s 195us/step - loss: 1.3628 - acc: 0.3377 - val_loss: 1.3633 - val_acc: 0.3158\n",
      "Epoch 195/500\n",
      "453/453 [==============================] - 0s 182us/step - loss: 1.3628 - acc: 0.3377 - val_loss: 1.3635 - val_acc: 0.3158\n",
      "Epoch 196/500\n",
      "453/453 [==============================] - 0s 188us/step - loss: 1.3629 - acc: 0.3377 - val_loss: 1.3636 - val_acc: 0.3158\n",
      "Epoch 197/500\n",
      "453/453 [==============================] - 0s 183us/step - loss: 1.3628 - acc: 0.3377 - val_loss: 1.3635 - val_acc: 0.3158\n",
      "Epoch 198/500\n",
      "453/453 [==============================] - 0s 180us/step - loss: 1.3628 - acc: 0.3377 - val_loss: 1.3636 - val_acc: 0.3158\n",
      "Epoch 199/500\n",
      "453/453 [==============================] - 0s 181us/step - loss: 1.3628 - acc: 0.3201 - val_loss: 1.3637 - val_acc: 0.3246\n",
      "Epoch 200/500\n",
      "453/453 [==============================] - 0s 178us/step - loss: 1.3627 - acc: 0.3355 - val_loss: 1.3637 - val_acc: 0.3246\n",
      "Epoch 201/500\n",
      "453/453 [==============================] - 0s 181us/step - loss: 1.3629 - acc: 0.3355 - val_loss: 1.3634 - val_acc: 0.3246\n",
      "Epoch 202/500\n",
      "453/453 [==============================] - 0s 180us/step - loss: 1.3628 - acc: 0.3355 - val_loss: 1.3634 - val_acc: 0.3246\n",
      "Epoch 203/500\n",
      "453/453 [==============================] - 0s 181us/step - loss: 1.3628 - acc: 0.3355 - val_loss: 1.3635 - val_acc: 0.3246\n",
      "Epoch 204/500\n",
      "453/453 [==============================] - 0s 187us/step - loss: 1.3627 - acc: 0.3355 - val_loss: 1.3636 - val_acc: 0.3246\n",
      "Epoch 205/500\n",
      "453/453 [==============================] - 0s 187us/step - loss: 1.3628 - acc: 0.3179 - val_loss: 1.3636 - val_acc: 0.3246\n",
      "Epoch 206/500\n",
      "453/453 [==============================] - 0s 191us/step - loss: 1.3627 - acc: 0.3355 - val_loss: 1.3635 - val_acc: 0.3158\n",
      "Epoch 207/500\n",
      "453/453 [==============================] - 0s 197us/step - loss: 1.3627 - acc: 0.3377 - val_loss: 1.3634 - val_acc: 0.3158\n",
      "Epoch 208/500\n",
      "453/453 [==============================] - 0s 179us/step - loss: 1.3627 - acc: 0.3377 - val_loss: 1.3633 - val_acc: 0.3158\n",
      "Epoch 209/500\n",
      "453/453 [==============================] - 0s 189us/step - loss: 1.3628 - acc: 0.3377 - val_loss: 1.3632 - val_acc: 0.3158\n",
      "Epoch 210/500\n",
      "453/453 [==============================] - 0s 179us/step - loss: 1.3628 - acc: 0.3377 - val_loss: 1.3632 - val_acc: 0.3158\n",
      "Epoch 211/500\n",
      "453/453 [==============================] - 0s 192us/step - loss: 1.3627 - acc: 0.3377 - val_loss: 1.3631 - val_acc: 0.3158\n",
      "Epoch 212/500\n",
      "453/453 [==============================] - 0s 206us/step - loss: 1.3627 - acc: 0.3377 - val_loss: 1.3634 - val_acc: 0.3158\n",
      "Epoch 213/500\n",
      "453/453 [==============================] - 0s 214us/step - loss: 1.3627 - acc: 0.3377 - val_loss: 1.3632 - val_acc: 0.3158\n",
      "Epoch 214/500\n",
      "453/453 [==============================] - 0s 225us/step - loss: 1.3627 - acc: 0.3377 - val_loss: 1.3632 - val_acc: 0.3246\n",
      "Epoch 215/500\n",
      "453/453 [==============================] - 0s 220us/step - loss: 1.3627 - acc: 0.3355 - val_loss: 1.3633 - val_acc: 0.3246\n",
      "Epoch 216/500\n",
      "453/453 [==============================] - 0s 219us/step - loss: 1.3627 - acc: 0.3355 - val_loss: 1.3631 - val_acc: 0.3246\n",
      "Epoch 217/500\n",
      "453/453 [==============================] - 0s 223us/step - loss: 1.3627 - acc: 0.3355 - val_loss: 1.3633 - val_acc: 0.3246\n",
      "Epoch 218/500\n",
      "453/453 [==============================] - 0s 215us/step - loss: 1.3627 - acc: 0.3355 - val_loss: 1.3634 - val_acc: 0.3246\n",
      "Epoch 219/500\n",
      "453/453 [==============================] - 0s 234us/step - loss: 1.3627 - acc: 0.3355 - val_loss: 1.3636 - val_acc: 0.3246\n",
      "Epoch 220/500\n",
      "453/453 [==============================] - 0s 199us/step - loss: 1.3628 - acc: 0.3355 - val_loss: 1.3635 - val_acc: 0.3246\n",
      "Epoch 221/500\n",
      "453/453 [==============================] - 0s 192us/step - loss: 1.3627 - acc: 0.3355 - val_loss: 1.3635 - val_acc: 0.3246\n",
      "Epoch 222/500\n",
      "453/453 [==============================] - 0s 191us/step - loss: 1.3628 - acc: 0.3355 - val_loss: 1.3637 - val_acc: 0.3246\n",
      "Epoch 223/500\n",
      "453/453 [==============================] - 0s 198us/step - loss: 1.3628 - acc: 0.3355 - val_loss: 1.3638 - val_acc: 0.3246\n",
      "Epoch 224/500\n",
      "453/453 [==============================] - 0s 187us/step - loss: 1.3628 - acc: 0.3355 - val_loss: 1.3636 - val_acc: 0.3246\n",
      "Epoch 225/500\n",
      "453/453 [==============================] - 0s 182us/step - loss: 1.3628 - acc: 0.3355 - val_loss: 1.3637 - val_acc: 0.3246\n",
      "Epoch 226/500\n",
      "453/453 [==============================] - 0s 184us/step - loss: 1.3628 - acc: 0.3355 - val_loss: 1.3637 - val_acc: 0.3246\n",
      "Epoch 227/500\n",
      "453/453 [==============================] - 0s 187us/step - loss: 1.3627 - acc: 0.3355 - val_loss: 1.3638 - val_acc: 0.3246\n",
      "Epoch 228/500\n",
      "453/453 [==============================] - 0s 190us/step - loss: 1.3628 - acc: 0.3135 - val_loss: 1.3640 - val_acc: 0.3158\n",
      "Epoch 229/500\n",
      "453/453 [==============================] - 0s 189us/step - loss: 1.3627 - acc: 0.3223 - val_loss: 1.3639 - val_acc: 0.3246\n",
      "Epoch 230/500\n",
      "453/453 [==============================] - 0s 194us/step - loss: 1.3628 - acc: 0.3157 - val_loss: 1.3639 - val_acc: 0.3158\n",
      "Epoch 231/500\n",
      "453/453 [==============================] - 0s 183us/step - loss: 1.3628 - acc: 0.3311 - val_loss: 1.3639 - val_acc: 0.3158\n",
      "Epoch 232/500\n",
      "453/453 [==============================] - 0s 187us/step - loss: 1.3628 - acc: 0.3377 - val_loss: 1.3640 - val_acc: 0.3158\n",
      "Epoch 233/500\n",
      "453/453 [==============================] - 0s 180us/step - loss: 1.3628 - acc: 0.3289 - val_loss: 1.3642 - val_acc: 0.3158\n",
      "Epoch 234/500\n",
      "453/453 [==============================] - 0s 186us/step - loss: 1.3628 - acc: 0.3201 - val_loss: 1.3643 - val_acc: 0.3158\n",
      "Epoch 235/500\n",
      "453/453 [==============================] - 0s 173us/step - loss: 1.3628 - acc: 0.3377 - val_loss: 1.3643 - val_acc: 0.3158\n",
      "Epoch 236/500\n",
      "453/453 [==============================] - 0s 186us/step - loss: 1.3629 - acc: 0.3377 - val_loss: 1.3642 - val_acc: 0.3158\n",
      "Epoch 237/500\n",
      "453/453 [==============================] - 0s 173us/step - loss: 1.3629 - acc: 0.3377 - val_loss: 1.3644 - val_acc: 0.3246\n",
      "Epoch 238/500\n",
      "453/453 [==============================] - 0s 169us/step - loss: 1.3629 - acc: 0.3311 - val_loss: 1.3646 - val_acc: 0.3158\n",
      "Epoch 239/500\n",
      "453/453 [==============================] - 0s 163us/step - loss: 1.3629 - acc: 0.3377 - val_loss: 1.3647 - val_acc: 0.3158\n",
      "Epoch 240/500\n",
      "453/453 [==============================] - 0s 165us/step - loss: 1.3629 - acc: 0.3377 - val_loss: 1.3647 - val_acc: 0.3158\n"
     ]
    },
    {
     "name": "stdout",
     "output_type": "stream",
     "text": [
      "Epoch 241/500\n",
      "453/453 [==============================] - 0s 179us/step - loss: 1.3630 - acc: 0.3377 - val_loss: 1.3647 - val_acc: 0.3158\n",
      "Epoch 242/500\n",
      "453/453 [==============================] - 0s 198us/step - loss: 1.3629 - acc: 0.3377 - val_loss: 1.3647 - val_acc: 0.3158\n",
      "Epoch 243/500\n",
      "453/453 [==============================] - 0s 201us/step - loss: 1.3629 - acc: 0.3377 - val_loss: 1.3646 - val_acc: 0.3158\n",
      "Epoch 244/500\n",
      "453/453 [==============================] - 0s 182us/step - loss: 1.3629 - acc: 0.3377 - val_loss: 1.3647 - val_acc: 0.3158\n",
      "Epoch 245/500\n",
      "453/453 [==============================] - 0s 203us/step - loss: 1.3628 - acc: 0.3377 - val_loss: 1.3645 - val_acc: 0.3158\n",
      "Epoch 246/500\n",
      "453/453 [==============================] - 0s 192us/step - loss: 1.3629 - acc: 0.3377 - val_loss: 1.3644 - val_acc: 0.3158\n",
      "Epoch 247/500\n",
      "453/453 [==============================] - 0s 179us/step - loss: 1.3629 - acc: 0.3377 - val_loss: 1.3644 - val_acc: 0.3158\n",
      "Epoch 248/500\n",
      "453/453 [==============================] - 0s 190us/step - loss: 1.3629 - acc: 0.3377 - val_loss: 1.3643 - val_acc: 0.3158\n",
      "Epoch 249/500\n",
      "453/453 [==============================] - 0s 190us/step - loss: 1.3629 - acc: 0.3377 - val_loss: 1.3643 - val_acc: 0.3158\n",
      "Epoch 250/500\n",
      "453/453 [==============================] - 0s 193us/step - loss: 1.3629 - acc: 0.3377 - val_loss: 1.3643 - val_acc: 0.3158\n",
      "Epoch 251/500\n",
      "453/453 [==============================] - 0s 196us/step - loss: 1.3629 - acc: 0.3377 - val_loss: 1.3643 - val_acc: 0.3158\n",
      "Epoch 252/500\n",
      "453/453 [==============================] - 0s 182us/step - loss: 1.3629 - acc: 0.3377 - val_loss: 1.3642 - val_acc: 0.3158\n",
      "Epoch 253/500\n",
      "453/453 [==============================] - 0s 190us/step - loss: 1.3629 - acc: 0.3377 - val_loss: 1.3644 - val_acc: 0.3158\n",
      "Epoch 254/500\n",
      "453/453 [==============================] - 0s 186us/step - loss: 1.3629 - acc: 0.3377 - val_loss: 1.3644 - val_acc: 0.3158\n",
      "Epoch 255/500\n",
      "453/453 [==============================] - 0s 194us/step - loss: 1.3629 - acc: 0.3377 - val_loss: 1.3644 - val_acc: 0.3158\n",
      "Epoch 256/500\n",
      "453/453 [==============================] - 0s 194us/step - loss: 1.3629 - acc: 0.3377 - val_loss: 1.3646 - val_acc: 0.3158\n",
      "Epoch 257/500\n",
      "453/453 [==============================] - 0s 191us/step - loss: 1.3630 - acc: 0.3377 - val_loss: 1.3648 - val_acc: 0.3158\n",
      "Epoch 258/500\n",
      "453/453 [==============================] - 0s 179us/step - loss: 1.3629 - acc: 0.3377 - val_loss: 1.3648 - val_acc: 0.3158\n",
      "Epoch 259/500\n",
      "453/453 [==============================] - 0s 193us/step - loss: 1.3629 - acc: 0.3377 - val_loss: 1.3649 - val_acc: 0.3158\n",
      "Epoch 260/500\n",
      "453/453 [==============================] - 0s 186us/step - loss: 1.3629 - acc: 0.3377 - val_loss: 1.3646 - val_acc: 0.3158\n",
      "Epoch 261/500\n",
      "453/453 [==============================] - 0s 186us/step - loss: 1.3628 - acc: 0.3377 - val_loss: 1.3646 - val_acc: 0.3158\n",
      "Epoch 262/500\n",
      "453/453 [==============================] - 0s 193us/step - loss: 1.3629 - acc: 0.3377 - val_loss: 1.3647 - val_acc: 0.3158\n",
      "Epoch 263/500\n",
      "453/453 [==============================] - 0s 188us/step - loss: 1.3628 - acc: 0.3377 - val_loss: 1.3649 - val_acc: 0.3158\n",
      "Epoch 264/500\n",
      "453/453 [==============================] - 0s 189us/step - loss: 1.3628 - acc: 0.3377 - val_loss: 1.3647 - val_acc: 0.3158\n",
      "Epoch 265/500\n",
      "453/453 [==============================] - 0s 208us/step - loss: 1.3628 - acc: 0.3377 - val_loss: 1.3646 - val_acc: 0.3158\n",
      "Epoch 266/500\n",
      "453/453 [==============================] - 0s 193us/step - loss: 1.3628 - acc: 0.3377 - val_loss: 1.3648 - val_acc: 0.3158\n",
      "Epoch 267/500\n",
      "453/453 [==============================] - 0s 326us/step - loss: 1.3628 - acc: 0.3377 - val_loss: 1.3644 - val_acc: 0.3158\n",
      "Epoch 268/500\n",
      "453/453 [==============================] - 0s 189us/step - loss: 1.3628 - acc: 0.3377 - val_loss: 1.3646 - val_acc: 0.3158\n",
      "Epoch 269/500\n",
      "453/453 [==============================] - 0s 197us/step - loss: 1.3628 - acc: 0.3377 - val_loss: 1.3648 - val_acc: 0.3158\n",
      "Epoch 270/500\n",
      "453/453 [==============================] - 0s 198us/step - loss: 1.3628 - acc: 0.3377 - val_loss: 1.3648 - val_acc: 0.3158\n",
      "Epoch 271/500\n",
      "453/453 [==============================] - 0s 188us/step - loss: 1.3628 - acc: 0.3377 - val_loss: 1.3645 - val_acc: 0.3158\n",
      "Epoch 272/500\n",
      "453/453 [==============================] - 0s 189us/step - loss: 1.3628 - acc: 0.3377 - val_loss: 1.3644 - val_acc: 0.3158\n",
      "Epoch 273/500\n",
      "453/453 [==============================] - 0s 213us/step - loss: 1.3628 - acc: 0.3377 - val_loss: 1.3642 - val_acc: 0.3158\n",
      "Epoch 274/500\n",
      "453/453 [==============================] - 0s 184us/step - loss: 1.3628 - acc: 0.3377 - val_loss: 1.3642 - val_acc: 0.3158\n",
      "Epoch 275/500\n",
      "453/453 [==============================] - 0s 192us/step - loss: 1.3628 - acc: 0.3377 - val_loss: 1.3643 - val_acc: 0.3158\n",
      "Epoch 276/500\n",
      "453/453 [==============================] - 0s 190us/step - loss: 1.3628 - acc: 0.3377 - val_loss: 1.3644 - val_acc: 0.3158\n",
      "Epoch 277/500\n",
      "453/453 [==============================] - 0s 184us/step - loss: 1.3628 - acc: 0.3377 - val_loss: 1.3645 - val_acc: 0.3158\n",
      "Epoch 278/500\n",
      "453/453 [==============================] - 0s 186us/step - loss: 1.3628 - acc: 0.3377 - val_loss: 1.3644 - val_acc: 0.3158\n",
      "Epoch 279/500\n",
      "453/453 [==============================] - 0s 245us/step - loss: 1.3628 - acc: 0.3377 - val_loss: 1.3647 - val_acc: 0.3158\n",
      "Epoch 280/500\n",
      "453/453 [==============================] - 0s 263us/step - loss: 1.3628 - acc: 0.3377 - val_loss: 1.3646 - val_acc: 0.3158\n",
      "Epoch 281/500\n",
      "453/453 [==============================] - 0s 216us/step - loss: 1.3628 - acc: 0.3377 - val_loss: 1.3645 - val_acc: 0.3158\n",
      "Epoch 282/500\n",
      "453/453 [==============================] - 0s 216us/step - loss: 1.3628 - acc: 0.3377 - val_loss: 1.3647 - val_acc: 0.3158\n",
      "Epoch 283/500\n",
      "453/453 [==============================] - 0s 189us/step - loss: 1.3628 - acc: 0.3377 - val_loss: 1.3647 - val_acc: 0.3158\n",
      "Epoch 284/500\n",
      "453/453 [==============================] - 0s 185us/step - loss: 1.3629 - acc: 0.3377 - val_loss: 1.3646 - val_acc: 0.3158\n",
      "Epoch 285/500\n",
      "453/453 [==============================] - 0s 188us/step - loss: 1.3628 - acc: 0.3377 - val_loss: 1.3645 - val_acc: 0.3158\n",
      "Epoch 286/500\n",
      "453/453 [==============================] - 0s 196us/step - loss: 1.3628 - acc: 0.3377 - val_loss: 1.3643 - val_acc: 0.3158\n",
      "Epoch 287/500\n",
      "453/453 [==============================] - 0s 196us/step - loss: 1.3628 - acc: 0.3377 - val_loss: 1.3644 - val_acc: 0.3158\n",
      "Epoch 288/500\n",
      "453/453 [==============================] - 0s 188us/step - loss: 1.3627 - acc: 0.3377 - val_loss: 1.3644 - val_acc: 0.3158\n",
      "Epoch 289/500\n",
      "453/453 [==============================] - 0s 190us/step - loss: 1.3629 - acc: 0.3377 - val_loss: 1.3646 - val_acc: 0.3158\n",
      "Epoch 290/500\n",
      "453/453 [==============================] - 0s 195us/step - loss: 1.3628 - acc: 0.3377 - val_loss: 1.3645 - val_acc: 0.3158\n",
      "Epoch 291/500\n",
      "453/453 [==============================] - 0s 195us/step - loss: 1.3629 - acc: 0.3377 - val_loss: 1.3648 - val_acc: 0.3158\n",
      "Epoch 292/500\n",
      "453/453 [==============================] - 0s 192us/step - loss: 1.3628 - acc: 0.3377 - val_loss: 1.3649 - val_acc: 0.3158\n",
      "Epoch 293/500\n",
      "453/453 [==============================] - 0s 206us/step - loss: 1.3629 - acc: 0.3377 - val_loss: 1.3648 - val_acc: 0.3158\n",
      "Epoch 294/500\n",
      "453/453 [==============================] - 0s 231us/step - loss: 1.3629 - acc: 0.3377 - val_loss: 1.3647 - val_acc: 0.3158\n",
      "Epoch 295/500\n",
      "453/453 [==============================] - 0s 184us/step - loss: 1.3628 - acc: 0.3377 - val_loss: 1.3646 - val_acc: 0.3158\n",
      "Epoch 296/500\n",
      "453/453 [==============================] - 0s 194us/step - loss: 1.3629 - acc: 0.3377 - val_loss: 1.3644 - val_acc: 0.3158\n",
      "Epoch 297/500\n",
      "453/453 [==============================] - 0s 185us/step - loss: 1.3628 - acc: 0.3377 - val_loss: 1.3641 - val_acc: 0.3158\n",
      "Epoch 298/500\n",
      "453/453 [==============================] - 0s 185us/step - loss: 1.3628 - acc: 0.3377 - val_loss: 1.3641 - val_acc: 0.3158\n",
      "Epoch 299/500\n",
      "453/453 [==============================] - 0s 189us/step - loss: 1.3628 - acc: 0.3377 - val_loss: 1.3642 - val_acc: 0.3158\n",
      "Epoch 300/500\n",
      " 50/453 [==>...........................] - ETA: 0s - loss: 1.3608 - acc: 0.4000"
     ]
    }
   ],
   "source": [
    "from tensorflow.keras.callbacks import EarlyStopping\n",
    "es = EarlyStopping(monitor='acc',patience=10, verbose=1, mode='auto')\n",
    "callbacks = [keras.callbacks.TensorBoard(log_dir='my_log_dir',histogram_freq=1)]\n",
    "model.compile(optimizer=RMSprop(),\n",
    "loss='categorical_crossentropy',\n",
    "metrics=['acc'])\n",
    "history = model.fit(data, labels,\n",
    "epochs=500,  \n",
    "batch_size=50,\n",
    "validation_split=0.2,\n",
    "callbacks=callbacks)\n",
    "model.save_weights('pre_trained_glove_model.h5')\n",
    "model.summary()"
   ]
  },
  {
   "cell_type": "code",
   "execution_count": null,
   "metadata": {
    "pycharm": {
     "name": "#%%\n"
    },
    "slideshow": {
     "slide_type": "slide"
    }
   },
   "outputs": [],
   "source": [
    "import matplotlib.pyplot as plt\n",
    "acc = history.history['acc']\n",
    "val_acc = history.history['val_acc']\n",
    "loss = history.history['loss']\n",
    "val_loss = history.history['val_loss']\n",
    "epochs = range(1, len(acc) + 1)\n",
    "plt.plot(epochs, acc, 'bo', label='Training acc')\n",
    "plt.plot(epochs, val_acc, 'b', label='Validation acc')\n",
    "plt.title('Training and validation accuracy')\n",
    "plt.legend()\n",
    "plt.figure()\n",
    "plt.plot(epochs, loss, 'bo', label='Training loss')\n",
    "plt.plot(epochs, val_loss, 'b', label='Validation loss')\n",
    "plt.title('Training and validation loss')\n",
    "plt.legend()\n",
    "plt.show()\n",
    "\n",
    "\n"
   ]
  },
  {
   "cell_type": "code",
   "execution_count": 57,
   "metadata": {},
   "outputs": [
    {
     "name": "stdout",
     "output_type": "stream",
     "text": [
      "567/567 [==============================] - 0s 146us/step\n",
      "0.5097001764982466\n"
     ]
    }
   ],
   "source": [
    "result = model.evaluate(data, labels)\n",
    "print(x[1])"
   ]
  },
  {
   "cell_type": "code",
   "execution_count": null,
   "metadata": {},
   "outputs": [],
   "source": []
  }
 ],
 "metadata": {
  "kernelspec": {
   "display_name": "Python 3",
   "language": "python",
   "name": "python3"
  },
  "language_info": {
   "codemirror_mode": {
    "name": "ipython",
    "version": 3
   },
   "file_extension": ".py",
   "mimetype": "text/x-python",
   "name": "python",
   "nbconvert_exporter": "python",
   "pygments_lexer": "ipython3",
   "version": "3.6.8"
  },
  "pycharm": {
   "stem_cell": {
    "cell_type": "raw",
    "metadata": {
     "collapsed": false
    },
    "source": []
   }
  }
 },
 "nbformat": 4,
 "nbformat_minor": 1
}
