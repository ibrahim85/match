{
 "cells": [
  {
   "cell_type": "markdown",
   "metadata": {
    "slideshow": {
     "slide_type": "slide"
    }
   },
   "source": [
    "# Readability Assessment throughConvolutional Neural Network"
   ]
  },
  {
   "cell_type": "markdown",
   "metadata": {
    "slideshow": {
     "slide_type": "slide"
    }
   },
   "source": [
    "Readability assessment is a well known problem in natural language processing field. Giving someone the suitable text for his level of comprehension (not so easy and not so hard) could maximize his understanding and enjoyment. In this notebook we are trying to assess the readability of a given text regardless of the text subject using recurrent neural network."
   ]
  },
  {
   "cell_type": "markdown",
   "metadata": {
    "pycharm": {
     "name": "#%% md\n"
    },
    "slideshow": {
     "slide_type": "slide"
    }
   },
   "source": [
    "## Corpus\n",
    "> OneStopEnglish corpus: A new corpus for automatic readability assessment and text simplification  \n",
    "> Sowmya Vajjala and Ivana Lučić  \n",
    "> 2018  \n",
    "> Proceedings of the Thirteenth Workshop on Innovative Use of NLP for Building Educational Applications, pages 297–304. Association for Computational Linguistics.  \n",
    "> [url](http://aclweb.org/anthology/W18-0535). [bib file](https://aclanthology.coli.uni-saarland.de/papers/W18-0535/w18-0535.bib)\n",
    "\n",
    "Please cite the above paper if you use this corpus in your research.\n",
    "\n",
    "[![DOI](https://zenodo.org/badge/128919409.svg)](https://zenodo.org/badge/latestdoi/128919409)\n",
    "\n",
    "<a rel=\"license\" href=\"http://creativecommons.org/licenses/by-sa/4.0/\"><img alt=\"Creative Commons License\" style=\"border-width:0\" src=\"https://i.creativecommons.org/l/by-sa/4.0/88x31.png\" /></a><br />This work is licensed under a <a rel=\"license\" href=\"http://creativecommons.org/licenses/by-sa/4.0/\">Creative Commons Attribution-ShareAlike 4.0 International License</a>."
   ]
  },
  {
   "cell_type": "markdown",
   "metadata": {
    "pycharm": {
     "name": "#%% md\n"
    },
    "slideshow": {
     "slide_type": "slide"
    }
   },
   "source": [
    "Now let's dive into our corpus."
   ]
  },
  {
   "cell_type": "code",
   "execution_count": 26,
   "metadata": {
    "pycharm": {
     "is_executing": false,
     "name": "#%%\n"
    },
    "slideshow": {
     "slide_type": "slide"
    }
   },
   "outputs": [],
   "source": [
    "import sys\n",
    "sys.path.append(\"/home/ms10596/PycharmProjects/match\")\n",
    "from ipywidgets import interact\n",
    "from tabulate import tabulate\n",
    "from IPython.display import display, HTML\n",
    "\n",
    "from utils.loading import load_glove_embeddings\n",
    "from utils.one_stop_english import load_corpus, corpus_to_words, corpus_to_pos, detokenize\n",
    "\n",
    "from tensorflow.keras.preprocessing.text import Tokenizer\n",
    "from tensorflow.keras.preprocessing.sequence import pad_sequences\n",
    "from tensorflow.keras.utils import to_categorical\n",
    "from tensorflow.keras.models import Sequential\n",
    "from tensorflow.keras.layers import Embedding, Flatten, Dense, LSTM, Bidirectional,Conv1D,MaxPooling1D,GlobalMaxPooling1D\n",
    "from tensorflow.keras.optimizers import RMSprop\n",
    "# from tensorflow.keras.engine.input_layer import Input\n",
    "\n",
    "import numpy as np\n",
    "\n",
    "# glove = load_glove_embeddings()\n",
    "corpus = load_corpus()\n",
    "articles, tags = corpus_to_words(corpus)"
   ]
  },
  {
   "cell_type": "markdown",
   "metadata": {
    "slideshow": {
     "slide_type": "slide"
    }
   },
   "source": [
    "Reading level|Avg. Num. Words|Std. Dev|Number of Articles\n",
    "---|---|---|---\n",
    "Elementary|533.17|103.79|189\n",
    "Intermediate|676.59|117.15|189\n",
    "Advanced|820.49|162.52|189\n",
    "\n"
   ]
  },
  {
   "cell_type": "code",
   "execution_count": 27,
   "metadata": {
    "pycharm": {
     "is_executing": false
    },
    "slideshow": {
     "slide_type": "subslide"
    }
   },
   "outputs": [
    {
     "data": {
      "application/vnd.jupyter.widget-view+json": {
       "model_id": "81f1931ed90e438c9bb984e5b2c628f6",
       "version_major": 2,
       "version_minor": 0
      },
      "text/plain": [
       "interactive(children=(IntSlider(value=94, description='i', max=188), IntSlider(value=500, description='words',…"
      ]
     },
     "metadata": {},
     "output_type": "display_data"
    }
   ],
   "source": [
    "@interact\n",
    "def show_articles(i=(0,188,1), words=(0,1000,1)):\n",
    "    data = [\n",
    "        [\"Advanced\",detokenize(articles[i][:words])], \n",
    "        [\"Intermediate\",detokenize(articles[i+2][:words])], \n",
    "        [\"Elementary\",detokenize(articles[i+1][:words])]\n",
    "    ]\n",
    "    headers = ['Reading Level', 'Example']\n",
    "    display(HTML(tabulate(data,tablefmt='html', headers=headers)+\"<style>th,td {font-size: 10px}</style>\"))"
   ]
  },
  {
   "cell_type": "code",
   "execution_count": 28,
   "metadata": {
    "pycharm": {
     "is_executing": false,
     "name": "#%%\n"
    },
    "slideshow": {
     "slide_type": "slide"
    }
   },
   "outputs": [
    {
     "name": "stdout",
     "output_type": "stream",
     "text": [
      "{'nn': 1, 'in': 2, 'dt': 3, 'jj': 4, 'nns': 5, 'nnp': 6, ',': 7, '.': 8, 'rb': 9, 'prp': 10, 'vb': 11, 'vbd': 12, 'cc': 13, 'vbz': 14, 'to': 15, 'vbp': 16, 'cd': 17, 'vbn': 18, 'vbg': 19, 'prp$': 20, 'md': 21, 'wdt': 22, 'wrb': 23, 'wp': 24, 'jjr': 25, 'rp': 26, ':': 27, 'jjs': 28, 'ex': 29, 'rbr': 30, 'nnps': 31, '-rrb-': 32, '-lrb-': 33, 'rbs': 34, 'pdt': 35, '$': 36, 'fw': 37, 'uh': 38, 'wp$': 39, 'sym': 40, \"''\": 41, 'ls': 42, 'pos': 43, '``': 44}\n",
      "44\n"
     ]
    }
   ],
   "source": [
    "maxlen = 1000 # Cuts off reviews after 100 words\n",
    "training_samples = 450\n",
    "validation_samples = 117\n",
    "max_words = 45\n",
    "articles, tags = corpus_to_pos(corpus)\n",
    "tokenizer = Tokenizer(num_words=max_words)\n",
    "tokenizer.fit_on_texts(articles)\n",
    "print(tokenizer.word_index)\n",
    "print(len(tokenizer.word_index))\n"
   ]
  },
  {
   "cell_type": "code",
   "execution_count": 29,
   "metadata": {},
   "outputs": [
    {
     "name": "stdout",
     "output_type": "stream",
     "text": [
      "(567,)\n"
     ]
    }
   ],
   "source": [
    "sequences = tokenizer.texts_to_sequences(articles)\n",
    "# print(sequences)\n",
    "print(np.shape(sequences))\n"
   ]
  },
  {
   "cell_type": "code",
   "execution_count": 30,
   "metadata": {},
   "outputs": [
    {
     "name": "stdout",
     "output_type": "stream",
     "text": [
      "[[ 0  0  0 ...  2 17  8]\n",
      " [ 0  0  0 ...  2 17  8]\n",
      " [ 0  0  0 ...  2 17  8]\n",
      " ...\n",
      " [ 0  0  0 ...  4  1  8]\n",
      " [ 0  0  0 ...  4  1  8]\n",
      " [ 0  0  0 ...  4  1  8]]\n",
      "(567, 1000)\n"
     ]
    }
   ],
   "source": [
    "\n",
    "data = pad_sequences(sequences, maxlen=maxlen)\n",
    "print(data)\n",
    "print(np.shape(data))"
   ]
  },
  {
   "cell_type": "code",
   "execution_count": 31,
   "metadata": {},
   "outputs": [
    {
     "name": "stdout",
     "output_type": "stream",
     "text": [
      "(567,)\n",
      "(567, 3)\n"
     ]
    }
   ],
   "source": [
    "print(np.shape(tags))\n",
    "labels = to_categorical(tags)\n",
    "print(np.shape(labels))"
   ]
  },
  {
   "cell_type": "code",
   "execution_count": 32,
   "metadata": {},
   "outputs": [
    {
     "name": "stdout",
     "output_type": "stream",
     "text": [
      "(567, 1000) (567, 3) (1000,)\n",
      "(450, 1000) (450, 3)\n",
      "(117, 1000) (117, 3)\n"
     ]
    }
   ],
   "source": [
    "indices = np.arange(data.shape[0])\n",
    "np.random.shuffle(indices)\n",
    "data = data[indices]\n",
    "labels = labels[indices]\n",
    "print(np.shape(data), np.shape(labels), np.shape(data[0]))\n",
    "\n",
    "x_train= data[:training_samples]\n",
    "y_train= labels[:training_samples]\n",
    "print(np.shape(x_train), np.shape(y_train))\n",
    "\n",
    "x_val =data[training_samples:]\n",
    "y_val =labels[training_samples:]\n",
    "print(np.shape(x_val), np.shape(y_val))\n",
    "from tensorflow.python import keras\n"
   ]
  },
  {
   "cell_type": "code",
   "execution_count": 97,
   "metadata": {
    "pycharm": {
     "is_executing": false,
     "name": "#%%\n"
    },
    "slideshow": {
     "slide_type": "slide"
    }
   },
   "outputs": [],
   "source": [
    "data = data.reshape(data.shape[0], data.shape[1], 1)\n",
    "model = Sequential()\n",
    "model.add(Conv1D(32, 10, activation='relu'))\n",
    "model.add(MaxPooling1D(5))\n",
    "model.add(Conv1D(32, 10, activation='relu'))\n",
    "model.add(GlobalMaxPooling1D())\n",
    "model.add(Dense(3, activation='softmax'))\n",
    "# model.summary()"
   ]
  },
  {
   "cell_type": "code",
   "execution_count": 102,
   "metadata": {
    "pycharm": {
     "is_executing": false,
     "name": "#%%\n"
    },
    "slideshow": {
     "slide_type": "subslide"
    }
   },
   "outputs": [
    {
     "name": "stdout",
     "output_type": "stream",
     "text": [
      "Train on 453 samples, validate on 114 samples\n",
      "Epoch 1/25\n",
      "453/453 [==============================] - 2s 5ms/step - loss: 0.5763 - acc: 0.8256 - val_loss: 1.0461 - val_acc: 0.5789\n",
      "Epoch 2/25\n",
      "453/453 [==============================] - 0s 213us/step - loss: 0.2241 - acc: 0.9713 - val_loss: 1.1034 - val_acc: 0.5702\n",
      "Epoch 3/25\n",
      "453/453 [==============================] - 0s 213us/step - loss: 0.3063 - acc: 0.9029 - val_loss: 1.2335 - val_acc: 0.4825\n",
      "Epoch 4/25\n",
      "453/453 [==============================] - 0s 210us/step - loss: 0.3077 - acc: 0.9051 - val_loss: 1.0663 - val_acc: 0.5000\n",
      "Epoch 5/25\n",
      "453/453 [==============================] - 0s 214us/step - loss: 0.2759 - acc: 0.9227 - val_loss: 1.2260 - val_acc: 0.5526\n",
      "Epoch 6/25\n",
      "453/453 [==============================] - 0s 214us/step - loss: 0.2828 - acc: 0.9095 - val_loss: 1.5267 - val_acc: 0.4737\n",
      "Epoch 7/25\n",
      "453/453 [==============================] - 0s 214us/step - loss: 0.2281 - acc: 0.9647 - val_loss: 1.5425 - val_acc: 0.4649\n",
      "Epoch 8/25\n",
      "453/453 [==============================] - 0s 211us/step - loss: 0.2627 - acc: 0.9272 - val_loss: 1.3432 - val_acc: 0.4298\n",
      "Epoch 9/25\n",
      "453/453 [==============================] - 0s 212us/step - loss: 0.2809 - acc: 0.8985 - val_loss: 1.1799 - val_acc: 0.5000\n",
      "Epoch 10/25\n",
      "453/453 [==============================] - 0s 219us/step - loss: 0.1951 - acc: 0.9603 - val_loss: 1.4125 - val_acc: 0.3684\n",
      "Epoch 11/25\n",
      "453/453 [==============================] - 0s 220us/step - loss: 0.2506 - acc: 0.9448 - val_loss: 1.3013 - val_acc: 0.4298\n",
      "Epoch 12/25\n",
      "453/453 [==============================] - 0s 215us/step - loss: 0.2254 - acc: 0.9294 - val_loss: 1.3319 - val_acc: 0.4561\n",
      "Epoch 13/25\n",
      "453/453 [==============================] - 0s 215us/step - loss: 0.2352 - acc: 0.9448 - val_loss: 1.5447 - val_acc: 0.3684\n",
      "Epoch 14/25\n",
      "453/453 [==============================] - 0s 215us/step - loss: 0.1589 - acc: 0.9757 - val_loss: 1.5620 - val_acc: 0.5263\n",
      "Epoch 15/25\n",
      "453/453 [==============================] - 0s 208us/step - loss: 0.1877 - acc: 0.9536 - val_loss: 1.3032 - val_acc: 0.5351\n",
      "Epoch 16/25\n",
      "453/453 [==============================] - 0s 207us/step - loss: 0.1595 - acc: 0.9669 - val_loss: 1.4386 - val_acc: 0.5439\n",
      "Epoch 17/25\n",
      "453/453 [==============================] - 0s 218us/step - loss: 0.2153 - acc: 0.9470 - val_loss: 1.1808 - val_acc: 0.5789\n",
      "Epoch 18/25\n",
      "453/453 [==============================] - 0s 214us/step - loss: 0.0812 - acc: 0.9978 - val_loss: 2.1549 - val_acc: 0.5088\n",
      "Epoch 19/25\n",
      "453/453 [==============================] - 0s 202us/step - loss: 0.2785 - acc: 0.8918 - val_loss: 1.4031 - val_acc: 0.5351\n",
      "Epoch 20/25\n",
      "453/453 [==============================] - 0s 202us/step - loss: 0.1176 - acc: 0.9823 - val_loss: 1.3447 - val_acc: 0.5789\n",
      "Epoch 21/25\n",
      "453/453 [==============================] - 0s 201us/step - loss: 0.2720 - acc: 0.8985 - val_loss: 1.0886 - val_acc: 0.5351\n",
      "Epoch 22/25\n",
      "453/453 [==============================] - 0s 208us/step - loss: 0.0660 - acc: 1.0000 - val_loss: 1.7504 - val_acc: 0.3860\n",
      "Epoch 23/25\n",
      "453/453 [==============================] - 0s 216us/step - loss: 0.2454 - acc: 0.9205 - val_loss: 1.0666 - val_acc: 0.5789\n",
      "Epoch 24/25\n",
      "453/453 [==============================] - 0s 207us/step - loss: 0.0624 - acc: 1.0000 - val_loss: 1.1193 - val_acc: 0.5526\n",
      "Epoch 25/25\n",
      "453/453 [==============================] - 0s 208us/step - loss: 0.2220 - acc: 0.9338 - val_loss: 1.1039 - val_acc: 0.5351\n",
      "_________________________________________________________________\n",
      "Layer (type)                 Output Shape              Param #   \n",
      "=================================================================\n",
      "conv1d_34 (Conv1D)           multiple                  352       \n",
      "_________________________________________________________________\n",
      "max_pooling1d_17 (MaxPooling multiple                  0         \n",
      "_________________________________________________________________\n",
      "conv1d_35 (Conv1D)           multiple                  10272     \n",
      "_________________________________________________________________\n",
      "global_max_pooling1d_14 (Glo multiple                  0         \n",
      "_________________________________________________________________\n",
      "dense_18 (Dense)             multiple                  99        \n",
      "=================================================================\n",
      "Total params: 10,723\n",
      "Trainable params: 10,723\n",
      "Non-trainable params: 0\n",
      "_________________________________________________________________\n"
     ]
    }
   ],
   "source": [
    "from tensorflow.keras.callbacks import EarlyStopping\n",
    "es = EarlyStopping(monitor='acc',patience=10, verbose=1, mode='auto')\n",
    "\n",
    "model.compile(optimizer=RMSprop(),\n",
    "loss='categorical_crossentropy',\n",
    "metrics=['acc'])\n",
    "history = model.fit(data, labels,\n",
    "epochs=25,                 \n",
    "validation_split=0.2)\n",
    "model.save_weights('pre_trained_glove_model.h5')\n",
    "model.summary()"
   ]
  },
  {
   "cell_type": "code",
   "execution_count": 103,
   "metadata": {
    "pycharm": {
     "name": "#%%\n"
    },
    "slideshow": {
     "slide_type": "slide"
    }
   },
   "outputs": [
    {
     "data": {
      "image/png": "[encoded data removed]",
      "text/plain": [
       "<Figure size 432x288 with 1 Axes>"
      ]
     },
     "metadata": {
      "needs_background": "light"
     },
     "output_type": "display_data"
    },
    {
     "data": {
      "image/png": "[encoded data removed]",
      "text/plain": [
       "<Figure size 432x288 with 1 Axes>"
      ]
     },
     "metadata": {
      "needs_background": "light"
     },
     "output_type": "display_data"
    }
   ],
   "source": [
    "import matplotlib.pyplot as plt\n",
    "acc = history.history['acc']\n",
    "val_acc = history.history['val_acc']\n",
    "loss = history.history['loss']\n",
    "val_loss = history.history['val_loss']\n",
    "epochs = range(1, len(acc) + 1)\n",
    "plt.plot(epochs, acc, 'bo', label='Training acc')\n",
    "plt.plot(epochs, val_acc, 'b', label='Validation acc')\n",
    "plt.title('Training and validation accuracy')\n",
    "plt.legend()\n",
    "plt.figure()\n",
    "plt.plot(epochs, loss, 'bo', label='Training loss')\n",
    "plt.plot(epochs, val_loss, 'b', label='Validation loss')\n",
    "plt.title('Training and validation loss')\n",
    "plt.legend()\n",
    "plt.show()\n",
    "\n",
    "\n"
   ]
  },
  {
   "cell_type": "code",
   "execution_count": null,
   "metadata": {},
   "outputs": [],
   "source": []
  },
  {
   "cell_type": "code",
   "execution_count": null,
   "metadata": {},
   "outputs": [],
   "source": []
  }
 ],
 "metadata": {
  "kernelspec": {
   "display_name": "Python 3",
   "language": "python",
   "name": "python3"
  },
  "language_info": {
   "codemirror_mode": {
    "name": "ipython",
    "version": 3
   },
   "file_extension": ".py",
   "mimetype": "text/x-python",
   "name": "python",
   "nbconvert_exporter": "python",
   "pygments_lexer": "ipython3",
   "version": "3.6.8"
  },
  "pycharm": {
   "stem_cell": {
    "cell_type": "raw",
    "metadata": {
     "collapsed": false
    },
    "source": []
   }
  }
 },
 "nbformat": 4,
 "nbformat_minor": 1
}
