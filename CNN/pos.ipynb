{
 "cells": [
  {
   "cell_type": "markdown",
   "metadata": {
    "slideshow": {
     "slide_type": "slide"
    }
   },
   "source": [
    "# Readability Assessment throughConvolutional Neural Network"
   ]
  },
  {
   "cell_type": "markdown",
   "metadata": {
    "slideshow": {
     "slide_type": "slide"
    }
   },
   "source": [
    "Readability assessment is a well known problem in natural language processing field. Giving someone the suitable text for his level of comprehension (not so easy and not so hard) could maximize his understanding and enjoyment. In this notebook we are trying to assess the readability of a given text regardless of the text subject using recurrent neural network."
   ]
  },
  {
   "cell_type": "markdown",
   "metadata": {
    "pycharm": {
     "name": "#%% md\n"
    },
    "slideshow": {
     "slide_type": "slide"
    }
   },
   "source": [
    "## Corpus\n",
    "> OneStopEnglish corpus: A new corpus for automatic readability assessment and text simplification  \n",
    "> Sowmya Vajjala and Ivana Lučić  \n",
    "> 2018  \n",
    "> Proceedings of the Thirteenth Workshop on Innovative Use of NLP for Building Educational Applications, pages 297–304. Association for Computational Linguistics.  \n",
    "> [url](http://aclweb.org/anthology/W18-0535). [bib file](https://aclanthology.coli.uni-saarland.de/papers/W18-0535/w18-0535.bib)\n",
    "\n",
    "Please cite the above paper if you use this corpus in your research.\n",
    "\n",
    "[![DOI](https://zenodo.org/badge/128919409.svg)](https://zenodo.org/badge/latestdoi/128919409)\n",
    "\n",
    "<a rel=\"license\" href=\"http://creativecommons.org/licenses/by-sa/4.0/\"><img alt=\"Creative Commons License\" style=\"border-width:0\" src=\"https://i.creativecommons.org/l/by-sa/4.0/88x31.png\" /></a><br />This work is licensed under a <a rel=\"license\" href=\"http://creativecommons.org/licenses/by-sa/4.0/\">Creative Commons Attribution-ShareAlike 4.0 International License</a>."
   ]
  },
  {
   "cell_type": "markdown",
   "metadata": {
    "pycharm": {
     "name": "#%% md\n"
    },
    "slideshow": {
     "slide_type": "slide"
    }
   },
   "source": [
    "Now let's dive into our corpus."
   ]
  },
  {
   "cell_type": "code",
   "execution_count": 60,
   "metadata": {
    "pycharm": {
     "is_executing": false,
     "name": "#%%\n"
    },
    "slideshow": {
     "slide_type": "slide"
    }
   },
   "outputs": [],
   "source": [
    "import sys\n",
    "sys.path.append(\"/home/ms10596/PycharmProjects/match\")\n",
    "from ipywidgets import interact\n",
    "from tabulate import tabulate\n",
    "from IPython.display import display, HTML\n",
    "\n",
    "from utils.loading import load_glove_embeddings\n",
    "from utils.one_stop_english import load_corpus, corpus_to_words, corpus_to_pos, detokenize\n",
    "\n",
    "from tensorflow.keras.preprocessing.text import Tokenizer\n",
    "from tensorflow.keras.preprocessing.sequence import pad_sequences\n",
    "from tensorflow.keras.utils import to_categorical\n",
    "from tensorflow.keras.models import Sequential\n",
    "from tensorflow.keras.layers import Embedding, Flatten, Dense, LSTM, Bidirectional,Conv1D,MaxPooling1D,GlobalMaxPooling1D, Dropout\n",
    "from tensorflow.keras.optimizers import RMSprop\n",
    "from tensorflow.keras.constraints import max_norm\n",
    "from tensorflow.keras.regularizers import l1, l2, l1_l2\n",
    "\n",
    "# from tensorflow.keras.engine.input_layer import Input\n",
    "\n",
    "import numpy as np\n",
    "\n",
    "# glove = load_glove_embeddings()\n",
    "corpus = load_corpus()\n",
    "articles, tags = corpus_to_words(corpus)"
   ]
  },
  {
   "cell_type": "markdown",
   "metadata": {
    "slideshow": {
     "slide_type": "slide"
    }
   },
   "source": [
    "Reading level|Avg. Num. Words|Std. Dev|Number of Articles\n",
    "---|---|---|---\n",
    "Elementary|533.17|103.79|189\n",
    "Intermediate|676.59|117.15|189\n",
    "Advanced|820.49|162.52|189\n",
    "\n"
   ]
  },
  {
   "cell_type": "code",
   "execution_count": 61,
   "metadata": {
    "pycharm": {
     "is_executing": false
    },
    "slideshow": {
     "slide_type": "subslide"
    }
   },
   "outputs": [
    {
     "data": {
      "application/vnd.jupyter.widget-view+json": {
       "model_id": "c772f99d7cb04a5e88e37cb5a2e5266d",
       "version_major": 2,
       "version_minor": 0
      },
      "text/plain": [
       "interactive(children=(IntSlider(value=94, description='i', max=188), IntSlider(value=500, description='words',…"
      ]
     },
     "metadata": {},
     "output_type": "display_data"
    }
   ],
   "source": [
    "@interact\n",
    "def show_articles(i=(0,188,1), words=(0,1000,1)):\n",
    "    data = [\n",
    "        [\"Advanced\",detokenize(articles[i][:words])], \n",
    "        [\"Intermediate\",detokenize(articles[i+2][:words])], \n",
    "        [\"Elementary\",detokenize(articles[i+1][:words])]\n",
    "    ]\n",
    "    headers = ['Reading Level', 'Example']\n",
    "    display(HTML(tabulate(data,tablefmt='html', headers=headers)+\"<style>th,td {font-size: 10px}</style>\"))"
   ]
  },
  {
   "cell_type": "code",
   "execution_count": 62,
   "metadata": {
    "pycharm": {
     "is_executing": false,
     "name": "#%%\n"
    },
    "slideshow": {
     "slide_type": "slide"
    }
   },
   "outputs": [
    {
     "name": "stdout",
     "output_type": "stream",
     "text": [
      "{'nn': 1, 'in': 2, 'dt': 3, 'jj': 4, 'nns': 5, 'nnp': 6, ',': 7, '.': 8, 'rb': 9, 'prp': 10, 'vb': 11, 'vbd': 12, 'cc': 13, 'vbz': 14, 'to': 15, 'vbp': 16, 'cd': 17, 'vbn': 18, 'vbg': 19, 'prp$': 20, 'md': 21, 'wdt': 22, 'wrb': 23, 'wp': 24, 'jjr': 25, 'rp': 26, ':': 27, 'jjs': 28, 'ex': 29, 'rbr': 30, 'nnps': 31, '-rrb-': 32, '-lrb-': 33, 'rbs': 34, 'pdt': 35, '$': 36, 'fw': 37, 'uh': 38, 'wp$': 39, 'sym': 40, \"''\": 41, 'ls': 42, 'pos': 43, '``': 44}\n",
      "44\n"
     ]
    }
   ],
   "source": [
    "maxlen = 1000 # Cuts off reviews after 100 words\n",
    "training_samples = 450\n",
    "validation_samples = 117\n",
    "max_words = 45\n",
    "articles, tags = corpus_to_pos(corpus)\n",
    "tokenizer = Tokenizer(num_words=max_words)\n",
    "tokenizer.fit_on_texts(articles)\n",
    "print(tokenizer.word_index)\n",
    "print(len(tokenizer.word_index))\n"
   ]
  },
  {
   "cell_type": "code",
   "execution_count": 63,
   "metadata": {},
   "outputs": [
    {
     "name": "stdout",
     "output_type": "stream",
     "text": [
      "(567,)\n"
     ]
    }
   ],
   "source": [
    "sequences = tokenizer.texts_to_sequences(articles)\n",
    "# print(sequences)\n",
    "print(np.shape(sequences))\n"
   ]
  },
  {
   "cell_type": "code",
   "execution_count": 64,
   "metadata": {},
   "outputs": [
    {
     "name": "stdout",
     "output_type": "stream",
     "text": [
      "[[ 0  0  0 ...  2 17  8]\n",
      " [ 0  0  0 ...  2 17  8]\n",
      " [ 0  0  0 ...  2 17  8]\n",
      " ...\n",
      " [ 0  0  0 ...  4  1  8]\n",
      " [ 0  0  0 ...  4  1  8]\n",
      " [ 0  0  0 ...  4  1  8]]\n",
      "(567, 1000)\n"
     ]
    }
   ],
   "source": [
    "\n",
    "data = pad_sequences(sequences, maxlen=maxlen)\n",
    "print(data)\n",
    "print(np.shape(data))"
   ]
  },
  {
   "cell_type": "code",
   "execution_count": 65,
   "metadata": {},
   "outputs": [
    {
     "name": "stdout",
     "output_type": "stream",
     "text": [
      "(567,)\n",
      "(567, 3)\n"
     ]
    }
   ],
   "source": [
    "print(np.shape(tags))\n",
    "labels = to_categorical(tags)\n",
    "print(np.shape(labels))"
   ]
  },
  {
   "cell_type": "code",
   "execution_count": 66,
   "metadata": {},
   "outputs": [
    {
     "name": "stdout",
     "output_type": "stream",
     "text": [
      "46\n",
      "(567, 1000) (567, 3) (1000,)\n",
      "(450, 1000) (450, 3)\n",
      "(117, 1000) (117, 3)\n"
     ]
    }
   ],
   "source": [
    "indices = np.arange(data.shape[0])\n",
    "np.random.shuffle(indices)\n",
    "data = data[indices]\n",
    "labels = labels[indices]\n",
    "print(indices[0])\n",
    "print(np.shape(data), np.shape(labels), np.shape(data[0]))\n",
    "\n",
    "x_train= data[:training_samples]\n",
    "y_train= labels[:training_samples]\n",
    "print(np.shape(x_train), np.shape(y_train))\n",
    "\n",
    "x_val =data[training_samples:]\n",
    "y_val =labels[training_samples:]\n",
    "print(np.shape(x_val), np.shape(y_val))\n",
    "from tensorflow.python import keras\n"
   ]
  },
  {
   "cell_type": "code",
   "execution_count": 71,
   "metadata": {
    "pycharm": {
     "is_executing": false,
     "name": "#%%\n"
    },
    "slideshow": {
     "slide_type": "slide"
    }
   },
   "outputs": [],
   "source": [
    "data = data.reshape(data.shape[0], data.shape[1], 1)\n",
    "model = Sequential()\n",
    "model.add(Conv1D(32, 5, activation='relu',kernel_regularizer=l2(0.01)))\n",
    "model.add(MaxPooling1D(5))\n",
    "model.add(Conv1D(32, 5, activation='relu',kernel_regularizer=l2(0.01)))\n",
    "model.add(GlobalMaxPooling1D())\n",
    "model.add(Dense(3, activation='softmax'))\n",
    "# model.summary()"
   ]
  },
  {
   "cell_type": "code",
   "execution_count": 72,
   "metadata": {
    "pycharm": {
     "is_executing": false,
     "name": "#%%\n"
    },
    "slideshow": {
     "slide_type": "subslide"
    }
   },
   "outputs": [
    {
     "name": "stdout",
     "output_type": "stream",
     "text": [
      "Train on 453 samples, validate on 114 samples\n",
      "Epoch 1/100\n",
      "453/453 [==============================] - 1s 2ms/step - loss: 2.1939 - acc: 0.3024 - val_loss: 2.6337 - val_acc: 0.3772\n",
      "Epoch 2/100\n",
      "453/453 [==============================] - 0s 542us/step - loss: 1.6488 - acc: 0.3377 - val_loss: 2.1032 - val_acc: 0.3860\n",
      "Epoch 3/100\n",
      "453/453 [==============================] - 0s 547us/step - loss: 1.7096 - acc: 0.3400 - val_loss: 1.5483 - val_acc: 0.3246\n",
      "Epoch 4/100\n",
      "453/453 [==============================] - 0s 550us/step - loss: 1.4215 - acc: 0.3996 - val_loss: 3.1618 - val_acc: 0.3158\n",
      "Epoch 5/100\n",
      "453/453 [==============================] - 0s 576us/step - loss: 1.6047 - acc: 0.4084 - val_loss: 1.4642 - val_acc: 0.3509\n",
      "Epoch 6/100\n",
      "453/453 [==============================] - 0s 595us/step - loss: 1.4518 - acc: 0.4128 - val_loss: 3.0968 - val_acc: 0.3158\n",
      "Epoch 7/100\n",
      "453/453 [==============================] - 0s 567us/step - loss: 1.4769 - acc: 0.4614 - val_loss: 2.0027 - val_acc: 0.3421\n",
      "Epoch 8/100\n",
      "453/453 [==============================] - 0s 544us/step - loss: 1.3763 - acc: 0.4702 - val_loss: 2.3532 - val_acc: 0.3158\n",
      "Epoch 9/100\n",
      "453/453 [==============================] - 0s 549us/step - loss: 1.5012 - acc: 0.4437 - val_loss: 2.6283 - val_acc: 0.3772\n",
      "Epoch 10/100\n",
      "453/453 [==============================] - 0s 539us/step - loss: 1.4094 - acc: 0.4393 - val_loss: 1.5105 - val_acc: 0.3684\n",
      "Epoch 11/100\n",
      "453/453 [==============================] - 0s 531us/step - loss: 1.3106 - acc: 0.4680 - val_loss: 2.6623 - val_acc: 0.3772\n",
      "Epoch 12/100\n",
      "453/453 [==============================] - 0s 547us/step - loss: 1.4057 - acc: 0.4923 - val_loss: 2.3828 - val_acc: 0.3246\n",
      "Epoch 13/100\n",
      "453/453 [==============================] - 0s 539us/step - loss: 1.3883 - acc: 0.4834 - val_loss: 1.7923 - val_acc: 0.4649\n",
      "Epoch 14/100\n",
      "453/453 [==============================] - 0s 555us/step - loss: 1.2423 - acc: 0.5166 - val_loss: 1.8958 - val_acc: 0.3421\n",
      "Epoch 15/100\n",
      "453/453 [==============================] - 0s 556us/step - loss: 1.2407 - acc: 0.5276 - val_loss: 1.9018 - val_acc: 0.3333\n",
      "Epoch 16/100\n",
      "453/453 [==============================] - 0s 523us/step - loss: 1.3421 - acc: 0.5011 - val_loss: 1.7754 - val_acc: 0.3246\n",
      "Epoch 17/100\n",
      "453/453 [==============================] - 0s 556us/step - loss: 1.1951 - acc: 0.5695 - val_loss: 2.9865 - val_acc: 0.3070\n",
      "Epoch 18/100\n",
      "453/453 [==============================] - 0s 567us/step - loss: 1.4286 - acc: 0.4636 - val_loss: 2.0701 - val_acc: 0.4035\n",
      "Epoch 19/100\n",
      "453/453 [==============================] - 0s 552us/step - loss: 1.2898 - acc: 0.5121 - val_loss: 1.9700 - val_acc: 0.4123\n",
      "Epoch 20/100\n",
      "453/453 [==============================] - 0s 552us/step - loss: 1.2644 - acc: 0.4967 - val_loss: 2.0988 - val_acc: 0.3860\n",
      "Epoch 21/100\n",
      "453/453 [==============================] - 0s 558us/step - loss: 1.1649 - acc: 0.5872 - val_loss: 2.1263 - val_acc: 0.3158\n",
      "Epoch 22/100\n",
      "453/453 [==============================] - 0s 550us/step - loss: 1.2642 - acc: 0.5099 - val_loss: 1.9014 - val_acc: 0.3684\n",
      "Epoch 23/100\n",
      "453/453 [==============================] - 0s 562us/step - loss: 1.1222 - acc: 0.6093 - val_loss: 1.8524 - val_acc: 0.4474\n",
      "Epoch 24/100\n",
      "453/453 [==============================] - 0s 562us/step - loss: 1.2498 - acc: 0.5386 - val_loss: 1.4883 - val_acc: 0.3860\n",
      "Epoch 25/100\n",
      "453/453 [==============================] - 0s 532us/step - loss: 1.1972 - acc: 0.5453 - val_loss: 2.8832 - val_acc: 0.3070\n",
      "Epoch 26/100\n",
      "453/453 [==============================] - 0s 558us/step - loss: 1.2348 - acc: 0.5651 - val_loss: 1.8687 - val_acc: 0.4211\n",
      "Epoch 27/100\n",
      "453/453 [==============================] - 0s 635us/step - loss: 1.1453 - acc: 0.6004 - val_loss: 1.8663 - val_acc: 0.3333\n",
      "Epoch 28/100\n",
      "453/453 [==============================] - 0s 600us/step - loss: 1.2790 - acc: 0.5298 - val_loss: 1.8575 - val_acc: 0.4123\n",
      "Epoch 29/100\n",
      "453/453 [==============================] - 0s 614us/step - loss: 1.0923 - acc: 0.6115 - val_loss: 1.6382 - val_acc: 0.4474\n",
      "Epoch 30/100\n",
      "453/453 [==============================] - 0s 589us/step - loss: 1.1517 - acc: 0.5408 - val_loss: 1.9863 - val_acc: 0.4474\n",
      "Epoch 31/100\n",
      "453/453 [==============================] - 0s 551us/step - loss: 1.1356 - acc: 0.5673 - val_loss: 2.5528 - val_acc: 0.3070\n",
      "Epoch 32/100\n",
      "453/453 [==============================] - 0s 546us/step - loss: 1.1013 - acc: 0.6402 - val_loss: 1.7103 - val_acc: 0.3158\n",
      "Epoch 33/100\n",
      "453/453 [==============================] - 0s 542us/step - loss: 1.1015 - acc: 0.6026 - val_loss: 2.0319 - val_acc: 0.3158\n",
      "Epoch 34/100\n",
      "453/453 [==============================] - 0s 551us/step - loss: 1.1267 - acc: 0.5585 - val_loss: 2.0884 - val_acc: 0.4298\n",
      "Epoch 35/100\n",
      "453/453 [==============================] - 0s 548us/step - loss: 1.1264 - acc: 0.5784 - val_loss: 1.5258 - val_acc: 0.4035\n",
      "Epoch 36/100\n",
      "453/453 [==============================] - 0s 571us/step - loss: 0.9961 - acc: 0.6711 - val_loss: 3.3684 - val_acc: 0.3070\n",
      "Epoch 37/100\n",
      "453/453 [==============================] - 0s 572us/step - loss: 1.2275 - acc: 0.6049 - val_loss: 1.4858 - val_acc: 0.4035\n",
      "Epoch 38/100\n",
      "453/453 [==============================] - 0s 559us/step - loss: 1.0270 - acc: 0.6159 - val_loss: 1.7685 - val_acc: 0.3158\n",
      "Epoch 39/100\n",
      "453/453 [==============================] - 0s 550us/step - loss: 1.0776 - acc: 0.6225 - val_loss: 1.8521 - val_acc: 0.4035\n",
      "Epoch 40/100\n",
      "453/453 [==============================] - 0s 542us/step - loss: 0.9693 - acc: 0.6887 - val_loss: 1.4304 - val_acc: 0.3509\n",
      "Epoch 41/100\n",
      "453/453 [==============================] - 0s 567us/step - loss: 1.0323 - acc: 0.6181 - val_loss: 1.7753 - val_acc: 0.3070\n",
      "Epoch 42/100\n",
      "453/453 [==============================] - 0s 585us/step - loss: 1.0503 - acc: 0.6269 - val_loss: 2.8528 - val_acc: 0.3246\n",
      "Epoch 43/100\n",
      "453/453 [==============================] - 0s 550us/step - loss: 1.1031 - acc: 0.6534 - val_loss: 2.0854 - val_acc: 0.3596\n",
      "Epoch 44/100\n",
      "453/453 [==============================] - 0s 560us/step - loss: 0.9521 - acc: 0.7108 - val_loss: 1.6191 - val_acc: 0.4386\n",
      "Epoch 45/100\n",
      "453/453 [==============================] - 0s 541us/step - loss: 0.9628 - acc: 0.6711 - val_loss: 3.0544 - val_acc: 0.3246\n",
      "Epoch 46/100\n",
      "453/453 [==============================] - 0s 563us/step - loss: 1.0800 - acc: 0.6534 - val_loss: 1.5737 - val_acc: 0.4035\n",
      "Epoch 47/100\n",
      "453/453 [==============================] - 0s 583us/step - loss: 0.9618 - acc: 0.6733 - val_loss: 1.7571 - val_acc: 0.4035\n",
      "Epoch 48/100\n",
      "453/453 [==============================] - 0s 549us/step - loss: 1.0112 - acc: 0.6600 - val_loss: 1.7059 - val_acc: 0.3333\n",
      "Epoch 49/100\n",
      "453/453 [==============================] - 0s 545us/step - loss: 0.9428 - acc: 0.6821 - val_loss: 2.1341 - val_acc: 0.3333\n",
      "Epoch 50/100\n",
      "453/453 [==============================] - 0s 627us/step - loss: 1.0751 - acc: 0.6313 - val_loss: 1.8162 - val_acc: 0.3333\n",
      "Epoch 51/100\n",
      "453/453 [==============================] - 0s 634us/step - loss: 1.0411 - acc: 0.6358 - val_loss: 1.4096 - val_acc: 0.3860\n",
      "Epoch 52/100\n",
      "453/453 [==============================] - 0s 621us/step - loss: 0.9430 - acc: 0.6799 - val_loss: 1.9456 - val_acc: 0.4298\n",
      "Epoch 53/100\n",
      "453/453 [==============================] - 0s 623us/step - loss: 1.0033 - acc: 0.6799 - val_loss: 1.9739 - val_acc: 0.3860\n",
      "Epoch 54/100\n",
      "453/453 [==============================] - 0s 559us/step - loss: 1.0324 - acc: 0.6446 - val_loss: 2.0721 - val_acc: 0.4298\n",
      "Epoch 55/100\n",
      "453/453 [==============================] - 0s 561us/step - loss: 0.9637 - acc: 0.7263 - val_loss: 2.1372 - val_acc: 0.3947\n",
      "Epoch 56/100\n",
      "453/453 [==============================] - 0s 537us/step - loss: 0.9675 - acc: 0.7086 - val_loss: 1.9885 - val_acc: 0.3684\n",
      "Epoch 57/100\n",
      "453/453 [==============================] - 0s 553us/step - loss: 0.9868 - acc: 0.6556 - val_loss: 1.5922 - val_acc: 0.3860\n",
      "Epoch 58/100\n",
      "453/453 [==============================] - 0s 543us/step - loss: 0.9192 - acc: 0.7130 - val_loss: 2.0876 - val_acc: 0.3158\n",
      "Epoch 59/100\n",
      "453/453 [==============================] - 0s 577us/step - loss: 0.9669 - acc: 0.6490 - val_loss: 1.7466 - val_acc: 0.3596\n",
      "Epoch 60/100\n",
      "453/453 [==============================] - 0s 537us/step - loss: 0.9610 - acc: 0.6799 - val_loss: 2.2402 - val_acc: 0.3158\n"
     ]
    },
    {
     "name": "stdout",
     "output_type": "stream",
     "text": [
      "Epoch 61/100\n",
      "453/453 [==============================] - 0s 524us/step - loss: 0.9489 - acc: 0.6865 - val_loss: 2.1664 - val_acc: 0.3947\n",
      "Epoch 62/100\n",
      "453/453 [==============================] - 0s 518us/step - loss: 0.9715 - acc: 0.6799 - val_loss: 1.4157 - val_acc: 0.4035\n",
      "Epoch 63/100\n",
      "453/453 [==============================] - 0s 502us/step - loss: 0.8710 - acc: 0.7528 - val_loss: 1.9734 - val_acc: 0.4298\n",
      "Epoch 64/100\n",
      "453/453 [==============================] - 0s 523us/step - loss: 0.9463 - acc: 0.7042 - val_loss: 1.9212 - val_acc: 0.3772\n",
      "Epoch 65/100\n",
      "453/453 [==============================] - 0s 533us/step - loss: 0.9481 - acc: 0.6954 - val_loss: 2.7399 - val_acc: 0.3333\n",
      "Epoch 66/100\n",
      "453/453 [==============================] - 0s 523us/step - loss: 0.9605 - acc: 0.7263 - val_loss: 2.6517 - val_acc: 0.3246\n",
      "Epoch 67/100\n",
      "453/453 [==============================] - 0s 528us/step - loss: 1.0077 - acc: 0.6843 - val_loss: 2.1093 - val_acc: 0.3772\n",
      "Epoch 68/100\n",
      "453/453 [==============================] - 0s 509us/step - loss: 0.8418 - acc: 0.7770 - val_loss: 2.2506 - val_acc: 0.3684\n",
      "Epoch 69/100\n",
      "453/453 [==============================] - 0s 514us/step - loss: 1.0263 - acc: 0.6667 - val_loss: 1.5367 - val_acc: 0.4211\n",
      "Epoch 70/100\n",
      "453/453 [==============================] - 0s 502us/step - loss: 0.9038 - acc: 0.6821 - val_loss: 1.6404 - val_acc: 0.4211\n",
      "Epoch 71/100\n",
      "453/453 [==============================] - 0s 495us/step - loss: 0.8369 - acc: 0.7528 - val_loss: 2.3648 - val_acc: 0.3860\n",
      "Epoch 72/100\n",
      "453/453 [==============================] - 0s 530us/step - loss: 0.8993 - acc: 0.7285 - val_loss: 1.6918 - val_acc: 0.4123\n",
      "Epoch 73/100\n",
      "453/453 [==============================] - 0s 514us/step - loss: 0.8603 - acc: 0.7395 - val_loss: 1.6686 - val_acc: 0.3509\n",
      "Epoch 74/100\n",
      "453/453 [==============================] - 0s 559us/step - loss: 0.8109 - acc: 0.7881 - val_loss: 1.9494 - val_acc: 0.3860\n",
      "Epoch 75/100\n",
      "453/453 [==============================] - 0s 591us/step - loss: 0.9213 - acc: 0.7042 - val_loss: 1.4419 - val_acc: 0.4474\n",
      "Epoch 76/100\n",
      "453/453 [==============================] - 0s 620us/step - loss: 0.7938 - acc: 0.8168 - val_loss: 1.8720 - val_acc: 0.3333\n",
      "Epoch 77/100\n",
      "453/453 [==============================] - 0s 597us/step - loss: 0.9589 - acc: 0.6424 - val_loss: 1.9098 - val_acc: 0.3333\n",
      "Epoch 78/100\n",
      "453/453 [==============================] - 0s 545us/step - loss: 0.8248 - acc: 0.7881 - val_loss: 1.4577 - val_acc: 0.4211\n",
      "Epoch 79/100\n",
      "453/453 [==============================] - 0s 561us/step - loss: 0.9342 - acc: 0.6689 - val_loss: 2.7583 - val_acc: 0.3421\n",
      "Epoch 80/100\n",
      "453/453 [==============================] - 0s 528us/step - loss: 0.8791 - acc: 0.7925 - val_loss: 1.9792 - val_acc: 0.4035\n",
      "Epoch 81/100\n",
      "453/453 [==============================] - 0s 515us/step - loss: 0.8601 - acc: 0.7748 - val_loss: 1.9941 - val_acc: 0.3947\n",
      "Epoch 82/100\n",
      "453/453 [==============================] - 0s 549us/step - loss: 0.8945 - acc: 0.6998 - val_loss: 1.7329 - val_acc: 0.4474\n",
      "Epoch 83/100\n",
      "453/453 [==============================] - 0s 537us/step - loss: 0.8610 - acc: 0.7086 - val_loss: 1.5547 - val_acc: 0.3860\n",
      "Epoch 84/100\n",
      "453/453 [==============================] - 0s 515us/step - loss: 0.9040 - acc: 0.6711 - val_loss: 1.9212 - val_acc: 0.4298\n",
      "Epoch 85/100\n",
      "453/453 [==============================] - 0s 526us/step - loss: 0.7662 - acc: 0.8389 - val_loss: 2.0129 - val_acc: 0.3684\n",
      "Epoch 86/100\n",
      "453/453 [==============================] - 0s 520us/step - loss: 0.9157 - acc: 0.6843 - val_loss: 1.6010 - val_acc: 0.3684\n",
      "Epoch 87/100\n",
      "453/453 [==============================] - 0s 550us/step - loss: 0.7868 - acc: 0.7770 - val_loss: 2.1675 - val_acc: 0.3860\n",
      "Epoch 88/100\n",
      "453/453 [==============================] - 0s 537us/step - loss: 0.8867 - acc: 0.6865 - val_loss: 1.6049 - val_acc: 0.3684\n",
      "Epoch 89/100\n",
      "453/453 [==============================] - 0s 516us/step - loss: 0.7981 - acc: 0.7881 - val_loss: 2.9725 - val_acc: 0.3246\n",
      "Epoch 90/100\n",
      "453/453 [==============================] - 0s 540us/step - loss: 0.8846 - acc: 0.7616 - val_loss: 1.5522 - val_acc: 0.4035\n",
      "Epoch 91/100\n",
      "453/453 [==============================] - 0s 531us/step - loss: 0.7745 - acc: 0.7815 - val_loss: 1.7956 - val_acc: 0.4123\n",
      "Epoch 92/100\n",
      "453/453 [==============================] - 0s 524us/step - loss: 0.8491 - acc: 0.7219 - val_loss: 1.9366 - val_acc: 0.3509\n",
      "Epoch 93/100\n",
      "453/453 [==============================] - 0s 548us/step - loss: 0.9029 - acc: 0.6821 - val_loss: 1.8703 - val_acc: 0.3509\n",
      "Epoch 94/100\n",
      "453/453 [==============================] - 0s 513us/step - loss: 0.7498 - acc: 0.8124 - val_loss: 2.4060 - val_acc: 0.4123\n",
      "Epoch 95/100\n",
      "453/453 [==============================] - 0s 535us/step - loss: 0.8349 - acc: 0.8102 - val_loss: 1.9561 - val_acc: 0.3684\n",
      "Epoch 96/100\n",
      "453/453 [==============================] - 0s 524us/step - loss: 0.7443 - acc: 0.8168 - val_loss: 1.8636 - val_acc: 0.3860\n",
      "Epoch 97/100\n",
      "453/453 [==============================] - 0s 518us/step - loss: 0.8286 - acc: 0.7726 - val_loss: 2.4167 - val_acc: 0.3684\n",
      "Epoch 98/100\n",
      "453/453 [==============================] - 0s 513us/step - loss: 0.8501 - acc: 0.7550 - val_loss: 1.8000 - val_acc: 0.4474\n",
      "Epoch 99/100\n",
      "453/453 [==============================] - 0s 584us/step - loss: 0.7952 - acc: 0.7815 - val_loss: 1.6057 - val_acc: 0.3684\n",
      "Epoch 100/100\n",
      "453/453 [==============================] - 0s 594us/step - loss: 0.7825 - acc: 0.7881 - val_loss: 2.3707 - val_acc: 0.3947\n",
      "_________________________________________________________________\n",
      "Layer (type)                 Output Shape              Param #   \n",
      "=================================================================\n",
      "conv1d_25 (Conv1D)           multiple                  192       \n",
      "_________________________________________________________________\n",
      "max_pooling1d_13 (MaxPooling multiple                  0         \n",
      "_________________________________________________________________\n",
      "conv1d_26 (Conv1D)           multiple                  5152      \n",
      "_________________________________________________________________\n",
      "global_max_pooling1d_13 (Glo multiple                  0         \n",
      "_________________________________________________________________\n",
      "dense_18 (Dense)             multiple                  99        \n",
      "=================================================================\n",
      "Total params: 5,443\n",
      "Trainable params: 5,443\n",
      "Non-trainable params: 0\n",
      "_________________________________________________________________\n"
     ]
    }
   ],
   "source": [
    "from tensorflow.keras.callbacks import EarlyStopping\n",
    "es = EarlyStopping(monitor='acc',patience=10, verbose=1, mode='auto')\n",
    "callbacks = [keras.callbacks.TensorBoard(log_dir='my_log_dir',histogram_freq=1)]\n",
    "model.compile(optimizer=RMSprop(),\n",
    "loss='categorical_crossentropy',\n",
    "metrics=['acc'])\n",
    "history = model.fit(data, labels,\n",
    "epochs=100,  \n",
    "batch_size=50,\n",
    "validation_split=0.2,\n",
    "callbacks=callbacks)\n",
    "model.save_weights('pre_trained_glove_model.h5')\n",
    "model.summary()"
   ]
  },
  {
   "cell_type": "code",
   "execution_count": 73,
   "metadata": {
    "pycharm": {
     "name": "#%%\n"
    },
    "slideshow": {
     "slide_type": "slide"
    }
   },
   "outputs": [
    {
     "data": {
      "image/png": "[encoded data removed]",
      "text/plain": [
       "<Figure size 432x288 with 1 Axes>"
      ]
     },
     "metadata": {
      "needs_background": "light"
     },
     "output_type": "display_data"
    },
    {
     "data": {
      "image/png": "[encoded data removed]",
      "text/plain": [
       "<Figure size 432x288 with 1 Axes>"
      ]
     },
     "metadata": {
      "needs_background": "light"
     },
     "output_type": "display_data"
    }
   ],
   "source": [
    "import matplotlib.pyplot as plt\n",
    "acc = history.history['acc']\n",
    "val_acc = history.history['val_acc']\n",
    "loss = history.history['loss']\n",
    "val_loss = history.history['val_loss']\n",
    "epochs = range(1, len(acc) + 1)\n",
    "plt.plot(epochs, acc, 'bo', label='Training acc')\n",
    "plt.plot(epochs, val_acc, 'b', label='Validation acc')\n",
    "plt.title('Training and validation accuracy')\n",
    "plt.legend()\n",
    "plt.figure()\n",
    "plt.plot(epochs, loss, 'bo', label='Training loss')\n",
    "plt.plot(epochs, val_loss, 'b', label='Validation loss')\n",
    "plt.title('Training and validation loss')\n",
    "plt.legend()\n",
    "plt.show()\n",
    "\n",
    "\n"
   ]
  },
  {
   "cell_type": "code",
   "execution_count": 57,
   "metadata": {},
   "outputs": [
    {
     "name": "stdout",
     "output_type": "stream",
     "text": [
      "567/567 [==============================] - 0s 146us/step\n",
      "0.5097001764982466\n"
     ]
    }
   ],
   "source": [
    "result = model.evaluate(data, labels)\n",
    "print(x[1])"
   ]
  },
  {
   "cell_type": "code",
   "execution_count": null,
   "metadata": {},
   "outputs": [],
   "source": []
  }
 ],
 "metadata": {
  "kernelspec": {
   "display_name": "Python 3",
   "language": "python",
   "name": "python3"
  },
  "language_info": {
   "codemirror_mode": {
    "name": "ipython",
    "version": 3
   },
   "file_extension": ".py",
   "mimetype": "text/x-python",
   "name": "python",
   "nbconvert_exporter": "python",
   "pygments_lexer": "ipython3",
   "version": "3.6.8"
  },
  "pycharm": {
   "stem_cell": {
    "cell_type": "raw",
    "metadata": {
     "collapsed": false
    },
    "source": []
   }
  }
 },
 "nbformat": 4,
 "nbformat_minor": 1
}
