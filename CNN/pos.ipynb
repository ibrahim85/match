{
 "cells": [
  {
   "cell_type": "markdown",
   "metadata": {
    "slideshow": {
     "slide_type": "slide"
    }
   },
   "source": [
    "# Readability Assessment throughConvolutional Neural Network"
   ]
  },
  {
   "cell_type": "markdown",
   "metadata": {
    "slideshow": {
     "slide_type": "slide"
    }
   },
   "source": [
    "Readability assessment is a well known problem in natural language processing field. Giving someone the suitable text for his level of comprehension (not so easy and not so hard) could maximize his understanding and enjoyment. In this notebook we are trying to assess the readability of a given text regardless of the text subject using recurrent neural network."
   ]
  },
  {
   "cell_type": "markdown",
   "metadata": {
    "pycharm": {
     "name": "#%% md\n"
    },
    "slideshow": {
     "slide_type": "slide"
    }
   },
   "source": [
    "## Corpus\n",
    "> OneStopEnglish corpus: A new corpus for automatic readability assessment and text simplification  \n",
    "> Sowmya Vajjala and Ivana Lučić  \n",
    "> 2018  \n",
    "> Proceedings of the Thirteenth Workshop on Innovative Use of NLP for Building Educational Applications, pages 297–304. Association for Computational Linguistics.  \n",
    "> [url](http://aclweb.org/anthology/W18-0535). [bib file](https://aclanthology.coli.uni-saarland.de/papers/W18-0535/w18-0535.bib)\n",
    "\n",
    "Please cite the above paper if you use this corpus in your research.\n",
    "\n",
    "[![DOI](https://zenodo.org/badge/128919409.svg)](https://zenodo.org/badge/latestdoi/128919409)\n",
    "\n",
    "<a rel=\"license\" href=\"http://creativecommons.org/licenses/by-sa/4.0/\"><img alt=\"Creative Commons License\" style=\"border-width:0\" src=\"https://i.creativecommons.org/l/by-sa/4.0/88x31.png\" /></a><br />This work is licensed under a <a rel=\"license\" href=\"http://creativecommons.org/licenses/by-sa/4.0/\">Creative Commons Attribution-ShareAlike 4.0 International License</a>."
   ]
  },
  {
   "cell_type": "markdown",
   "metadata": {
    "pycharm": {
     "name": "#%% md\n"
    },
    "slideshow": {
     "slide_type": "slide"
    }
   },
   "source": [
    "Now let's dive into our corpus."
   ]
  },
  {
   "cell_type": "code",
   "execution_count": 26,
   "metadata": {
    "pycharm": {
     "is_executing": false,
     "name": "#%%\n"
    },
    "slideshow": {
     "slide_type": "slide"
    }
   },
   "outputs": [],
   "source": [
    "import sys\n",
    "sys.path.append(\"/home/ms10596/PycharmProjects/match\")\n",
    "from ipywidgets import interact\n",
    "from tabulate import tabulate\n",
    "from IPython.display import display, HTML\n",
    "\n",
    "from utils.loading import load_glove_embeddings\n",
    "from utils.one_stop_english import load_corpus, corpus_to_words, corpus_to_pos, detokenize\n",
    "\n",
    "from tensorflow.keras.preprocessing.text import Tokenizer\n",
    "from tensorflow.keras.preprocessing.sequence import pad_sequences\n",
    "from tensorflow.keras.utils import to_categorical\n",
    "from tensorflow.keras.models import Sequential\n",
    "from tensorflow.keras.layers import Embedding, Flatten, Dense, LSTM, Bidirectional,Conv1D,MaxPooling1D,GlobalMaxPooling1D\n",
    "from tensorflow.keras.optimizers import RMSprop\n",
    "# from tensorflow.keras.engine.input_layer import Input\n",
    "\n",
    "import numpy as np\n",
    "\n",
    "# glove = load_glove_embeddings()\n",
    "corpus = load_corpus()\n",
    "articles, tags = corpus_to_words(corpus)"
   ]
  },
  {
   "cell_type": "markdown",
   "metadata": {
    "slideshow": {
     "slide_type": "slide"
    }
   },
   "source": [
    "Reading level|Avg. Num. Words|Std. Dev|Number of Articles\n",
    "---|---|---|---\n",
    "Elementary|533.17|103.79|189\n",
    "Intermediate|676.59|117.15|189\n",
    "Advanced|820.49|162.52|189\n",
    "\n"
   ]
  },
  {
   "cell_type": "code",
   "execution_count": 27,
   "metadata": {
    "pycharm": {
     "is_executing": false
    },
    "slideshow": {
     "slide_type": "subslide"
    }
   },
   "outputs": [
    {
     "data": {
      "application/vnd.jupyter.widget-view+json": {
       "model_id": "81f1931ed90e438c9bb984e5b2c628f6",
       "version_major": 2,
       "version_minor": 0
      },
      "text/plain": [
       "interactive(children=(IntSlider(value=94, description='i', max=188), IntSlider(value=500, description='words',…"
      ]
     },
     "metadata": {},
     "output_type": "display_data"
    }
   ],
   "source": [
    "@interact\n",
    "def show_articles(i=(0,188,1), words=(0,1000,1)):\n",
    "    data = [\n",
    "        [\"Advanced\",detokenize(articles[i][:words])], \n",
    "        [\"Intermediate\",detokenize(articles[i+2][:words])], \n",
    "        [\"Elementary\",detokenize(articles[i+1][:words])]\n",
    "    ]\n",
    "    headers = ['Reading Level', 'Example']\n",
    "    display(HTML(tabulate(data,tablefmt='html', headers=headers)+\"<style>th,td {font-size: 10px}</style>\"))"
   ]
  },
  {
   "cell_type": "code",
   "execution_count": 28,
   "metadata": {
    "pycharm": {
     "is_executing": false,
     "name": "#%%\n"
    },
    "slideshow": {
     "slide_type": "slide"
    }
   },
   "outputs": [
    {
     "name": "stdout",
     "output_type": "stream",
     "text": [
      "{'nn': 1, 'in': 2, 'dt': 3, 'jj': 4, 'nns': 5, 'nnp': 6, ',': 7, '.': 8, 'rb': 9, 'prp': 10, 'vb': 11, 'vbd': 12, 'cc': 13, 'vbz': 14, 'to': 15, 'vbp': 16, 'cd': 17, 'vbn': 18, 'vbg': 19, 'prp$': 20, 'md': 21, 'wdt': 22, 'wrb': 23, 'wp': 24, 'jjr': 25, 'rp': 26, ':': 27, 'jjs': 28, 'ex': 29, 'rbr': 30, 'nnps': 31, '-rrb-': 32, '-lrb-': 33, 'rbs': 34, 'pdt': 35, '$': 36, 'fw': 37, 'uh': 38, 'wp$': 39, 'sym': 40, \"''\": 41, 'ls': 42, 'pos': 43, '``': 44}\n",
      "44\n"
     ]
    }
   ],
   "source": [
    "maxlen = 1000 # Cuts off reviews after 100 words\n",
    "training_samples = 450\n",
    "validation_samples = 117\n",
    "max_words = 45\n",
    "articles, tags = corpus_to_pos(corpus)\n",
    "tokenizer = Tokenizer(num_words=max_words)\n",
    "tokenizer.fit_on_texts(articles)\n",
    "print(tokenizer.word_index)\n",
    "print(len(tokenizer.word_index))\n"
   ]
  },
  {
   "cell_type": "code",
   "execution_count": 29,
   "metadata": {},
   "outputs": [
    {
     "name": "stdout",
     "output_type": "stream",
     "text": [
      "(567,)\n"
     ]
    }
   ],
   "source": [
    "sequences = tokenizer.texts_to_sequences(articles)\n",
    "# print(sequences)\n",
    "print(np.shape(sequences))\n"
   ]
  },
  {
   "cell_type": "code",
   "execution_count": 30,
   "metadata": {},
   "outputs": [
    {
     "name": "stdout",
     "output_type": "stream",
     "text": [
      "[[ 0  0  0 ...  2 17  8]\n",
      " [ 0  0  0 ...  2 17  8]\n",
      " [ 0  0  0 ...  2 17  8]\n",
      " ...\n",
      " [ 0  0  0 ...  4  1  8]\n",
      " [ 0  0  0 ...  4  1  8]\n",
      " [ 0  0  0 ...  4  1  8]]\n",
      "(567, 1000)\n"
     ]
    }
   ],
   "source": [
    "\n",
    "data = pad_sequences(sequences, maxlen=maxlen)\n",
    "print(data)\n",
    "print(np.shape(data))"
   ]
  },
  {
   "cell_type": "code",
   "execution_count": 31,
   "metadata": {},
   "outputs": [
    {
     "name": "stdout",
     "output_type": "stream",
     "text": [
      "(567,)\n",
      "(567, 3)\n"
     ]
    }
   ],
   "source": [
    "print(np.shape(tags))\n",
    "labels = to_categorical(tags)\n",
    "print(np.shape(labels))"
   ]
  },
  {
   "cell_type": "code",
   "execution_count": 32,
   "metadata": {},
   "outputs": [
    {
     "name": "stdout",
     "output_type": "stream",
     "text": [
      "(567, 1000) (567, 3) (1000,)\n",
      "(450, 1000) (450, 3)\n",
      "(117, 1000) (117, 3)\n"
     ]
    }
   ],
   "source": [
    "indices = np.arange(data.shape[0])\n",
    "np.random.shuffle(indices)\n",
    "data = data[indices]\n",
    "labels = labels[indices]\n",
    "print(np.shape(data), np.shape(labels), np.shape(data[0]))\n",
    "\n",
    "x_train= data[:training_samples]\n",
    "y_train= labels[:training_samples]\n",
    "print(np.shape(x_train), np.shape(y_train))\n",
    "\n",
    "x_val =data[training_samples:]\n",
    "y_val =labels[training_samples:]\n",
    "print(np.shape(x_val), np.shape(y_val))\n",
    "from tensorflow.python import keras\n"
   ]
  },
  {
   "cell_type": "code",
   "execution_count": 33,
   "metadata": {
    "pycharm": {
     "is_executing": false,
     "name": "#%%\n"
    },
    "slideshow": {
     "slide_type": "slide"
    }
   },
   "outputs": [],
   "source": [
    "data = data.reshape(data.shape[0], data.shape[1], 1)\n",
    "model = Sequential()\n",
    "model.add(Conv1D(32, 7, activation='relu'))\n",
    "model.add(MaxPooling1D(5))\n",
    "model.add(Conv1D(32, 7, activation='relu'))\n",
    "\n",
    "model.add(GlobalMaxPooling1D())\n",
    "model.add(Dense(3, activation='softmax'))\n",
    "# model.summary()"
   ]
  },
  {
   "cell_type": "code",
   "execution_count": 42,
   "metadata": {
    "pycharm": {
     "is_executing": false,
     "name": "#%%\n"
    },
    "slideshow": {
     "slide_type": "subslide"
    }
   },
   "outputs": [
    {
     "name": "stdout",
     "output_type": "stream",
     "text": [
      "Train on 453 samples, validate on 114 samples\n",
      "Epoch 1/200\n",
      "453/453 [==============================] - 1s 1ms/step - loss: 1.8615 - acc: 0.5519 - val_loss: 1.5425 - val_acc: 0.3860\n",
      "Epoch 2/200\n",
      "453/453 [==============================] - 0s 213us/step - loss: 0.8734 - acc: 0.6291 - val_loss: 1.4242 - val_acc: 0.4123\n",
      "Epoch 3/200\n",
      "453/453 [==============================] - 0s 213us/step - loss: 0.7921 - acc: 0.6645 - val_loss: 1.1142 - val_acc: 0.5175\n",
      "Epoch 4/200\n",
      "453/453 [==============================] - 0s 200us/step - loss: 0.7920 - acc: 0.6645 - val_loss: 1.3802 - val_acc: 0.3772\n",
      "Epoch 5/200\n",
      "453/453 [==============================] - 0s 200us/step - loss: 0.7327 - acc: 0.6733 - val_loss: 1.3921 - val_acc: 0.4561\n",
      "Epoch 6/200\n",
      "453/453 [==============================] - 0s 203us/step - loss: 0.6690 - acc: 0.7329 - val_loss: 2.5708 - val_acc: 0.3509\n",
      "Epoch 7/200\n",
      "453/453 [==============================] - 0s 198us/step - loss: 0.8659 - acc: 0.6954 - val_loss: 1.3236 - val_acc: 0.4298\n",
      "Epoch 8/200\n",
      "453/453 [==============================] - 0s 193us/step - loss: 0.6382 - acc: 0.7086 - val_loss: 2.5375 - val_acc: 0.3684\n",
      "Epoch 9/200\n",
      "453/453 [==============================] - 0s 190us/step - loss: 0.6830 - acc: 0.7108 - val_loss: 1.1436 - val_acc: 0.4912\n",
      "Epoch 10/200\n",
      "453/453 [==============================] - 0s 206us/step - loss: 0.7139 - acc: 0.6600 - val_loss: 1.3642 - val_acc: 0.4123\n",
      "Epoch 11/200\n",
      "453/453 [==============================] - 0s 194us/step - loss: 0.7260 - acc: 0.7196 - val_loss: 1.2979 - val_acc: 0.4561\n",
      "Epoch 12/200\n",
      "453/453 [==============================] - 0s 197us/step - loss: 0.6063 - acc: 0.7483 - val_loss: 1.1827 - val_acc: 0.4474\n",
      "Epoch 13/200\n",
      "453/453 [==============================] - 0s 191us/step - loss: 0.6312 - acc: 0.7417 - val_loss: 1.3220 - val_acc: 0.4123\n",
      "Epoch 14/200\n",
      "453/453 [==============================] - 0s 193us/step - loss: 0.5463 - acc: 0.7837 - val_loss: 1.5990 - val_acc: 0.4386\n",
      "Epoch 15/200\n",
      "453/453 [==============================] - 0s 191us/step - loss: 0.6192 - acc: 0.7307 - val_loss: 2.6303 - val_acc: 0.3333\n",
      "Epoch 16/200\n",
      "453/453 [==============================] - 0s 208us/step - loss: 0.6062 - acc: 0.7594 - val_loss: 1.0422 - val_acc: 0.5000\n",
      "Epoch 17/200\n",
      "453/453 [==============================] - 0s 215us/step - loss: 0.5819 - acc: 0.7616 - val_loss: 2.0157 - val_acc: 0.4123\n",
      "Epoch 18/200\n",
      "453/453 [==============================] - 0s 214us/step - loss: 0.5663 - acc: 0.7417 - val_loss: 1.9921 - val_acc: 0.5000\n",
      "Epoch 19/200\n",
      "453/453 [==============================] - 0s 196us/step - loss: 0.6028 - acc: 0.7285 - val_loss: 2.1020 - val_acc: 0.3860\n",
      "Epoch 20/200\n",
      "453/453 [==============================] - 0s 213us/step - loss: 0.5238 - acc: 0.8322 - val_loss: 1.8660 - val_acc: 0.4211\n",
      "Epoch 21/200\n",
      "453/453 [==============================] - 0s 210us/step - loss: 0.5761 - acc: 0.7748 - val_loss: 1.4093 - val_acc: 0.4298\n",
      "Epoch 22/200\n",
      "453/453 [==============================] - 0s 213us/step - loss: 0.5992 - acc: 0.7108 - val_loss: 1.3095 - val_acc: 0.5088\n",
      "Epoch 23/200\n",
      "453/453 [==============================] - 0s 205us/step - loss: 0.4920 - acc: 0.7726 - val_loss: 2.2500 - val_acc: 0.3421\n",
      "Epoch 24/200\n",
      "453/453 [==============================] - 0s 213us/step - loss: 0.4869 - acc: 0.8124 - val_loss: 1.6596 - val_acc: 0.5000\n",
      "Epoch 25/200\n",
      "453/453 [==============================] - 0s 219us/step - loss: 0.6002 - acc: 0.7439 - val_loss: 1.0793 - val_acc: 0.5000\n",
      "Epoch 26/200\n",
      "453/453 [==============================] - 0s 215us/step - loss: 0.5383 - acc: 0.7770 - val_loss: 1.5687 - val_acc: 0.5263\n",
      "Epoch 27/200\n",
      "453/453 [==============================] - 0s 220us/step - loss: 0.4711 - acc: 0.8168 - val_loss: 1.1076 - val_acc: 0.4912\n",
      "Epoch 28/200\n",
      "453/453 [==============================] - 0s 217us/step - loss: 0.5097 - acc: 0.7815 - val_loss: 2.3525 - val_acc: 0.3509\n",
      "Epoch 29/200\n",
      "453/453 [==============================] - 0s 218us/step - loss: 0.5547 - acc: 0.7682 - val_loss: 1.6903 - val_acc: 0.4035\n",
      "Epoch 30/200\n",
      "453/453 [==============================] - 0s 212us/step - loss: 0.4574 - acc: 0.8168 - val_loss: 1.2998 - val_acc: 0.4474\n",
      "Epoch 31/200\n",
      "453/453 [==============================] - 0s 216us/step - loss: 0.3925 - acc: 0.8675 - val_loss: 2.0962 - val_acc: 0.4649\n",
      "Epoch 32/200\n",
      "453/453 [==============================] - 0s 203us/step - loss: 0.5893 - acc: 0.7925 - val_loss: 1.3874 - val_acc: 0.4825\n",
      "Epoch 33/200\n",
      "453/453 [==============================] - 0s 215us/step - loss: 0.3265 - acc: 0.9338 - val_loss: 1.6464 - val_acc: 0.4035\n",
      "Epoch 34/200\n",
      "453/453 [==============================] - 0s 219us/step - loss: 0.4870 - acc: 0.8190 - val_loss: 1.2768 - val_acc: 0.4474\n",
      "Epoch 35/200\n",
      "453/453 [==============================] - 0s 213us/step - loss: 0.4390 - acc: 0.8234 - val_loss: 2.1760 - val_acc: 0.4649\n",
      "Epoch 36/200\n",
      "453/453 [==============================] - 0s 216us/step - loss: 0.3348 - acc: 0.9249 - val_loss: 1.2901 - val_acc: 0.5000\n",
      "Epoch 37/200\n",
      "453/453 [==============================] - 0s 201us/step - loss: 0.5084 - acc: 0.8035 - val_loss: 1.4064 - val_acc: 0.4123\n",
      "Epoch 38/200\n",
      "453/453 [==============================] - 0s 188us/step - loss: 0.4011 - acc: 0.8433 - val_loss: 1.6862 - val_acc: 0.3947\n",
      "Epoch 39/200\n",
      "453/453 [==============================] - 0s 193us/step - loss: 0.4542 - acc: 0.8102 - val_loss: 1.5172 - val_acc: 0.4298\n",
      "Epoch 40/200\n",
      "453/453 [==============================] - 0s 181us/step - loss: 0.4677 - acc: 0.8477 - val_loss: 1.2828 - val_acc: 0.4649\n",
      "Epoch 41/200\n",
      "453/453 [==============================] - 0s 187us/step - loss: 0.3395 - acc: 0.9073 - val_loss: 1.4938 - val_acc: 0.4386\n",
      "Epoch 42/200\n",
      "453/453 [==============================] - 0s 187us/step - loss: 0.3748 - acc: 0.8830 - val_loss: 1.1958 - val_acc: 0.4561\n",
      "Epoch 43/200\n",
      "453/453 [==============================] - 0s 192us/step - loss: 0.3850 - acc: 0.8609 - val_loss: 1.2887 - val_acc: 0.4474\n",
      "Epoch 44/200\n",
      "453/453 [==============================] - 0s 207us/step - loss: 0.4551 - acc: 0.8278 - val_loss: 2.8723 - val_acc: 0.3860\n",
      "Epoch 45/200\n",
      "453/453 [==============================] - 0s 212us/step - loss: 0.3852 - acc: 0.9051 - val_loss: 1.9466 - val_acc: 0.4211\n",
      "Epoch 46/200\n",
      "453/453 [==============================] - 0s 213us/step - loss: 0.3259 - acc: 0.9117 - val_loss: 2.4729 - val_acc: 0.4825\n",
      "Epoch 47/200\n",
      "453/453 [==============================] - 0s 221us/step - loss: 0.4511 - acc: 0.8256 - val_loss: 2.2194 - val_acc: 0.4912\n",
      "Epoch 48/200\n",
      "453/453 [==============================] - 0s 216us/step - loss: 0.3492 - acc: 0.8874 - val_loss: 1.1374 - val_acc: 0.4825\n",
      "Epoch 49/200\n",
      "453/453 [==============================] - 0s 221us/step - loss: 0.3892 - acc: 0.8720 - val_loss: 1.2685 - val_acc: 0.4561\n",
      "Epoch 50/200\n",
      "453/453 [==============================] - 0s 221us/step - loss: 0.2988 - acc: 0.8962 - val_loss: 1.4186 - val_acc: 0.4298\n",
      "Epoch 51/200\n",
      "453/453 [==============================] - 0s 203us/step - loss: 0.3376 - acc: 0.8720 - val_loss: 2.0821 - val_acc: 0.3860\n",
      "Epoch 52/200\n",
      "453/453 [==============================] - 0s 198us/step - loss: 0.3421 - acc: 0.8631 - val_loss: 1.2703 - val_acc: 0.4298\n",
      "Epoch 53/200\n",
      "453/453 [==============================] - 0s 206us/step - loss: 0.4107 - acc: 0.8389 - val_loss: 1.1645 - val_acc: 0.4825\n",
      "Epoch 54/200\n",
      "453/453 [==============================] - 0s 195us/step - loss: 0.1835 - acc: 0.9845 - val_loss: 1.7488 - val_acc: 0.4123\n",
      "Epoch 55/200\n",
      "453/453 [==============================] - 0s 196us/step - loss: 0.3668 - acc: 0.8587 - val_loss: 1.3273 - val_acc: 0.4386\n",
      "Epoch 56/200\n",
      "453/453 [==============================] - 0s 194us/step - loss: 0.2842 - acc: 0.9272 - val_loss: 1.3679 - val_acc: 0.4386\n",
      "Epoch 57/200\n",
      "453/453 [==============================] - 0s 202us/step - loss: 0.2852 - acc: 0.8874 - val_loss: 1.8848 - val_acc: 0.4035\n",
      "Epoch 58/200\n",
      "453/453 [==============================] - 0s 187us/step - loss: 0.4071 - acc: 0.8521 - val_loss: 1.2120 - val_acc: 0.4561\n",
      "Epoch 59/200\n",
      "453/453 [==============================] - 0s 195us/step - loss: 0.2110 - acc: 0.9492 - val_loss: 1.1847 - val_acc: 0.4825\n",
      "Epoch 60/200\n",
      "453/453 [==============================] - 0s 201us/step - loss: 0.2247 - acc: 0.9492 - val_loss: 1.5621 - val_acc: 0.4211\n"
     ]
    },
    {
     "name": "stdout",
     "output_type": "stream",
     "text": [
      "Epoch 61/200\n",
      "453/453 [==============================] - 0s 196us/step - loss: 0.3421 - acc: 0.8985 - val_loss: 2.0926 - val_acc: 0.4035\n",
      "Epoch 62/200\n",
      "453/453 [==============================] - 0s 192us/step - loss: 0.2900 - acc: 0.8940 - val_loss: 2.2919 - val_acc: 0.4386\n",
      "Epoch 63/200\n",
      "453/453 [==============================] - 0s 193us/step - loss: 0.2610 - acc: 0.9227 - val_loss: 1.5951 - val_acc: 0.4035\n",
      "Epoch 64/200\n",
      "453/453 [==============================] - 0s 188us/step - loss: 0.1953 - acc: 0.9669 - val_loss: 1.2509 - val_acc: 0.4474\n",
      "Epoch 65/200\n",
      "453/453 [==============================] - 0s 191us/step - loss: 0.3388 - acc: 0.8830 - val_loss: 1.2603 - val_acc: 0.4649\n",
      "Epoch 66/200\n",
      "453/453 [==============================] - 0s 190us/step - loss: 0.2555 - acc: 0.9051 - val_loss: 1.4230 - val_acc: 0.4386\n",
      "Epoch 67/200\n",
      "453/453 [==============================] - 0s 194us/step - loss: 0.2392 - acc: 0.9294 - val_loss: 1.4610 - val_acc: 0.4035\n",
      "Epoch 68/200\n",
      "453/453 [==============================] - 0s 187us/step - loss: 0.1718 - acc: 0.9603 - val_loss: 1.9245 - val_acc: 0.4386\n",
      "Epoch 69/200\n",
      "453/453 [==============================] - 0s 191us/step - loss: 0.2814 - acc: 0.8985 - val_loss: 1.2672 - val_acc: 0.4649\n",
      "Epoch 70/200\n",
      "453/453 [==============================] - 0s 191us/step - loss: 0.2937 - acc: 0.8852 - val_loss: 1.4249 - val_acc: 0.4474\n",
      "Epoch 71/200\n",
      "453/453 [==============================] - 0s 188us/step - loss: 0.2290 - acc: 0.9227 - val_loss: 1.2741 - val_acc: 0.4561\n",
      "Epoch 72/200\n",
      "453/453 [==============================] - 0s 197us/step - loss: 0.1052 - acc: 0.9978 - val_loss: 1.9765 - val_acc: 0.4298\n",
      "Epoch 73/200\n",
      "453/453 [==============================] - 0s 194us/step - loss: 0.3268 - acc: 0.9117 - val_loss: 1.3305 - val_acc: 0.4737\n",
      "Epoch 74/200\n",
      "453/453 [==============================] - 0s 183us/step - loss: 0.1911 - acc: 0.9470 - val_loss: 1.6012 - val_acc: 0.4737\n",
      "Epoch 75/200\n",
      "453/453 [==============================] - 0s 196us/step - loss: 0.2539 - acc: 0.9338 - val_loss: 1.3587 - val_acc: 0.5000\n",
      "Epoch 76/200\n",
      "453/453 [==============================] - 0s 186us/step - loss: 0.1858 - acc: 0.9536 - val_loss: 1.2850 - val_acc: 0.4649\n",
      "Epoch 77/200\n",
      "453/453 [==============================] - 0s 194us/step - loss: 0.2746 - acc: 0.9316 - val_loss: 1.3835 - val_acc: 0.5351\n",
      "Epoch 78/200\n",
      "453/453 [==============================] - 0s 194us/step - loss: 0.1666 - acc: 0.9625 - val_loss: 2.3605 - val_acc: 0.3860\n",
      "Epoch 79/200\n",
      "453/453 [==============================] - 0s 187us/step - loss: 0.1308 - acc: 0.9713 - val_loss: 1.3658 - val_acc: 0.4649\n",
      "Epoch 80/200\n",
      "453/453 [==============================] - 0s 209us/step - loss: 0.2315 - acc: 0.9470 - val_loss: 1.3105 - val_acc: 0.4561\n",
      "Epoch 81/200\n",
      "453/453 [==============================] - 0s 202us/step - loss: 0.3115 - acc: 0.9161 - val_loss: 1.2982 - val_acc: 0.4474\n",
      "Epoch 82/200\n",
      "453/453 [==============================] - 0s 218us/step - loss: 0.0692 - acc: 1.0000 - val_loss: 2.0486 - val_acc: 0.3947\n",
      "Epoch 83/200\n",
      "453/453 [==============================] - 0s 210us/step - loss: 0.2782 - acc: 0.9073 - val_loss: 1.3338 - val_acc: 0.4649\n",
      "Epoch 84/200\n",
      "453/453 [==============================] - 0s 198us/step - loss: 0.2414 - acc: 0.9272 - val_loss: 1.3765 - val_acc: 0.4912\n",
      "Epoch 85/200\n",
      "453/453 [==============================] - 0s 191us/step - loss: 0.0588 - acc: 1.0000 - val_loss: 1.4990 - val_acc: 0.4737\n",
      "Epoch 86/200\n",
      "453/453 [==============================] - 0s 188us/step - loss: 0.4330 - acc: 0.8212 - val_loss: 1.3437 - val_acc: 0.4386\n",
      "Epoch 87/200\n",
      "453/453 [==============================] - 0s 204us/step - loss: 0.0568 - acc: 1.0000 - val_loss: 1.4865 - val_acc: 0.4912\n",
      "Epoch 88/200\n",
      "453/453 [==============================] - 0s 190us/step - loss: 0.2520 - acc: 0.9073 - val_loss: 2.2879 - val_acc: 0.5000\n",
      "Epoch 89/200\n",
      "453/453 [==============================] - 0s 198us/step - loss: 0.1110 - acc: 0.9691 - val_loss: 1.4730 - val_acc: 0.4912\n",
      "Epoch 90/200\n",
      "453/453 [==============================] - 0s 188us/step - loss: 0.2257 - acc: 0.9205 - val_loss: 2.2817 - val_acc: 0.5439\n",
      "Epoch 91/200\n",
      "453/453 [==============================] - 0s 191us/step - loss: 0.1039 - acc: 0.9713 - val_loss: 1.3887 - val_acc: 0.4474\n",
      "Epoch 92/200\n",
      "453/453 [==============================] - 0s 192us/step - loss: 0.3499 - acc: 0.8698 - val_loss: 1.3275 - val_acc: 0.4649\n",
      "Epoch 93/200\n",
      "453/453 [==============================] - 0s 191us/step - loss: 0.0486 - acc: 1.0000 - val_loss: 1.6064 - val_acc: 0.4035\n",
      "Epoch 94/200\n",
      "453/453 [==============================] - 0s 185us/step - loss: 0.1953 - acc: 0.9492 - val_loss: 1.4352 - val_acc: 0.4474\n",
      "Epoch 95/200\n",
      "453/453 [==============================] - 0s 187us/step - loss: 0.0528 - acc: 1.0000 - val_loss: 1.5003 - val_acc: 0.4912\n",
      "Epoch 96/200\n",
      "453/453 [==============================] - 0s 197us/step - loss: 0.1973 - acc: 0.9360 - val_loss: 1.4673 - val_acc: 0.4474\n",
      "Epoch 97/200\n",
      "453/453 [==============================] - 0s 193us/step - loss: 0.1929 - acc: 0.9404 - val_loss: 1.4670 - val_acc: 0.4474\n",
      "Epoch 98/200\n",
      "453/453 [==============================] - 0s 197us/step - loss: 0.0707 - acc: 0.9956 - val_loss: 2.9833 - val_acc: 0.4035\n",
      "Epoch 99/200\n",
      "453/453 [==============================] - 0s 199us/step - loss: 0.1646 - acc: 0.9360 - val_loss: 1.6502 - val_acc: 0.5000\n",
      "Epoch 100/200\n",
      "453/453 [==============================] - 0s 195us/step - loss: 0.2045 - acc: 0.9249 - val_loss: 1.5404 - val_acc: 0.5175\n",
      "Epoch 101/200\n",
      "453/453 [==============================] - 0s 186us/step - loss: 0.0505 - acc: 1.0000 - val_loss: 1.5245 - val_acc: 0.4649\n",
      "Epoch 102/200\n",
      "453/453 [==============================] - 0s 185us/step - loss: 0.2024 - acc: 0.9249 - val_loss: 1.5345 - val_acc: 0.4825\n",
      "Epoch 103/200\n",
      "453/453 [==============================] - 0s 196us/step - loss: 0.0573 - acc: 1.0000 - val_loss: 1.6120 - val_acc: 0.4298\n",
      "Epoch 104/200\n",
      "453/453 [==============================] - 0s 223us/step - loss: 0.2510 - acc: 0.9316 - val_loss: 1.4374 - val_acc: 0.4561\n",
      "Epoch 105/200\n",
      "453/453 [==============================] - 0s 221us/step - loss: 0.1555 - acc: 0.9558 - val_loss: 1.4701 - val_acc: 0.4561\n",
      "Epoch 106/200\n",
      "453/453 [==============================] - 0s 213us/step - loss: 0.0348 - acc: 1.0000 - val_loss: 1.5603 - val_acc: 0.4561\n",
      "Epoch 107/200\n",
      "453/453 [==============================] - 0s 186us/step - loss: 0.2117 - acc: 0.9404 - val_loss: 1.4777 - val_acc: 0.4298\n",
      "Epoch 108/200\n",
      "453/453 [==============================] - 0s 188us/step - loss: 0.1823 - acc: 0.9426 - val_loss: 1.4403 - val_acc: 0.4474\n",
      "Epoch 109/200\n",
      "453/453 [==============================] - 0s 186us/step - loss: 0.0310 - acc: 1.0000 - val_loss: 1.9390 - val_acc: 0.4211\n",
      "Epoch 110/200\n",
      "453/453 [==============================] - 0s 184us/step - loss: 0.1799 - acc: 0.9558 - val_loss: 1.5448 - val_acc: 0.4649\n",
      "Epoch 111/200\n",
      "453/453 [==============================] - 0s 186us/step - loss: 0.0294 - acc: 1.0000 - val_loss: 2.1978 - val_acc: 0.4737\n",
      "Epoch 112/200\n",
      "453/453 [==============================] - 0s 194us/step - loss: 0.1642 - acc: 0.9669 - val_loss: 1.6484 - val_acc: 0.4474\n",
      "Epoch 113/200\n",
      "453/453 [==============================] - 0s 191us/step - loss: 0.2101 - acc: 0.9338 - val_loss: 1.5363 - val_acc: 0.4123\n",
      "Epoch 114/200\n",
      "453/453 [==============================] - 0s 201us/step - loss: 0.0273 - acc: 1.0000 - val_loss: 1.4867 - val_acc: 0.4649\n",
      "Epoch 115/200\n",
      "453/453 [==============================] - 0s 185us/step - loss: 0.2346 - acc: 0.9183 - val_loss: 1.6360 - val_acc: 0.5000\n",
      "Epoch 116/200\n",
      "453/453 [==============================] - 0s 194us/step - loss: 0.0291 - acc: 1.0000 - val_loss: 1.5017 - val_acc: 0.4474\n",
      "Epoch 117/200\n",
      "453/453 [==============================] - 0s 184us/step - loss: 0.0965 - acc: 0.9713 - val_loss: 1.6739 - val_acc: 0.4298\n",
      "Epoch 118/200\n",
      "453/453 [==============================] - 0s 178us/step - loss: 0.2486 - acc: 0.9404 - val_loss: 1.5146 - val_acc: 0.4298\n",
      "Epoch 119/200\n",
      "453/453 [==============================] - 0s 186us/step - loss: 0.0240 - acc: 1.0000 - val_loss: 1.5376 - val_acc: 0.4474\n",
      "Epoch 120/200\n",
      "453/453 [==============================] - 0s 195us/step - loss: 0.2164 - acc: 0.9272 - val_loss: 2.8336 - val_acc: 0.3772\n",
      "Epoch 121/200\n"
     ]
    },
    {
     "name": "stdout",
     "output_type": "stream",
     "text": [
      "453/453 [==============================] - 0s 192us/step - loss: 0.0453 - acc: 0.9890 - val_loss: 1.5289 - val_acc: 0.4474\n",
      "Epoch 122/200\n",
      "453/453 [==============================] - 0s 198us/step - loss: 0.0244 - acc: 1.0000 - val_loss: 2.0057 - val_acc: 0.4211\n",
      "Epoch 123/200\n",
      "453/453 [==============================] - 0s 187us/step - loss: 0.2420 - acc: 0.9272 - val_loss: 1.5284 - val_acc: 0.4649\n",
      "Epoch 124/200\n",
      "453/453 [==============================] - 0s 192us/step - loss: 0.0242 - acc: 1.0000 - val_loss: 1.5677 - val_acc: 0.4298\n",
      "Epoch 125/200\n",
      "453/453 [==============================] - 0s 193us/step - loss: 0.1787 - acc: 0.9514 - val_loss: 1.5882 - val_acc: 0.4211\n",
      "Epoch 126/200\n",
      "453/453 [==============================] - 0s 188us/step - loss: 0.1589 - acc: 0.9536 - val_loss: 1.5332 - val_acc: 0.4737\n",
      "Epoch 127/200\n",
      "453/453 [==============================] - 0s 190us/step - loss: 0.0213 - acc: 1.0000 - val_loss: 1.5961 - val_acc: 0.4123\n",
      "Epoch 128/200\n",
      "453/453 [==============================] - 0s 199us/step - loss: 0.2217 - acc: 0.9183 - val_loss: 1.5304 - val_acc: 0.4561\n",
      "Epoch 129/200\n",
      "453/453 [==============================] - 0s 197us/step - loss: 0.0196 - acc: 1.0000 - val_loss: 1.6529 - val_acc: 0.4035\n",
      "Epoch 130/200\n",
      "453/453 [==============================] - 0s 189us/step - loss: 0.0185 - acc: 1.0000 - val_loss: 1.7045 - val_acc: 0.4649\n",
      "Epoch 131/200\n",
      "453/453 [==============================] - 0s 192us/step - loss: 0.2368 - acc: 0.9161 - val_loss: 1.6093 - val_acc: 0.4737\n",
      "Epoch 132/200\n",
      "453/453 [==============================] - 0s 196us/step - loss: 0.0181 - acc: 1.0000 - val_loss: 1.5692 - val_acc: 0.4649\n",
      "Epoch 133/200\n",
      "453/453 [==============================] - 0s 193us/step - loss: 0.1533 - acc: 0.9669 - val_loss: 1.5654 - val_acc: 0.4649\n",
      "Epoch 134/200\n",
      "453/453 [==============================] - 0s 196us/step - loss: 0.0171 - acc: 1.0000 - val_loss: 1.7749 - val_acc: 0.4649\n",
      "Epoch 135/200\n",
      "453/453 [==============================] - 0s 189us/step - loss: 0.1216 - acc: 0.9735 - val_loss: 1.8356 - val_acc: 0.4123\n",
      "Epoch 136/200\n",
      "453/453 [==============================] - 0s 175us/step - loss: 0.1460 - acc: 0.9536 - val_loss: 1.5830 - val_acc: 0.4211\n",
      "Epoch 137/200\n",
      "453/453 [==============================] - 0s 196us/step - loss: 0.0159 - acc: 1.0000 - val_loss: 1.6179 - val_acc: 0.4474\n",
      "Epoch 138/200\n",
      "453/453 [==============================] - 0s 202us/step - loss: 0.2315 - acc: 0.9272 - val_loss: 1.6067 - val_acc: 0.4211\n",
      "Epoch 139/200\n",
      "453/453 [==============================] - 0s 190us/step - loss: 0.0150 - acc: 1.0000 - val_loss: 1.6643 - val_acc: 0.4825\n",
      "Epoch 140/200\n",
      "453/453 [==============================] - 0s 200us/step - loss: 0.0313 - acc: 0.9956 - val_loss: 4.6727 - val_acc: 0.4386\n",
      "Epoch 141/200\n",
      "453/453 [==============================] - 0s 181us/step - loss: 0.1585 - acc: 0.9514 - val_loss: 1.6426 - val_acc: 0.4298\n",
      "Epoch 142/200\n",
      "453/453 [==============================] - 0s 193us/step - loss: 0.0142 - acc: 1.0000 - val_loss: 1.6675 - val_acc: 0.4298\n",
      "Epoch 143/200\n",
      "453/453 [==============================] - 0s 191us/step - loss: 0.0958 - acc: 0.9757 - val_loss: 3.6254 - val_acc: 0.4123\n",
      "Epoch 144/200\n",
      "453/453 [==============================] - 0s 193us/step - loss: 0.1611 - acc: 0.9448 - val_loss: 1.6401 - val_acc: 0.4474\n",
      "Epoch 145/200\n",
      "453/453 [==============================] - 0s 196us/step - loss: 0.0142 - acc: 1.0000 - val_loss: 1.8302 - val_acc: 0.5000\n",
      "Epoch 146/200\n",
      "453/453 [==============================] - 0s 201us/step - loss: 0.0962 - acc: 0.9625 - val_loss: 2.7729 - val_acc: 0.4035\n",
      "Epoch 147/200\n",
      "453/453 [==============================] - 0s 185us/step - loss: 0.0300 - acc: 0.9978 - val_loss: 1.6142 - val_acc: 0.4561\n",
      "Epoch 148/200\n",
      "453/453 [==============================] - 0s 189us/step - loss: 0.0132 - acc: 1.0000 - val_loss: 1.6937 - val_acc: 0.3947\n",
      "Epoch 149/200\n",
      "453/453 [==============================] - 0s 197us/step - loss: 0.2759 - acc: 0.9117 - val_loss: 1.6324 - val_acc: 0.4298\n",
      "Epoch 150/200\n",
      "453/453 [==============================] - 0s 195us/step - loss: 0.0127 - acc: 1.0000 - val_loss: 1.6209 - val_acc: 0.4561\n",
      "Epoch 151/200\n",
      "453/453 [==============================] - 0s 184us/step - loss: 0.0119 - acc: 1.0000 - val_loss: 1.8891 - val_acc: 0.4561\n",
      "Epoch 152/200\n",
      "453/453 [==============================] - 0s 200us/step - loss: 0.2690 - acc: 0.9205 - val_loss: 1.6538 - val_acc: 0.4211\n",
      "Epoch 153/200\n",
      "453/453 [==============================] - 0s 191us/step - loss: 0.0131 - acc: 1.0000 - val_loss: 1.7138 - val_acc: 0.4386\n",
      "Epoch 154/200\n",
      "453/453 [==============================] - 0s 189us/step - loss: 0.0116 - acc: 1.0000 - val_loss: 1.7441 - val_acc: 0.4298\n",
      "Epoch 155/200\n",
      "453/453 [==============================] - 0s 192us/step - loss: 0.2685 - acc: 0.9249 - val_loss: 1.9892 - val_acc: 0.4474\n",
      "Epoch 156/200\n",
      "453/453 [==============================] - 0s 193us/step - loss: 0.0280 - acc: 0.9912 - val_loss: 1.7265 - val_acc: 0.4649\n",
      "Epoch 157/200\n",
      "453/453 [==============================] - 0s 209us/step - loss: 0.0123 - acc: 1.0000 - val_loss: 1.7306 - val_acc: 0.4298\n",
      "Epoch 158/200\n",
      "453/453 [==============================] - 0s 183us/step - loss: 0.0120 - acc: 1.0000 - val_loss: 1.8921 - val_acc: 0.4298\n",
      "Epoch 159/200\n",
      "453/453 [==============================] - 0s 191us/step - loss: 0.2053 - acc: 0.9470 - val_loss: 1.7338 - val_acc: 0.4649\n",
      "Epoch 160/200\n",
      "453/453 [==============================] - 0s 202us/step - loss: 0.0104 - acc: 1.0000 - val_loss: 1.8061 - val_acc: 0.4386\n",
      "Epoch 161/200\n",
      "453/453 [==============================] - 0s 203us/step - loss: 0.0096 - acc: 1.0000 - val_loss: 1.7394 - val_acc: 0.4561\n",
      "Epoch 162/200\n",
      "453/453 [==============================] - 0s 190us/step - loss: 0.3180 - acc: 0.9249 - val_loss: 1.7262 - val_acc: 0.4474\n",
      "Epoch 163/200\n",
      "453/453 [==============================] - 0s 201us/step - loss: 0.0103 - acc: 1.0000 - val_loss: 1.7438 - val_acc: 0.4561\n",
      "Epoch 164/200\n",
      "453/453 [==============================] - 0s 187us/step - loss: 0.0094 - acc: 1.0000 - val_loss: 1.7850 - val_acc: 0.4298\n",
      "Epoch 165/200\n",
      "453/453 [==============================] - 0s 197us/step - loss: 0.0144 - acc: 1.0000 - val_loss: 5.9857 - val_acc: 0.3596\n",
      "Epoch 166/200\n",
      "453/453 [==============================] - 0s 207us/step - loss: 0.2820 - acc: 0.9205 - val_loss: 1.7497 - val_acc: 0.4649\n",
      "Epoch 167/200\n",
      "453/453 [==============================] - 0s 195us/step - loss: 0.0096 - acc: 1.0000 - val_loss: 1.7830 - val_acc: 0.4561\n",
      "Epoch 168/200\n",
      "453/453 [==============================] - 0s 200us/step - loss: 0.0091 - acc: 1.0000 - val_loss: 1.7770 - val_acc: 0.4474\n",
      "Epoch 169/200\n",
      "453/453 [==============================] - 0s 202us/step - loss: 0.3259 - acc: 0.9183 - val_loss: 1.7961 - val_acc: 0.4561\n",
      "Epoch 170/200\n",
      "453/453 [==============================] - 0s 199us/step - loss: 0.0085 - acc: 1.0000 - val_loss: 1.7960 - val_acc: 0.4211\n",
      "Epoch 171/200\n",
      "453/453 [==============================] - 0s 194us/step - loss: 0.0083 - acc: 1.0000 - val_loss: 1.8158 - val_acc: 0.4298\n",
      "Epoch 172/200\n",
      "453/453 [==============================] - 0s 214us/step - loss: 0.0077 - acc: 1.0000 - val_loss: 1.8020 - val_acc: 0.4474\n",
      "Epoch 173/200\n",
      "453/453 [==============================] - 0s 192us/step - loss: 0.2840 - acc: 0.9272 - val_loss: 1.8018 - val_acc: 0.4298\n",
      "Epoch 174/200\n",
      "453/453 [==============================] - 0s 194us/step - loss: 0.0087 - acc: 1.0000 - val_loss: 1.7820 - val_acc: 0.4386\n",
      "Epoch 175/200\n",
      "453/453 [==============================] - 0s 207us/step - loss: 0.0081 - acc: 1.0000 - val_loss: 1.8675 - val_acc: 0.4298\n",
      "Epoch 176/200\n",
      "453/453 [==============================] - 0s 195us/step - loss: 0.1603 - acc: 0.9448 - val_loss: 1.8233 - val_acc: 0.4474\n",
      "Epoch 177/200\n",
      "453/453 [==============================] - 0s 187us/step - loss: 0.0079 - acc: 1.0000 - val_loss: 1.8248 - val_acc: 0.4649\n",
      "Epoch 178/200\n",
      "453/453 [==============================] - 0s 199us/step - loss: 0.0071 - acc: 1.0000 - val_loss: 2.3666 - val_acc: 0.3947\n",
      "Epoch 179/200\n",
      "453/453 [==============================] - 0s 194us/step - loss: 0.2299 - acc: 0.9139 - val_loss: 1.8420 - val_acc: 0.4474\n",
      "Epoch 180/200\n",
      "453/453 [==============================] - 0s 200us/step - loss: 0.0068 - acc: 1.0000 - val_loss: 1.8691 - val_acc: 0.4211\n"
     ]
    },
    {
     "name": "stdout",
     "output_type": "stream",
     "text": [
      "Epoch 181/200\n",
      "453/453 [==============================] - 0s 196us/step - loss: 0.0836 - acc: 0.9713 - val_loss: 4.5016 - val_acc: 0.3684\n",
      "Epoch 182/200\n",
      "453/453 [==============================] - 0s 199us/step - loss: 0.1059 - acc: 0.9735 - val_loss: 1.8062 - val_acc: 0.4649\n",
      "Epoch 183/200\n",
      "453/453 [==============================] - 0s 198us/step - loss: 0.0069 - acc: 1.0000 - val_loss: 1.8353 - val_acc: 0.4474\n",
      "Epoch 184/200\n",
      "453/453 [==============================] - 0s 186us/step - loss: 0.0065 - acc: 1.0000 - val_loss: 1.9832 - val_acc: 0.3947\n",
      "Epoch 185/200\n",
      "453/453 [==============================] - 0s 219us/step - loss: 0.2832 - acc: 0.9183 - val_loss: 1.8077 - val_acc: 0.4561\n",
      "Epoch 186/200\n",
      "453/453 [==============================] - 0s 219us/step - loss: 0.0077 - acc: 1.0000 - val_loss: 1.8296 - val_acc: 0.4298\n",
      "Epoch 187/200\n",
      "453/453 [==============================] - 0s 209us/step - loss: 0.0068 - acc: 1.0000 - val_loss: 1.8384 - val_acc: 0.4649\n",
      "Epoch 188/200\n",
      "453/453 [==============================] - 0s 204us/step - loss: 0.0065 - acc: 1.0000 - val_loss: 2.0191 - val_acc: 0.3947\n",
      "Epoch 189/200\n",
      "453/453 [==============================] - 0s 214us/step - loss: 0.3317 - acc: 0.9139 - val_loss: 1.8372 - val_acc: 0.4649\n",
      "Epoch 190/200\n",
      "453/453 [==============================] - 0s 196us/step - loss: 0.0059 - acc: 1.0000 - val_loss: 1.8819 - val_acc: 0.4386\n",
      "Epoch 191/200\n",
      "453/453 [==============================] - 0s 207us/step - loss: 0.0056 - acc: 1.0000 - val_loss: 1.8676 - val_acc: 0.4649\n",
      "Epoch 192/200\n",
      "453/453 [==============================] - 0s 209us/step - loss: 0.0056 - acc: 1.0000 - val_loss: 1.8780 - val_acc: 0.4649\n",
      "Epoch 193/200\n",
      "453/453 [==============================] - 0s 212us/step - loss: 0.2396 - acc: 0.9492 - val_loss: 1.8779 - val_acc: 0.4123\n",
      "Epoch 194/200\n",
      "453/453 [==============================] - 0s 196us/step - loss: 0.0053 - acc: 1.0000 - val_loss: 1.8731 - val_acc: 0.4561\n",
      "Epoch 195/200\n",
      "453/453 [==============================] - 0s 198us/step - loss: 0.0052 - acc: 1.0000 - val_loss: 1.8304 - val_acc: 0.4825\n",
      "Epoch 196/200\n",
      "453/453 [==============================] - 0s 187us/step - loss: 0.1984 - acc: 0.9426 - val_loss: 2.2657 - val_acc: 0.4123\n",
      "Epoch 197/200\n",
      "453/453 [==============================] - 0s 194us/step - loss: 0.0066 - acc: 1.0000 - val_loss: 1.8550 - val_acc: 0.4649\n",
      "Epoch 198/200\n",
      "453/453 [==============================] - 0s 195us/step - loss: 0.0047 - acc: 1.0000 - val_loss: 1.8537 - val_acc: 0.4474\n",
      "Epoch 199/200\n",
      "453/453 [==============================] - 0s 187us/step - loss: 0.0044 - acc: 1.0000 - val_loss: 1.8474 - val_acc: 0.4737\n",
      "Epoch 200/200\n",
      "453/453 [==============================] - 0s 197us/step - loss: 0.2402 - acc: 0.9316 - val_loss: 1.9285 - val_acc: 0.4737\n",
      "_________________________________________________________________\n",
      "Layer (type)                 Output Shape              Param #   \n",
      "=================================================================\n",
      "conv1d_3 (Conv1D)            multiple                  256       \n",
      "_________________________________________________________________\n",
      "max_pooling1d_1 (MaxPooling1 multiple                  0         \n",
      "_________________________________________________________________\n",
      "conv1d_4 (Conv1D)            multiple                  7200      \n",
      "_________________________________________________________________\n",
      "global_max_pooling1d_2 (Glob multiple                  0         \n",
      "_________________________________________________________________\n",
      "dense_2 (Dense)              multiple                  99        \n",
      "=================================================================\n",
      "Total params: 7,555\n",
      "Trainable params: 7,555\n",
      "Non-trainable params: 0\n",
      "_________________________________________________________________\n"
     ]
    }
   ],
   "source": [
    "from tensorflow.keras.callbacks import EarlyStopping\n",
    "es = EarlyStopping(monitor='acc',patience=10, verbose=1, mode='auto')\n",
    "\n",
    "model.compile(optimizer=RMSprop(),\n",
    "loss='categorical_crossentropy',\n",
    "metrics=['acc'])\n",
    "history = model.fit(data, labels,\n",
    "epochs=50,                 \n",
    "validation_split=0.2)\n",
    "model.save_weights('pre_trained_glove_model.h5')\n",
    "model.summary()"
   ]
  },
  {
   "cell_type": "code",
   "execution_count": 43,
   "metadata": {
    "pycharm": {
     "name": "#%%\n"
    },
    "slideshow": {
     "slide_type": "slide"
    }
   },
   "outputs": [
    {
     "data": {
      "image/png": "[encoded data removed]",
      "text/plain": [
       "<Figure size 432x288 with 1 Axes>"
      ]
     },
     "metadata": {
      "needs_background": "light"
     },
     "output_type": "display_data"
    },
    {
     "data": {
      "image/png": "[encoded data removed]",
      "text/plain": [
       "<Figure size 432x288 with 1 Axes>"
      ]
     },
     "metadata": {
      "needs_background": "light"
     },
     "output_type": "display_data"
    }
   ],
   "source": [
    "import matplotlib.pyplot as plt\n",
    "acc = history.history['acc']\n",
    "val_acc = history.history['val_acc']\n",
    "loss = history.history['loss']\n",
    "val_loss = history.history['val_loss']\n",
    "epochs = range(1, len(acc) + 1)\n",
    "plt.plot(epochs, acc, 'bo', label='Training acc')\n",
    "plt.plot(epochs, val_acc, 'b', label='Validation acc')\n",
    "plt.title('Training and validation accuracy')\n",
    "plt.legend()\n",
    "plt.figure()\n",
    "plt.plot(epochs, loss, 'bo', label='Training loss')\n",
    "plt.plot(epochs, val_loss, 'b', label='Validation loss')\n",
    "plt.title('Training and validation loss')\n",
    "plt.legend()\n",
    "plt.show()\n",
    "\n",
    "\n"
   ]
  },
  {
   "cell_type": "code",
   "execution_count": null,
   "metadata": {},
   "outputs": [],
   "source": []
  }
 ],
 "metadata": {
  "kernelspec": {
   "display_name": "Python 3",
   "language": "python",
   "name": "python3"
  },
  "language_info": {
   "codemirror_mode": {
    "name": "ipython",
    "version": 3
   },
   "file_extension": ".py",
   "mimetype": "text/x-python",
   "name": "python",
   "nbconvert_exporter": "python",
   "pygments_lexer": "ipython3",
   "version": "3.6.8"
  },
  "pycharm": {
   "stem_cell": {
    "cell_type": "raw",
    "metadata": {
     "collapsed": false
    },
    "source": []
   }
  }
 },
 "nbformat": 4,
 "nbformat_minor": 1
}
