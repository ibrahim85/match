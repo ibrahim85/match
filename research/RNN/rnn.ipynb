{
 "cells": [
  {
   "cell_type": "markdown",
   "metadata": {},
   "source": [
    "# Readability Assessment through Recurrent Neural Network"
   ]
  },
  {
   "cell_type": "markdown",
   "metadata": {},
   "source": [
    "Readability assessment is a well known problem in natural language processing field. Giving someone the suitable text for his level of comprehension (not so easy and not so hard) could maximize his understanding and enjoyment. In this notebook we are trying to assess the readability of a given text regardless of the text subject using recurrent neural network."
   ]
  },
  {
   "cell_type": "markdown",
   "metadata": {
    "pycharm": {
     "name": "#%% md\n"
    }
   },
   "source": [
    "## 1. Corpus\n",
    "> OneStopEnglish corpus: A new corpus for automatic readability assessment and text simplification  \n",
    "> Sowmya Vajjala and Ivana Lučić  \n",
    "> 2018  \n",
    "> Proceedings of the Thirteenth Workshop on Innovative Use of NLP for Building Educational Applications, pages 297–304. Association for Computational Linguistics.  \n",
    "> [url](http://aclweb.org/anthology/W18-0535). [bib file](https://aclanthology.coli.uni-saarland.de/papers/W18-0535/w18-0535.bib)\n",
    "\n",
    "Please cite the above paper if you use this corpus in your research.\n",
    "\n",
    "[![DOI](https://zenodo.org/badge/128919409.svg)](https://zenodo.org/badge/latestdoi/128919409)\n",
    "\n",
    "<a rel=\"license\" href=\"http://creativecommons.org/licenses/by-sa/4.0/\"><img alt=\"Creative Commons License\" style=\"border-width:0\" src=\"https://i.creativecommons.org/l/by-sa/4.0/88x31.png\" /></a><br />This work is licensed under a <a rel=\"license\" href=\"http://creativecommons.org/licenses/by-sa/4.0/\">Creative Commons Attribution-ShareAlike 4.0 International License</a>."
   ]
  },
  {
   "cell_type": "markdown",
   "metadata": {
    "pycharm": {
     "name": "#%% md\n"
    }
   },
   "source": [
    "Now let's dive into our corpus."
   ]
  },
  {
   "cell_type": "code",
   "execution_count": 3,
   "metadata": {
    "pycharm": {
     "is_executing": false,
     "name": "#%%\n"
    }
   },
   "outputs": [
    {
     "name": "stdout",
     "output_type": "stream",
     "text": [
      "heyoo\n",
      "heyoo\n",
      "Elementary\n",
      "The bestselling book on Amazon in the US is a colouring books for adults by Scottish illustrator Johanna Basford.\n",
      "Basfords pictures of animals and plants in Secret Garden have sold more than 1.4 million copies around the world and her next book, Enchanted Forest, has sold 226,000 copies already. The books have celebrity fans like Zooey Deschanel, who shared a link about the book with her Facebook followers, and the South Korean pop star Kim Ki-Bum, who posted an image on Instagram for his 1.6 million followers.\n",
      "Its been crazy. The last few weeks have been madness, but fantastic madness, said Eleanor Blatherwick, head of sales and marketing at the books publisher, Laurence King. We knew the books would be beautiful but we didnt realize they would be such a big success.\n",
      "And it is not just Basfords books that adults want to colour in. In the UK, Richard Merritts Art Therapy Colouring Book is in fourth place on Amazons bestseller lists, Millie Marottas Animal Kingdom  detailed pictures of animals to colour  is in seventh place and a mindfulness colouring book is in ninth place. Basfords books are in second and eighth place  so half of Amazon. co.uks top ten is filled by colouring books for adults.\n",
      "Independent UK publisher Michael OMara has sold around 340,000 adult colouring books. Ana McLaughlin works for them. She says the craze has happened because they are telling people that the books will help them to relax. The first book we did was in 2012, Creative Colouring for Grown-Ups. It sold well but it was in 2014 that adult colouring books became really popular with Art Therapy. We tell people they are anti-stress books so people are allowed to enjoy something they thought was childish before, she said.\n",
      "The Mindfulness Colouring Book says that it is filled with beautiful scenes and intricate, sophisticated patterns. This makes you relax as you fill these pages with colour. The book suggests that people take a few minutes, wherever you are, and colour your way to peace and calm.\n",
      "I think it is really relaxing to unplug, said Basford. And its creative. For many people, a blank sheet of paper is very daunting; with a colouring book you just need to bring the colour. Also, people do it because they feel nostalgia for their childhoods. So many people have said to me that they used to do secret colouring in when their kids were in bed. Now, people dont feel silly. These are books for adults. The art in my books is super intricate. The illustrator, who lives in Aberdeenshire, is creating a third book.\n",
      "The pictures are all over Twitter and Instagram. People are really proud of them  they are so intricate, she said. People send us pictures of them, said McLaughlin.\n",
      "\n",
      "\n",
      "\n"
     ]
    }
   ],
   "source": [
    "import sys\n",
    "sys.path.append(\"/home/ms10596/Documents/match\")\n",
    "from research.utils.one_stop_english import OneStopEnglish\n",
    "corpus = OneStopEnglish()\n",
    "corpus.load_raw()\n",
    "print(corpus.articles[55])"
   ]
  },
  {
   "cell_type": "code",
   "execution_count": 8,
   "metadata": {
    "pycharm": {
     "is_executing": false,
     "name": "#%%\n"
    }
   },
   "outputs": [
    {
     "data": {
      "application/vnd.jupyter.widget-view+json": {
       "model_id": "7bb6b01a0f0b4e1bb00536d004483728",
       "version_major": 2,
       "version_minor": 0
      },
      "text/plain": [
       "interactive(children=(IntSlider(value=283, description='i', max=566), Output()), _dom_classes=('widget-interac…"
      ]
     },
     "metadata": {},
     "output_type": "display_data"
    }
   ],
   "source": [
    "from __future__ import print_function\n",
    "from ipywidgets import interact, interactive, fixed, interact_manual\n",
    "import ipywidgets as widgets\n",
    "@interact\n",
    "def show_articles_more_than(i=(0, 566, 1)):\n",
    "    return corpus.articles[i], corpus.articles[i+189], corpus.articles[i+189]\n",
    "\n"
   ]
  },
  {
   "cell_type": "code",
   "execution_count": null,
   "metadata": {},
   "outputs": [],
   "source": []
  }
 ],
 "metadata": {
  "kernelspec": {
   "display_name": "Python 3",
   "language": "python",
   "name": "python3"
  },
  "language_info": {
   "codemirror_mode": {
    "name": "ipython",
    "version": 3
   },
   "file_extension": ".py",
   "mimetype": "text/x-python",
   "name": "python",
   "nbconvert_exporter": "python",
   "pygments_lexer": "ipython3",
   "version": "3.6.8"
  },
  "pycharm": {
   "stem_cell": {
    "cell_type": "raw",
    "metadata": {
     "collapsed": false
    },
    "source": []
   }
  }
 },
 "nbformat": 4,
 "nbformat_minor": 1
}
