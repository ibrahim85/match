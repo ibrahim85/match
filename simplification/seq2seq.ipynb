{
 "cells": [
  {
   "cell_type": "code",
   "execution_count": 1,
   "metadata": {},
   "outputs": [],
   "source": [
    "import sys\n",
    "sys.path.append(\"/home/ms10596/PycharmProjects/match\")\n",
    "from utils.one_stop_english import load_advanced_elementary"
   ]
  },
  {
   "cell_type": "code",
   "execution_count": 2,
   "metadata": {},
   "outputs": [],
   "source": [
    "advanced, elementary = load_advanced_elementary()"
   ]
  },
  {
   "cell_type": "code",
   "execution_count": 3,
   "metadata": {},
   "outputs": [
    {
     "name": "stdout",
     "output_type": "stream",
     "text": [
      "mean len of adv: 126.8915050784857\n",
      "mean len of elem: 111.70452446906741\n"
     ]
    }
   ],
   "source": [
    "from statistics import mean\n",
    "print(\"mean len of adv:\", mean([len(i) for i in advanced]))\n",
    "print(\"mean len of elem:\", mean([len(i) for i in elementary]))"
   ]
  },
  {
   "cell_type": "code",
   "execution_count": 4,
   "metadata": {},
   "outputs": [],
   "source": [
    "from tensorflow.keras.preprocessing.text import Tokenizer\n",
    "from tensorflow.keras.preprocessing.sequence import pad_sequences"
   ]
  },
  {
   "cell_type": "code",
   "execution_count": 7,
   "metadata": {},
   "outputs": [
    {
     "data": {
      "text/plain": [
       "5760"
      ]
     },
     "execution_count": 7,
     "metadata": {},
     "output_type": "execute_result"
    }
   ],
   "source": [
    "import io\n",
    "import json\n",
    "tokenizer = Tokenizer()\n",
    "tokenizer.fit_on_texts(advanced+elementary)\n",
    "tokenizer_json = tokenizer.to_json()\n",
    "with io.open('simplification_tokenizer.json', 'w', encoding='utf-8') as f:\n",
    "    f.write(json.dumps(tokenizer_json, ensure_ascii=False))\n",
    "len(tokenizer.word_index)"
   ]
  },
  {
   "cell_type": "code",
   "execution_count": 20,
   "metadata": {},
   "outputs": [
    {
     "name": "stdout",
     "output_type": "stream",
     "text": [
      "(2166,)\n",
      "[1, 3290, 475, 197, 22, 1089, 9, 34, 948, 4, 28, 5, 118, 233, 715, 412, 1430, 517, 17, 1, 164, 302, 1876, 1090, 41, 64, 1297, 1, 96, 3, 41, 277, 829, 9, 884, 1877, 1, 3291, 3, 1091, 1878, 2, 71, 204, 885, 606]\n",
      "the seattle-based company has applied for its brand to be a top-level domain name (currently .com), but the south american governments argue this would prevent the use of this internet address for environmental protection, the promotion of indigenous rights and other public interest uses.\n"
     ]
    }
   ],
   "source": [
    "source_sequences = tokenizer.texts_to_sequences(advanced)\n",
    "import numpy as np\n",
    "print(np.shape(source_sequences))\n",
    "print(source_sequences[0])\n",
    "print(advanced[0])"
   ]
  },
  {
   "cell_type": "code",
   "execution_count": 21,
   "metadata": {},
   "outputs": [
    {
     "name": "stdout",
     "output_type": "stream",
     "text": [
      "(2166,)\n",
      "[887, 22, 350, 9, 34, 197, 412, 4, 28, 5, 118, 233, 715, 412, 1430, 517, 17, 1, 164, 302, 1876, 212, 41, 64, 652, 1, 96, 3, 41, 277, 829, 9, 884, 1877, 1091, 1878, 2, 71, 204, 885, 606]\n",
      "amazon has asked for its company name to be a top-level domain name (currently .com), but the south american governments say this would stop the use of this internet address for environmental protection, indigenous rights and other public interest uses.\n"
     ]
    }
   ],
   "source": [
    "target_sequences = tokenizer.texts_to_sequences(elementary)\n",
    "print(np.shape(target_sequences))\n",
    "print(target_sequences[0])\n",
    "print(elementary[0])"
   ]
  },
  {
   "cell_type": "code",
   "execution_count": 22,
   "metadata": {},
   "outputs": [
    {
     "name": "stdout",
     "output_type": "stream",
     "text": [
      "mean len of adv: 60\n",
      "mean len of elem: 52\n"
     ]
    }
   ],
   "source": [
    "print(\"mean len of adv:\", max([len(i) for i in source_sequences]))\n",
    "print(\"mean len of elem:\", max([len(i) for i in target_sequences]))"
   ]
  },
  {
   "cell_type": "code",
   "execution_count": 23,
   "metadata": {},
   "outputs": [
    {
     "name": "stdout",
     "output_type": "stream",
     "text": [
      "(2166, 60, 5761)\n",
      "(2166, 60)\n"
     ]
    }
   ],
   "source": [
    "from tensorflow.keras.utils import to_categorical\n",
    "padded_target_sequences = pad_sequences(target_sequences, maxlen=60, padding='post', truncating='post')\n",
    "padded_source_sequences = pad_sequences(source_sequences, maxlen=60, padding='post', truncating='post')\n",
    "padded_target_sequences = to_categorical(padded_target_sequences)\n",
    "print(np.shape(padded_target_sequences))\n",
    "print(np.shape(padded_source_sequences))"
   ]
  },
  {
   "cell_type": "code",
   "execution_count": null,
   "metadata": {},
   "outputs": [],
   "source": []
  },
  {
   "cell_type": "code",
   "execution_count": 24,
   "metadata": {},
   "outputs": [
    {
     "name": "stderr",
     "output_type": "stream",
     "text": [
      "/home/ms10596/anaconda3/envs/tf/lib/python3.6/site-packages/tensorflow/python/ops/gradients_impl.py:112: UserWarning: Converting sparse IndexedSlices to a dense Tensor of unknown shape. This may consume a large amount of memory.\n",
      "  \"Converting sparse IndexedSlices to a dense Tensor of unknown shape. \"\n"
     ]
    },
    {
     "name": "stdout",
     "output_type": "stream",
     "text": [
      "Train on 1732 samples, validate on 434 samples\n",
      "Epoch 1/100\n",
      " - 28s - loss: 7.7718 - val_loss: 6.5864\n",
      "Epoch 2/100\n",
      " - 9s - loss: 6.6318 - val_loss: 6.3661\n",
      "Epoch 3/100\n",
      " - 9s - loss: 6.4832 - val_loss: 6.2783\n",
      "Epoch 4/100\n",
      " - 9s - loss: 6.4152 - val_loss: 6.2202\n",
      "Epoch 5/100\n",
      " - 9s - loss: 6.3301 - val_loss: 6.1219\n",
      "Epoch 6/100\n",
      " - 9s - loss: 6.2406 - val_loss: 6.0525\n",
      "Epoch 7/100\n",
      " - 9s - loss: 6.1631 - val_loss: 5.9741\n",
      "Epoch 8/100\n",
      " - 9s - loss: 6.0842 - val_loss: 5.9179\n",
      "Epoch 9/100\n",
      " - 9s - loss: 6.0014 - val_loss: 5.8180\n",
      "Epoch 10/100\n",
      " - 9s - loss: 5.9290 - val_loss: 5.7659\n",
      "Epoch 11/100\n",
      " - 9s - loss: 5.8569 - val_loss: 5.6825\n",
      "Epoch 12/100\n",
      " - 9s - loss: 5.7809 - val_loss: 5.6268\n",
      "Epoch 13/100\n",
      " - 9s - loss: 5.7138 - val_loss: 5.5394\n",
      "Epoch 14/100\n",
      " - 9s - loss: 5.6398 - val_loss: 5.4676\n",
      "Epoch 15/100\n",
      " - 9s - loss: 5.5681 - val_loss: 5.4194\n",
      "Epoch 16/100\n",
      " - 9s - loss: 5.5042 - val_loss: 5.3258\n",
      "Epoch 17/100\n",
      " - 9s - loss: 5.4300 - val_loss: 5.2593\n",
      "Epoch 18/100\n",
      " - 9s - loss: 5.3616 - val_loss: 5.1926\n",
      "Epoch 19/100\n",
      " - 9s - loss: 5.2907 - val_loss: 5.1173\n",
      "Epoch 20/100\n",
      " - 9s - loss: 5.2167 - val_loss: 5.0588\n",
      "Epoch 21/100\n",
      " - 9s - loss: 5.1505 - val_loss: 4.9900\n",
      "Epoch 22/100\n",
      " - 9s - loss: 5.0796 - val_loss: 4.9101\n",
      "Epoch 23/100\n",
      " - 9s - loss: 5.0080 - val_loss: 4.8398\n",
      "Epoch 24/100\n",
      " - 9s - loss: 4.9353 - val_loss: 4.7707\n",
      "Epoch 25/100\n",
      " - 9s - loss: 4.8605 - val_loss: 4.6801\n",
      "Epoch 26/100\n",
      " - 9s - loss: 4.7739 - val_loss: 4.5919\n",
      "Epoch 27/100\n",
      " - 9s - loss: 4.7031 - val_loss: 4.5142\n",
      "Epoch 28/100\n",
      " - 9s - loss: 4.6158 - val_loss: 4.4227\n",
      "Epoch 29/100\n",
      " - 9s - loss: 4.5284 - val_loss: 4.3402\n",
      "Epoch 30/100\n",
      " - 9s - loss: 4.4442 - val_loss: 4.2675\n",
      "Epoch 31/100\n",
      " - 10s - loss: 4.3631 - val_loss: 4.1704\n",
      "Epoch 32/100\n",
      " - 10s - loss: 4.2744 - val_loss: 4.0810\n",
      "Epoch 33/100\n",
      " - 10s - loss: 4.1863 - val_loss: 3.9859\n",
      "Epoch 34/100\n",
      " - 10s - loss: 4.0957 - val_loss: 3.8903\n",
      "Epoch 35/100\n",
      " - 10s - loss: 3.9981 - val_loss: 3.8044\n",
      "Epoch 36/100\n",
      " - 10s - loss: 3.9109 - val_loss: 3.7093\n",
      "Epoch 37/100\n",
      " - 10s - loss: 3.8247 - val_loss: 3.6572\n",
      "Epoch 38/100\n",
      " - 10s - loss: 3.7375 - val_loss: 3.5308\n",
      "Epoch 39/100\n",
      " - 10s - loss: 3.6446 - val_loss: 3.4532\n",
      "Epoch 40/100\n",
      " - 10s - loss: 3.5471 - val_loss: 3.3542\n",
      "Epoch 41/100\n",
      " - 10s - loss: 3.4511 - val_loss: 3.2608\n",
      "Epoch 42/100\n",
      " - 10s - loss: 3.3707 - val_loss: 3.1737\n",
      "Epoch 43/100\n",
      " - 10s - loss: 3.2798 - val_loss: 3.1056\n",
      "Epoch 44/100\n",
      " - 10s - loss: 3.2010 - val_loss: 3.0024\n",
      "Epoch 45/100\n",
      " - 9s - loss: 3.1205 - val_loss: 2.9299\n",
      "Epoch 46/100\n",
      " - 10s - loss: 3.0345 - val_loss: 2.8349\n",
      "Epoch 47/100\n",
      " - 10s - loss: 2.9477 - val_loss: 2.7541\n",
      "Epoch 48/100\n",
      " - 10s - loss: 2.8744 - val_loss: 2.6755\n",
      "Epoch 49/100\n",
      " - 10s - loss: 2.7971 - val_loss: 2.6010\n",
      "Epoch 50/100\n",
      " - 10s - loss: 2.7153 - val_loss: 2.5232\n",
      "Epoch 51/100\n",
      " - 10s - loss: 2.6425 - val_loss: 2.4555\n",
      "Epoch 52/100\n",
      " - 10s - loss: 2.5736 - val_loss: 2.3779\n",
      "Epoch 53/100\n",
      " - 10s - loss: 2.5051 - val_loss: 2.3056\n",
      "Epoch 54/100\n",
      " - 10s - loss: 2.4319 - val_loss: 2.2399\n",
      "Epoch 55/100\n",
      " - 10s - loss: 2.3641 - val_loss: 2.1949\n",
      "Epoch 56/100\n",
      " - 10s - loss: 2.3041 - val_loss: 2.1242\n",
      "Epoch 57/100\n",
      " - 10s - loss: 2.2428 - val_loss: 2.0622\n",
      "Epoch 58/100\n",
      " - 10s - loss: 2.1834 - val_loss: 2.0084\n",
      "Epoch 59/100\n",
      " - 10s - loss: 2.1245 - val_loss: 1.9627\n",
      "Epoch 60/100\n",
      " - 10s - loss: 2.0993 - val_loss: 1.9073\n",
      "Epoch 61/100\n",
      " - 10s - loss: 2.0284 - val_loss: 1.8495\n",
      "Epoch 62/100\n",
      " - 10s - loss: 1.9684 - val_loss: 1.7978\n",
      "Epoch 63/100\n",
      " - 10s - loss: 1.9138 - val_loss: 1.7482\n",
      "Epoch 64/100\n",
      " - 10s - loss: 1.8679 - val_loss: 1.6945\n",
      "Epoch 65/100\n",
      " - 10s - loss: 1.8171 - val_loss: 1.6506\n",
      "Epoch 66/100\n",
      " - 10s - loss: 1.7684 - val_loss: 1.6075\n",
      "Epoch 67/100\n",
      " - 10s - loss: 1.7281 - val_loss: 1.5650\n",
      "Epoch 68/100\n",
      " - 10s - loss: 1.6848 - val_loss: 1.5365\n",
      "Epoch 69/100\n",
      " - 10s - loss: 1.6458 - val_loss: 1.4877\n",
      "Epoch 70/100\n",
      " - 10s - loss: 1.6033 - val_loss: 1.4507\n",
      "Epoch 71/100\n",
      " - 10s - loss: 1.5656 - val_loss: 1.4089\n",
      "Epoch 72/100\n",
      " - 10s - loss: 1.5309 - val_loss: 1.3711\n",
      "Epoch 73/100\n",
      " - 10s - loss: 1.4835 - val_loss: 1.3354\n",
      "Epoch 74/100\n",
      " - 10s - loss: 1.4506 - val_loss: 1.3062\n",
      "Epoch 75/100\n",
      " - 10s - loss: 1.4156 - val_loss: 1.2727\n",
      "Epoch 76/100\n",
      " - 10s - loss: 1.3840 - val_loss: 1.2364\n",
      "Epoch 77/100\n",
      " - 10s - loss: 1.3551 - val_loss: 1.2818\n",
      "Epoch 78/100\n",
      " - 10s - loss: 1.3683 - val_loss: 1.2124\n",
      "Epoch 79/100\n",
      " - 10s - loss: 1.3246 - val_loss: 1.1739\n",
      "Epoch 80/100\n",
      " - 10s - loss: 1.2776 - val_loss: 1.1648\n",
      "Epoch 81/100\n",
      " - 10s - loss: 1.2563 - val_loss: 1.1151\n",
      "Epoch 82/100\n",
      " - 10s - loss: 1.2238 - val_loss: 1.0847\n",
      "Epoch 83/100\n",
      " - 10s - loss: 1.1994 - val_loss: 1.0810\n",
      "Epoch 84/100\n",
      " - 11s - loss: 1.1742 - val_loss: 1.0288\n",
      "Epoch 85/100\n",
      " - 11s - loss: 1.1302 - val_loss: 0.9959\n",
      "Epoch 86/100\n",
      " - 11s - loss: 1.1043 - val_loss: 0.9738\n",
      "Epoch 87/100\n",
      " - 10s - loss: 1.0723 - val_loss: 0.9479\n",
      "Epoch 88/100\n",
      " - 10s - loss: 1.0478 - val_loss: 0.9260\n",
      "Epoch 89/100\n",
      " - 10s - loss: 1.0275 - val_loss: 0.9030\n",
      "Epoch 90/100\n",
      " - 10s - loss: 1.0053 - val_loss: 0.8836\n",
      "Epoch 91/100\n",
      " - 10s - loss: 0.9784 - val_loss: 0.8595\n",
      "Epoch 92/100\n",
      " - 10s - loss: 0.9585 - val_loss: 0.8362\n",
      "Epoch 93/100\n",
      " - 10s - loss: 0.9363 - val_loss: 0.8140\n",
      "Epoch 94/100\n",
      " - 10s - loss: 0.9193 - val_loss: 0.7951\n",
      "Epoch 95/100\n",
      " - 10s - loss: 0.8962 - val_loss: 0.7782\n",
      "Epoch 96/100\n",
      " - 10s - loss: 0.8770 - val_loss: 0.7559\n",
      "Epoch 97/100\n",
      " - 10s - loss: 0.8561 - val_loss: 0.7375\n",
      "Epoch 98/100\n",
      " - 10s - loss: 0.8316 - val_loss: 0.7234\n",
      "Epoch 99/100\n",
      " - 10s - loss: 0.8263 - val_loss: 0.7122\n",
      "Epoch 100/100\n",
      " - 10s - loss: 0.8076 - val_loss: 0.6882\n"
     ]
    },
    {
     "data": {
      "text/plain": [
       "<tensorflow.python.keras.callbacks.History at 0x7f0d980768d0>"
      ]
     },
     "execution_count": 24,
     "metadata": {},
     "output_type": "execute_result"
    }
   ],
   "source": [
    "from tensorflow.keras.models import Sequential\n",
    "from tensorflow.keras.layers import LSTM, TimeDistributed, RepeatVector, Dense\n",
    "from tensorflow.python.keras.layers.embeddings import Embedding\n",
    "from tensorflow import keras\n",
    "es = keras.callbacks.EarlyStopping(monitor='val_loss',patience=10, verbose=0, mode='auto')\n",
    "\n",
    "n_units = 256\n",
    "model = Sequential()\n",
    "model.add(Embedding(5761, n_units, input_length=60, mask_zero=True))\n",
    "# model.add(LSTM(n_units))\n",
    "# model.add(RepeatVector(tar_timesteps))\n",
    "model.add(LSTM(n_units, return_sequences=True))\n",
    "model.add(TimeDistributed(Dense(5761, activation='softmax')))\n",
    "model.compile(optimizer='adam', loss='categorical_crossentropy')\n",
    "model.fit(padded_source_sequences, padded_target_sequences, epochs=100, batch_size=64, verbose=2, validation_split=0.2,callbacks=[es])"
   ]
  },
  {
   "cell_type": "code",
   "execution_count": 25,
   "metadata": {},
   "outputs": [],
   "source": [
    "id_to_word = {i:word for word,i in tokenizer.word_index.items()}\n",
    "id_to_word[0] = \"<space>\""
   ]
  },
  {
   "cell_type": "code",
   "execution_count": 26,
   "metadata": {},
   "outputs": [
    {
     "name": "stdout",
     "output_type": "stream",
     "text": [
      "china\n",
      "is\n",
      "the\n",
      "biggest\n",
      "coal\n",
      "importer\n",
      "and\n",
      "indonesia\n",
      "is\n",
      "the\n",
      "biggest\n",
      "coal\n",
      "exporter\n",
      "<space>\n",
      "<space>\n",
      "<space>\n",
      "<space>\n",
      "<space>\n",
      "<space>\n",
      "<space>\n",
      "<space>\n",
      "<space>\n",
      "<space>\n",
      "<space>\n",
      "<space>\n",
      "<space>\n",
      "<space>\n",
      "<space>\n",
      "<space>\n",
      "<space>\n",
      "<space>\n",
      "<space>\n",
      "<space>\n",
      "<space>\n",
      "<space>\n",
      "<space>\n",
      "<space>\n",
      "<space>\n",
      "<space>\n",
      "<space>\n",
      "<space>\n",
      "<space>\n",
      "<space>\n",
      "<space>\n",
      "<space>\n",
      "<space>\n",
      "<space>\n",
      "<space>\n",
      "<space>\n",
      "<space>\n",
      "<space>\n",
      "<space>\n",
      "<space>\n",
      "<space>\n",
      "<space>\n",
      "<space>\n",
      "<space>\n",
      "<space>\n",
      "<space>\n",
      "<space>\n"
     ]
    }
   ],
   "source": [
    "for i in model.predict(padded_source_sequences[50:51])[0]:\n",
    "#     print(np.shape(i))\n",
    "    val = np.argmax(i)\n",
    "    if val < 5761:\n",
    "        print(id_to_word[val])"
   ]
  },
  {
   "cell_type": "code",
   "execution_count": 27,
   "metadata": {},
   "outputs": [],
   "source": [
    "model.save('sha2y.h5')"
   ]
  },
  {
   "cell_type": "code",
   "execution_count": null,
   "metadata": {},
   "outputs": [],
   "source": [
    "def simplify(text):\n",
    "    "
   ]
  }
 ],
 "metadata": {
  "kernelspec": {
   "display_name": "Python 3",
   "language": "python",
   "name": "python3"
  },
  "language_info": {
   "codemirror_mode": {
    "name": "ipython",
    "version": 3
   },
   "file_extension": ".py",
   "mimetype": "text/x-python",
   "name": "python",
   "nbconvert_exporter": "python",
   "pygments_lexer": "ipython3",
   "version": "3.6.8"
  }
 },
 "nbformat": 4,
 "nbformat_minor": 2
}
