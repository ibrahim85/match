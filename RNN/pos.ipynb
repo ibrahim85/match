{
 "cells": [
  {
   "cell_type": "markdown",
   "metadata": {
    "slideshow": {
     "slide_type": "slide"
    }
   },
   "source": [
    "# Readability Assessment through Recurrent Neural Network"
   ]
  },
  {
   "cell_type": "markdown",
   "metadata": {
    "slideshow": {
     "slide_type": "slide"
    }
   },
   "source": [
    "Readability assessment is a well known problem in natural language processing field. Giving someone the suitable text for his level of comprehension (not so easy and not so hard) could maximize his understanding and enjoyment. In this notebook we are trying to assess the readability of a given text regardless of the text subject using recurrent neural network."
   ]
  },
  {
   "cell_type": "markdown",
   "metadata": {
    "pycharm": {
     "name": "#%% md\n"
    },
    "slideshow": {
     "slide_type": "slide"
    }
   },
   "source": [
    "## Corpus\n",
    "> OneStopEnglish corpus: A new corpus for automatic readability assessment and text simplification  \n",
    "> Sowmya Vajjala and Ivana Lučić  \n",
    "> 2018  \n",
    "> Proceedings of the Thirteenth Workshop on Innovative Use of NLP for Building Educational Applications, pages 297–304. Association for Computational Linguistics.  \n",
    "> [url](http://aclweb.org/anthology/W18-0535). [bib file](https://aclanthology.coli.uni-saarland.de/papers/W18-0535/w18-0535.bib)\n",
    "\n",
    "Please cite the above paper if you use this corpus in your research.\n",
    "\n",
    "[![DOI](https://zenodo.org/badge/128919409.svg)](https://zenodo.org/badge/latestdoi/128919409)\n",
    "\n",
    "<a rel=\"license\" href=\"http://creativecommons.org/licenses/by-sa/4.0/\"><img alt=\"Creative Commons License\" style=\"border-width:0\" src=\"https://i.creativecommons.org/l/by-sa/4.0/88x31.png\" /></a><br />This work is licensed under a <a rel=\"license\" href=\"http://creativecommons.org/licenses/by-sa/4.0/\">Creative Commons Attribution-ShareAlike 4.0 International License</a>."
   ]
  },
  {
   "cell_type": "markdown",
   "metadata": {
    "pycharm": {
     "name": "#%% md\n"
    },
    "slideshow": {
     "slide_type": "slide"
    }
   },
   "source": [
    "Now let's dive into our corpus."
   ]
  },
  {
   "cell_type": "code",
   "execution_count": 1,
   "metadata": {
    "pycharm": {
     "is_executing": false,
     "name": "#%%\n"
    },
    "slideshow": {
     "slide_type": "slide"
    }
   },
   "outputs": [],
   "source": [
    "import sys\n",
    "sys.path.append(\"/home/ms10596/PycharmProjects/match\")\n",
    "from ipywidgets import interact\n",
    "from tabulate import tabulate\n",
    "from IPython.display import display, HTML\n",
    "\n",
    "from utils.loading import load_glove_embeddings\n",
    "from utils.one_stop_english import load_corpus, corpus_to_words, corpus_to_pos, detokenize\n",
    "\n",
    "from tensorflow.keras.preprocessing.text import Tokenizer\n",
    "from tensorflow.keras.preprocessing.sequence import pad_sequences\n",
    "from tensorflow.keras.utils import to_categorical\n",
    "from tensorflow.keras.models import Sequential\n",
    "from tensorflow.keras.layers import Embedding, Flatten, Dense, LSTM, Bidirectional\n",
    "# from tensorflow.keras.engine.input_layer import Input\n",
    "\n",
    "import numpy as np\n",
    "\n",
    "# glove = load_glove_embeddings()\n",
    "corpus = load_corpus()\n",
    "articles, tags = corpus_to_words(corpus)"
   ]
  },
  {
   "cell_type": "markdown",
   "metadata": {
    "slideshow": {
     "slide_type": "slide"
    }
   },
   "source": [
    "Reading level|Avg. Num. Words|Std. Dev|Number of Articles\n",
    "---|---|---|---\n",
    "Elementary|533.17|103.79|189\n",
    "Intermediate|676.59|117.15|189\n",
    "Advanced|820.49|162.52|189\n",
    "\n"
   ]
  },
  {
   "cell_type": "code",
   "execution_count": 2,
   "metadata": {
    "pycharm": {
     "is_executing": false
    },
    "slideshow": {
     "slide_type": "subslide"
    }
   },
   "outputs": [
    {
     "data": {
      "application/vnd.jupyter.widget-view+json": {
       "model_id": "65d84330a2db4518bd67565bff0960c8",
       "version_major": 2,
       "version_minor": 0
      },
      "text/plain": [
       "interactive(children=(IntSlider(value=94, description='i', max=188), IntSlider(value=500, description='words',…"
      ]
     },
     "metadata": {},
     "output_type": "display_data"
    }
   ],
   "source": [
    "@interact\n",
    "def show_articles(i=(0,188,1), words=(0,1000,1)):\n",
    "    data = [\n",
    "        [\"Advanced\",detokenize(articles[i][:words])], \n",
    "        [\"Intermediate\",detokenize(articles[i+2][:words])], \n",
    "        [\"Elementary\",detokenize(articles[i+1][:words])]\n",
    "    ]\n",
    "    headers = ['Reading Level', 'Example']\n",
    "    display(HTML(tabulate(data,tablefmt='html', headers=headers)+\"<style>th,td {font-size: 10px}</style>\"))"
   ]
  },
  {
   "cell_type": "code",
   "execution_count": 3,
   "metadata": {
    "pycharm": {
     "is_executing": false,
     "name": "#%%\n"
    },
    "slideshow": {
     "slide_type": "slide"
    }
   },
   "outputs": [
    {
     "name": "stdout",
     "output_type": "stream",
     "text": [
      "{'nn': 1, 'in': 2, 'dt': 3, 'jj': 4, 'nns': 5, 'nnp': 6, ',': 7, '.': 8, 'rb': 9, 'prp': 10, 'vb': 11, 'vbd': 12, 'cc': 13, 'vbz': 14, 'to': 15, 'vbp': 16, 'cd': 17, 'vbn': 18, 'vbg': 19, 'prp$': 20, 'md': 21, 'wdt': 22, 'wrb': 23, 'wp': 24, 'jjr': 25, 'rp': 26, ':': 27, 'jjs': 28, 'ex': 29, 'rbr': 30, 'nnps': 31, '-rrb-': 32, '-lrb-': 33, 'rbs': 34, 'pdt': 35, '$': 36, 'fw': 37, 'uh': 38, 'wp$': 39, 'sym': 40, \"''\": 41, 'ls': 42, 'pos': 43, '``': 44}\n",
      "44\n"
     ]
    }
   ],
   "source": [
    "maxlen = 1000 # Cuts off reviews after 100 words\n",
    "training_samples = 450\n",
    "validation_samples = 117\n",
    "max_words = 45\n",
    "articles, tags = corpus_to_pos(corpus)\n",
    "tokenizer = Tokenizer(num_words=max_words)\n",
    "tokenizer.fit_on_texts(articles)\n",
    "print(tokenizer.word_index)\n",
    "print(len(tokenizer.word_index))\n"
   ]
  },
  {
   "cell_type": "code",
   "execution_count": 4,
   "metadata": {},
   "outputs": [
    {
     "name": "stdout",
     "output_type": "stream",
     "text": [
      "(567,)\n"
     ]
    }
   ],
   "source": [
    "sequences = tokenizer.texts_to_sequences(articles)\n",
    "# print(sequences)\n",
    "print(np.shape(sequences))\n"
   ]
  },
  {
   "cell_type": "code",
   "execution_count": 5,
   "metadata": {},
   "outputs": [
    {
     "name": "stdout",
     "output_type": "stream",
     "text": [
      "[[ 0  0  0 ...  2 17  8]\n",
      " [ 0  0  0 ...  2 17  8]\n",
      " [ 0  0  0 ...  2 17  8]\n",
      " ...\n",
      " [ 0  0  0 ...  4  1  8]\n",
      " [ 0  0  0 ...  4  1  8]\n",
      " [ 0  0  0 ...  4  1  8]]\n",
      "(567, 1000)\n"
     ]
    }
   ],
   "source": [
    "\n",
    "data = pad_sequences(sequences, maxlen=maxlen)\n",
    "print(data)\n",
    "print(np.shape(data))"
   ]
  },
  {
   "cell_type": "code",
   "execution_count": 6,
   "metadata": {},
   "outputs": [
    {
     "name": "stdout",
     "output_type": "stream",
     "text": [
      "(567,)\n",
      "(567, 3)\n"
     ]
    }
   ],
   "source": [
    "print(np.shape(tags))\n",
    "labels = to_categorical(tags)\n",
    "print(np.shape(labels))"
   ]
  },
  {
   "cell_type": "code",
   "execution_count": 7,
   "metadata": {},
   "outputs": [
    {
     "name": "stdout",
     "output_type": "stream",
     "text": [
      "(567, 1000) (567, 3) (1000,)\n",
      "(450, 1000) (450, 3)\n",
      "(117, 1000) (117, 3)\n"
     ]
    }
   ],
   "source": [
    "indices = np.arange(data.shape[0])\n",
    "np.random.shuffle(indices)\n",
    "data = data[indices]\n",
    "labels = labels[indices]\n",
    "print(np.shape(data), np.shape(labels), np.shape(data[0]))\n",
    "\n",
    "x_train= data[:training_samples]\n",
    "y_train= labels[:training_samples]\n",
    "print(np.shape(x_train), np.shape(y_train))\n",
    "\n",
    "x_val =data[training_samples:]\n",
    "y_val =labels[training_samples:]\n",
    "print(np.shape(x_val), np.shape(y_val))\n",
    "from tensorflow.python import keras\n"
   ]
  },
  {
   "cell_type": "code",
   "execution_count": 8,
   "metadata": {
    "pycharm": {
     "is_executing": false,
     "name": "#%%\n"
    },
    "slideshow": {
     "slide_type": "slide"
    }
   },
   "outputs": [],
   "source": [
    "data = data.reshape(data.shape[0], data.shape[1], 1)\n",
    "model = Sequential()\n",
    "model.add(Bidirectional(LSTM(100, input_shape=(1000,1), return_sequences=True)))\n",
    "model.add(Bidirectional(LSTM(100, return_sequences=True)))\n",
    "model.add(Bidirectional(LSTM(100)))\n",
    "model.add(Dense(3, activation='softmax'))\n",
    "# model.summary()"
   ]
  },
  {
   "cell_type": "code",
   "execution_count": 9,
   "metadata": {
    "pycharm": {
     "is_executing": false,
     "name": "#%%\n"
    },
    "slideshow": {
     "slide_type": "subslide"
    }
   },
   "outputs": [
    {
     "name": "stdout",
     "output_type": "stream",
     "text": [
      "Train on 453 samples, validate on 114 samples\n",
      "Epoch 1/20\n",
      "453/453 [==============================] - 123s 271ms/step - loss: 1.0201 - acc: 0.4260 - val_loss: 0.9821 - val_acc: 0.4561\n",
      "Epoch 2/20\n",
      "453/453 [==============================] - 137s 303ms/step - loss: 0.9711 - acc: 0.4570 - val_loss: 0.9677 - val_acc: 0.4474\n",
      "Epoch 3/20\n",
      "453/453 [==============================] - 129s 284ms/step - loss: 0.9402 - acc: 0.4967 - val_loss: 0.9695 - val_acc: 0.4737\n",
      "Epoch 4/20\n",
      "453/453 [==============================] - 124s 274ms/step - loss: 0.9332 - acc: 0.4945 - val_loss: 0.9711 - val_acc: 0.4474\n",
      "Epoch 5/20\n",
      "453/453 [==============================] - 122s 270ms/step - loss: 0.9357 - acc: 0.4547 - val_loss: 0.9816 - val_acc: 0.4737\n",
      "Epoch 6/20\n",
      "453/453 [==============================] - 137s 302ms/step - loss: 0.9300 - acc: 0.5011 - val_loss: 0.9792 - val_acc: 0.4825\n",
      "Epoch 7/20\n",
      "453/453 [==============================] - 124s 274ms/step - loss: 0.9385 - acc: 0.5166 - val_loss: 0.9773 - val_acc: 0.5000\n",
      "Epoch 8/20\n",
      "453/453 [==============================] - 128s 283ms/step - loss: 1.0595 - acc: 0.4768 - val_loss: 0.9620 - val_acc: 0.5088\n",
      "Epoch 9/20\n",
      "453/453 [==============================] - 144s 318ms/step - loss: 0.9347 - acc: 0.5143 - val_loss: 0.9590 - val_acc: 0.4649\n",
      "Epoch 10/20\n",
      "453/453 [==============================] - 127s 280ms/step - loss: 0.9132 - acc: 0.4945 - val_loss: 0.9560 - val_acc: 0.5175\n",
      "Epoch 11/20\n",
      "453/453 [==============================] - 131s 289ms/step - loss: 0.9665 - acc: 0.5232 - val_loss: 0.8943 - val_acc: 0.5702\n",
      "Epoch 12/20\n",
      "453/453 [==============================] - 135s 299ms/step - loss: 1.0136 - acc: 0.5519 - val_loss: 0.8920 - val_acc: 0.6053\n",
      "Epoch 13/20\n",
      "453/453 [==============================] - 124s 274ms/step - loss: 0.9473 - acc: 0.5519 - val_loss: 0.8959 - val_acc: 0.5526\n",
      "Epoch 14/20\n",
      "453/453 [==============================] - 157s 347ms/step - loss: 0.8727 - acc: 0.6181 - val_loss: 0.8100 - val_acc: 0.6316\n",
      "Epoch 15/20\n",
      "453/453 [==============================] - 129s 286ms/step - loss: 0.8288 - acc: 0.6203 - val_loss: 0.7875 - val_acc: 0.6316\n",
      "Epoch 16/20\n",
      "453/453 [==============================] - 125s 276ms/step - loss: 0.8276 - acc: 0.6071 - val_loss: 0.7894 - val_acc: 0.6228\n",
      "Epoch 17/20\n",
      "453/453 [==============================] - 145s 320ms/step - loss: 0.8200 - acc: 0.6093 - val_loss: 0.7821 - val_acc: 0.6140\n",
      "Epoch 18/20\n",
      "453/453 [==============================] - 131s 289ms/step - loss: 0.8072 - acc: 0.6225 - val_loss: 0.7675 - val_acc: 0.6930\n",
      "Epoch 19/20\n",
      "453/453 [==============================] - 138s 304ms/step - loss: 0.8260 - acc: 0.5938 - val_loss: 0.7996 - val_acc: 0.6228\n",
      "Epoch 20/20\n",
      "453/453 [==============================] - 144s 318ms/step - loss: 0.8152 - acc: 0.6071 - val_loss: 0.7812 - val_acc: 0.6491\n",
      "_________________________________________________________________\n",
      "Layer (type)                 Output Shape              Param #   \n",
      "=================================================================\n",
      "bidirectional (Bidirectional multiple                  81600     \n",
      "_________________________________________________________________\n",
      "bidirectional_1 (Bidirection multiple                  240800    \n",
      "_________________________________________________________________\n",
      "bidirectional_2 (Bidirection multiple                  240800    \n",
      "_________________________________________________________________\n",
      "dense (Dense)                multiple                  603       \n",
      "=================================================================\n",
      "Total params: 563,803\n",
      "Trainable params: 563,803\n",
      "Non-trainable params: 0\n",
      "_________________________________________________________________\n"
     ]
    }
   ],
   "source": [
    "from tensorflow.keras.callbacks import EarlyStopping\n",
    "es = EarlyStopping(monitor='acc',patience=10, verbose=1, mode='auto')\n",
    "\n",
    "model.compile(optimizer='adam',\n",
    "loss='categorical_crossentropy',\n",
    "metrics=['acc'])\n",
    "history = model.fit(data, labels,\n",
    "epochs=20,                 \n",
    "validation_split=0.2)\n",
    "model.save_weights('pre_trained_glove_model.h5')\n",
    "model.summary()"
   ]
  },
  {
   "cell_type": "code",
   "execution_count": 10,
   "metadata": {
    "pycharm": {
     "name": "#%%\n"
    },
    "slideshow": {
     "slide_type": "slide"
    }
   },
   "outputs": [
    {
     "data": {
      "image/png": "[encoded data removed]",
      "text/plain": [
       "<Figure size 432x288 with 1 Axes>"
      ]
     },
     "metadata": {
      "needs_background": "light"
     },
     "output_type": "display_data"
    },
    {
     "data": {
      "image/png": "[encoded data removed]",
      "text/plain": [
       "<Figure size 432x288 with 1 Axes>"
      ]
     },
     "metadata": {
      "needs_background": "light"
     },
     "output_type": "display_data"
    }
   ],
   "source": [
    "import matplotlib.pyplot as plt\n",
    "acc = history.history['acc']\n",
    "val_acc = history.history['val_acc']\n",
    "loss = history.history['loss']\n",
    "val_loss = history.history['val_loss']\n",
    "epochs = range(1, len(acc) + 1)\n",
    "plt.plot(epochs, acc, 'bo', label='Training acc')\n",
    "plt.plot(epochs, val_acc, 'b', label='Validation acc')\n",
    "plt.title('Training and validation accuracy')\n",
    "plt.legend()\n",
    "plt.figure()\n",
    "plt.plot(epochs, loss, 'bo', label='Training loss')\n",
    "plt.plot(epochs, val_loss, 'b', label='Validation loss')\n",
    "plt.title('Training and validation loss')\n",
    "plt.legend()\n",
    "plt.show()\n",
    "\n",
    "\n"
   ]
  },
  {
   "cell_type": "code",
   "execution_count": null,
   "metadata": {},
   "outputs": [],
   "source": []
  }
 ],
 "metadata": {
  "kernelspec": {
   "display_name": "Python 3",
   "language": "python",
   "name": "python3"
  },
  "language_info": {
   "codemirror_mode": {
    "name": "ipython",
    "version": 3
   },
   "file_extension": ".py",
   "mimetype": "text/x-python",
   "name": "python",
   "nbconvert_exporter": "python",
   "pygments_lexer": "ipython3",
   "version": "3.6.8"
  },
  "pycharm": {
   "stem_cell": {
    "cell_type": "raw",
    "metadata": {
     "collapsed": false
    },
    "source": []
   }
  }
 },
 "nbformat": 4,
 "nbformat_minor": 1
}
